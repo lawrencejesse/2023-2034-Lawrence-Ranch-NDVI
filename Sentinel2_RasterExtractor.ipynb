{
  "nbformat": 4,
  "nbformat_minor": 0,
  "metadata": {
    "colab": {
      "provenance": [],
      "authorship_tag": "ABX9TyP2uOYUZlsQO+bnuVRlriQw",
      "include_colab_link": true
    },
    "kernelspec": {
      "name": "python3",
      "display_name": "Python 3"
    },
    "language_info": {
      "name": "python"
    }
  },
  "cells": [
    {
      "cell_type": "markdown",
      "metadata": {
        "id": "view-in-github",
        "colab_type": "text"
      },
      "source": [
        "<a href=\"https://colab.research.google.com/github/lawrencejesse/2023-2034-Lawrence-Ranch-NDVI/blob/main/Sentinel2_RasterExtractor.ipynb\" target=\"_parent\"><img src=\"https://colab.research.google.com/assets/colab-badge.svg\" alt=\"Open In Colab\"/></a>"
      ]
    },
    {
      "cell_type": "code",
      "execution_count": null,
      "metadata": {
        "id": "02-n2ESK-jdH"
      },
      "outputs": [],
      "source": []
    },
    {
      "cell_type": "markdown",
      "metadata": {
        "id": "43fdf75a"
      },
      "source": [
        "## Packaging and Download\n",
        "\n",
        "### Subtask:\n",
        "Zip the exported GeoTIFFs in the `/content/exports` directory and provide a download link for the zip file."
      ]
    },
    {
      "cell_type": "markdown",
      "metadata": {
        "id": "08ae7542"
      },
      "source": [
        "**Reasoning**:\n",
        "Use the `zip` command to create a zip archive of the exported files and then provide a link to download the created zip file."
      ]
    },
    {
      "cell_type": "code",
      "metadata": {
        "id": "80674d8f"
      },
      "source": [
        "import os\n",
        "from google.colab import files\n",
        "\n",
        "def zip_and_download_exports():\n",
        "    export_dir = '/content/exports'\n",
        "    zip_filename = 'ndvi_exports.zip'\n",
        "    zip_filepath = f'/content/{zip_filename}'\n",
        "\n",
        "    if os.path.exists(export_dir) and os.listdir(export_dir):\n",
        "        # Create a zip archive of the exported files\n",
        "        !zip -r $zip_filepath $export_dir\n",
        "\n",
        "        # Provide a download link for the zip file\n",
        "        print(f\"Your files are ready for download. Click the link below to download {zip_filename}\")\n",
        "        files.download(zip_filepath)\n",
        "    else:\n",
        "        print(\"No files found in the export directory to zip.\")\n",
        "\n",
        "# You can call this function after the export tasks are complete and the files are in the /content/exports directory.\n",
        "# Note: Earth Engine exports to Drive are asynchronous. You'll need to wait for them to complete before zipping.\n",
        "# A more robust solution would involve monitoring the tasks, but for simplicity, you can manually run this cell after exports are finished."
      ],
      "execution_count": null,
      "outputs": []
    },
    {
      "cell_type": "markdown",
      "metadata": {
        "id": "08289e17"
      },
      "source": [
        "## Data Export\n",
        "\n",
        "### Subtask:\n",
        "Implement the export logic, including handling individual image export and optional mean NDVI export."
      ]
    },
    {
      "cell_type": "markdown",
      "metadata": {
        "id": "821d7867"
      },
      "source": [
        "**Reasoning**:\n",
        "Define a function `export_ndvi` that takes the processed collection, AOI, start date, end date, and the mean NDVI toggle status as input. Inside the function, check if the mean NDVI toggle is on. If so, compute the mean NDVI for the collection and export it. Otherwise, iterate through the collection and export each image individually, clipping to the AOI and using descriptive filenames."
      ]
    },
    {
      "cell_type": "code",
      "metadata": {
        "id": "9647dbca"
      },
      "source": [
        "import os\n",
        "import ee.batch\n",
        "\n",
        "def export_ndvi(processed_collection, aoi, start_date, end_date, export_mean=False):\n",
        "    \"\"\"\n",
        "    Exports the processed NDVI images as GeoTIFFs.\n",
        "\n",
        "    Args:\n",
        "        processed_collection (ee.ImageCollection): The processed Sentinel-2 image collection with NDVI.\n",
        "        aoi (ee.FeatureCollection or ee.Geometry): The area of interest.\n",
        "        start_date (str): The start date in 'YYYY-MM-DD' format.\n",
        "        end_date (str): The end date in 'YYYY-MM-DD' format.\n",
        "        export_mean (bool): Whether to export the mean NDVI for the date range.\n",
        "    \"\"\"\n",
        "    export_dir = '/content/exports'\n",
        "    if not os.path.exists(export_dir):\n",
        "        os.makedirs(export_dir)\n",
        "\n",
        "    if export_mean:\n",
        "        print(\"Exporting mean NDVI...\")\n",
        "        mean_ndvi_image = processed_collection.mean().clip(aoi)\n",
        "        filename = f'NDVI_Mean_{start_date.replace(\"-\", \"\")}_{end_date.replace(\"-\", \"\")}.tif'\n",
        "        task = ee.batch.Export.image.toDrive(\n",
        "            image=mean_ndvi_image,\n",
        "            description=filename,\n",
        "            folder='earth_engine_exports', # You can change this folder name in your Google Drive\n",
        "            fileNamePrefix=filename.replace('.tif', ''),\n",
        "            scale=10,\n",
        "            region=aoi.geometry(),\n",
        "            fileFormat='GeoTIFF',\n",
        "            crs='EPSG:4326'\n",
        "        )\n",
        "        task.start()\n",
        "        print(f\"Mean NDVI export task started: {task.id}\")\n",
        "    else:\n",
        "        print(\"Exporting individual NDVI images...\")\n",
        "        image_list = processed_collection.toList(processed_collection.size())\n",
        "\n",
        "        for i in range(image_list.size().getInfo()):\n",
        "            image = ee.Image(image_list.get(i)).clip(aoi)\n",
        "            image_date = ee.Image(image_list.get(i)).date().format('YYYYMMDD').getInfo()\n",
        "            filename = f'NDVI_{image_date}.tif' # AOINAME is not available, using date only\n",
        "            task = ee.batch.Export.image.toDrive(\n",
        "                image=image,\n",
        "                description=filename,\n",
        "                folder='earth_engine_exports', # You can change this folder name in your Google Drive\n",
        "                fileNamePrefix=filename.replace('.tif', ''),\n",
        "                scale=10,\n",
        "                region=aoi.geometry(),\n",
        "                fileFormat='GeoTIFF',\n",
        "                crs='EPSG:4326'\n",
        "            )\n",
        "            task.start()\n",
        "            print(f\"Export task for {filename} started: {task.id}\")"
      ],
      "execution_count": null,
      "outputs": []
    },
    {
      "cell_type": "markdown",
      "metadata": {
        "id": "d8763ab5"
      },
      "source": [
        "## Sentinel-2 Data Processing\n",
        "\n",
        "### Subtask:\n",
        "Define a function to build the Sentinel-2 collection, apply a cloud mask using the SCL band, and compute the NDVI."
      ]
    },
    {
      "cell_type": "markdown",
      "metadata": {
        "id": "ac839357"
      },
      "source": [
        "**Reasoning**:\n",
        "Define a function `process_sentinel2` that takes the AOI, start date, and end date as input. Inside the function, filter the Sentinel-2 collection by date and bounds, apply the cloud mask, and compute the NDVI."
      ]
    },
    {
      "cell_type": "code",
      "metadata": {
        "id": "6e2d21a4"
      },
      "source": [
        "def process_sentinel2(aoi, start_date, end_date):\n",
        "    \"\"\"\n",
        "    Builds the Sentinel-2 collection, applies cloud masking, and computes NDVI.\n",
        "\n",
        "    Args:\n",
        "        aoi (ee.FeatureCollection or ee.Geometry): The area of interest.\n",
        "        start_date (str): The start date in 'YYYY-MM-DD' format.\n",
        "        end_date (str): The end date in 'YYYY-MM-DD' format.\n",
        "\n",
        "    Returns:\n",
        "        ee.ImageCollection: The processed Sentinel-2 image collection with NDVI.\n",
        "    \"\"\"\n",
        "    # Filter Sentinel-2 SR Harmonized collection by date and bounds\n",
        "    collection = ee.ImageCollection('COPERNICUS/S2_SR_HARMONIZED') \\\n",
        "        .filterDate(start_date, end_date) \\\n",
        "        .filterBounds(aoi)\n",
        "\n",
        "    # Function to mask clouds using the Sentinel-2 SCL band\n",
        "    def mask_clouds(image):\n",
        "        scl = image.select('SCL')\n",
        "        # These are the pixel values for clouds, cloud shadows, and snow.\n",
        "        cloud_mask = scl.neq(3).And(scl.neq(8)).And(scl.neq(9)).And(scl.neq(10)).And(scl.neq(11))\n",
        "        return image.updateMask(cloud_mask)\n",
        "\n",
        "    # Apply cloud mask and compute NDVI\n",
        "    def compute_ndvi(image):\n",
        "        # Scale reflectance bands\n",
        "        scaled_image = image.select(['B4', 'B8']).multiply(0.0001)\n",
        "        ndvi = scaled_image.normalizedDifference(['B8', 'B4']).rename('NDVI')\n",
        "        return image.addBands(ndvi)\n",
        "\n",
        "    processed_collection = collection.map(mask_clouds).map(compute_ndvi)\n",
        "\n",
        "    return processed_collection.select('NDVI')"
      ],
      "execution_count": null,
      "outputs": []
    },
    {
      "cell_type": "markdown",
      "metadata": {
        "id": "2d1bbf69"
      },
      "source": [
        "# Task\n",
        "Build a Google Colab notebook in Python that allows users to upload a polygon file (KML, GeoJSON, or zipped Shapefile), parse it as an AOI in WGS84, preview the AOI on a map, select a date range using widgets, download cloud-masked Sentinel-2 NDVI GeoTIFFs for the AOI and date range (clipped to AOI if possible), save them with descriptive filenames to `/content/exports`, zip the files, and provide a download link. Include an optional toggle to export a single mean NDVI for the date range. The notebook should use `earthengine-api`, `geemap`, and `ipywidgets`, authenticate with Earth Engine, use Sentinel-2 SR Harmonized (COPERNICUS/S2_SR_HARMONIZED) with SCL cloud masking, compute NDVI after scaling reflectance by 0.0001, and output GeoTIFFs at 10m scale in EPSG:4326."
      ]
    },
    {
      "cell_type": "markdown",
      "metadata": {
        "id": "2b685fb7"
      },
      "source": [
        "## Setup and authentication\n",
        "\n",
        "### Subtask:\n",
        "Install necessary libraries (`earthengine-api`, `geemap`, `ipywidgets`), authenticate with Earth Engine, and initialize it.\n"
      ]
    },
    {
      "cell_type": "markdown",
      "metadata": {
        "id": "8ea63e55"
      },
      "source": [
        "**Reasoning**:\n",
        "Install the necessary libraries using pip.\n",
        "\n"
      ]
    },
    {
      "cell_type": "code",
      "metadata": {
        "id": "bd1cf86b"
      },
      "source": [
        "%pip install -U -q earthengine-api geemap ipywidgets"
      ],
      "execution_count": null,
      "outputs": []
    },
    {
      "cell_type": "markdown",
      "metadata": {
        "id": "c15d5d0c"
      },
      "source": [
        "**Reasoning**:\n",
        "Authenticate and initialize Earth Engine.\n",
        "\n"
      ]
    },
    {
      "cell_type": "code",
      "metadata": {
        "id": "f8bb092f"
      },
      "source": [
        "import ee\n",
        "\n",
        "try:\n",
        "    ee.Initialize()\n",
        "    print('Google Earth Engine has been successfully initialized.')\n",
        "except Exception as e:\n",
        "    print(f'Failed to initialize Google Earth Engine: {e}')\n",
        "    print('Please authenticate with Google Earth Engine by running ee.Authenticate() in a separate cell.')\n"
      ],
      "execution_count": null,
      "outputs": []
    },
    {
      "cell_type": "markdown",
      "metadata": {
        "id": "04d93467"
      },
      "source": [
        "**Reasoning**:\n",
        "Authenticate Earth Engine as instructed by the error message.\n",
        "\n"
      ]
    },
    {
      "cell_type": "code",
      "metadata": {
        "id": "b241cb61"
      },
      "source": [
        "ee.Authenticate()"
      ],
      "execution_count": null,
      "outputs": []
    },
    {
      "cell_type": "markdown",
      "metadata": {
        "id": "7d493b8e"
      },
      "source": [
        "**Reasoning**:\n",
        "Re-initialize Earth Engine after successful authentication.\n",
        "\n"
      ]
    },
    {
      "cell_type": "code",
      "metadata": {
        "id": "9e182db2"
      },
      "source": [
        "try:\n",
        "    ee.Initialize()\n",
        "    print('Google Earth Engine has been successfully initialized after authentication.')\n",
        "except Exception as e:\n",
        "    print(f'Failed to initialize Google Earth Engine after authentication: {e}')"
      ],
      "execution_count": null,
      "outputs": []
    },
    {
      "cell_type": "markdown",
      "metadata": {
        "id": "3594209b"
      },
      "source": [
        "**Reasoning**:\n",
        "Re-initialize Earth Engine with a project ID as instructed by the error message.\n",
        "\n"
      ]
    },
    {
      "cell_type": "code",
      "metadata": {
        "id": "ecf2b859"
      },
      "source": [
        "try:\n",
        "    ee.Initialize(project='jessemapping')\n",
        "    print('Google Earth Engine has been successfully initialized with a project.')\n",
        "except Exception as e:\n",
        "    print(f'Failed to initialize Google Earth Engine with a project: {e}')"
      ],
      "execution_count": null,
      "outputs": []
    },
    {
      "cell_type": "markdown",
      "metadata": {
        "id": "0e9b45d9"
      },
      "source": [
        "## Aoi upload and visualization\n",
        "\n",
        "### Subtask:\n",
        "Create functionality to upload a polygon file (KML, GeoJSON, or zipped Shapefile), parse it as an Earth Engine feature collection in WGS84, and display it on an interactive map using `geemap` with a satellite basemap, ensuring it's centered and visible.\n"
      ]
    },
    {
      "cell_type": "markdown",
      "metadata": {
        "id": "413b1099"
      },
      "source": [
        "**Reasoning**:\n",
        "Import necessary libraries and create a file upload widget.\n",
        "\n"
      ]
    },
    {
      "cell_type": "code",
      "metadata": {
        "id": "b61aff89"
      },
      "source": [
        "import ipywidgets as widgets\n",
        "import geemap\n",
        "import os\n",
        "\n",
        "# Define the handle_upload function here\n",
        "def handle_upload(change):\n",
        "    print(\"handle_upload function triggered.\") # Debug print\n",
        "    uploaded_file = upload_widget.value[0]\n",
        "    file_name = uploaded_file['name']\n",
        "    file_content = uploaded_file['content']\n",
        "\n",
        "    global aoi # Declare aoi as global\n",
        "    aoi = None # Reset aoi\n",
        "    print(f\"Processing file: {file_name}\") # Debug print\n",
        "\n",
        "    try:\n",
        "        if file_name.endswith('.kml'):\n",
        "            # Save content to a temporary KML file\n",
        "            with open(file_name, 'wb') as f:\n",
        "                f.write(file_content)\n",
        "            aoi = geemap.kml_to_ee(file_name)\n",
        "            os.remove(file_name) # Clean up temporary file\n",
        "        elif file_name.endswith('.geojson'):\n",
        "            # Save content to a temporary GeoJSON file\n",
        "            with open(file_name, 'wb') as f:\n",
        "                f.write(file_content)\n",
        "            aoi = geemap.geojson_to_ee(file_name)\n",
        "            os.remove(file_name) # Clean up temporary file\n",
        "        elif file_name.endswith('.zip'):\n",
        "            # Save content to a temporary zip file\n",
        "            with open(file_name, 'wb') as f:\n",
        "                f.write(file_content)\n",
        "            aoi = geemap.shp_to_ee(file_name)\n",
        "            os.remove(file_name) # Clean up temporary file\n",
        "        else:\n",
        "            print(\"Unsupported file type.\")\n",
        "            return\n",
        "\n",
        "        if aoi:\n",
        "            # Ensure the AOI is in WGS84 (EPSG:4326) with a non-zero error margin\n",
        "            aoi = aoi.geometry().transform('EPSG:4326', 1) # Added maxError=1\n",
        "            print(\"AOI uploaded and processed successfully.\") # Debug print\n",
        "            print(\"Run the next cell to display the map.\")\n",
        "        else:\n",
        "            print(\"Failed to process the uploaded file: AOI is None.\") # Debug print\n",
        "\n",
        "    except Exception as e:\n",
        "        print(f\"An error occurred during file processing: {e}\") # Debug print\n",
        "        aoi = None # Ensure aoi is None if processing fails\n",
        "\n",
        "\n",
        "upload_widget = widgets.FileUpload(\n",
        "    accept='.kml,.geojson,.zip',\n",
        "    multiple=False\n",
        ")\n",
        "\n",
        "display(upload_widget)\n",
        "\n",
        "# Attach the observer to the widget\n",
        "upload_widget.observe(handle_upload, names='value')"
      ],
      "execution_count": null,
      "outputs": []
    },
    {
      "cell_type": "markdown",
      "metadata": {
        "id": "0dbd7800"
      },
      "source": [
        "**Reasoning**:\n",
        "Define the function to handle file uploads, parse the file as an Earth Engine feature collection, and display it on a map.\n",
        "\n"
      ]
    },
    {
      "cell_type": "code",
      "metadata": {
        "id": "fb9c4654"
      },
      "source": [
        "# This cell is no longer needed as handle_upload and the observer are in the same cell as the widget."
      ],
      "execution_count": null,
      "outputs": []
    },
    {
      "cell_type": "markdown",
      "metadata": {
        "id": "355b1cb7"
      },
      "source": [
        "**Reasoning**:\n",
        "Add a new cell to display the map with the uploaded AOI after the file has been processed by the `handle_upload` function."
      ]
    },
    {
      "cell_type": "code",
      "metadata": {
        "id": "07700b31"
      },
      "source": [
        "# Display the AOI on a map after upload\n",
        "if 'aoi' in globals() and aoi is not None:\n",
        "    m = geemap.Map(basemap='SATELLITE')\n",
        "    m.addLayer(ee.FeatureCollection(aoi), {}, 'Uploaded AOI')\n",
        "    m.centerObject(aoi)\n",
        "    display(m)\n",
        "else:\n",
        "    print(\"Please upload an AOI using the widget above first.\")"
      ],
      "execution_count": null,
      "outputs": []
    },
    {
      "cell_type": "markdown",
      "metadata": {
        "id": "6d44950b"
      },
      "source": [
        "## Interactive widgets for date and export\n",
        "\n",
        "### Subtask:\n",
        "Add `ipywidgets` for selecting a start and end date and a button to trigger the data export process. Include a toggle for exporting the mean NDVI.\n"
      ]
    },
    {
      "cell_type": "markdown",
      "metadata": {
        "id": "8d654b38"
      },
      "source": [
        "**Reasoning**:\n",
        "Create and display the date picker widgets, the mean NDVI checkbox, and the export button as specified in the instructions.\n",
        "\n"
      ]
    },
    {
      "cell_type": "code",
      "metadata": {
        "id": "8e6c47aa"
      },
      "source": [
        "from datetime import datetime\n",
        "import ipywidgets as widgets\n",
        "\n",
        "start_date_widget = widgets.DatePicker(\n",
        "    description='Start Date:',\n",
        "    disabled=False,\n",
        "    value=datetime(2023, 1, 1)\n",
        ")\n",
        "\n",
        "end_date_widget = widgets.DatePicker(\n",
        "    description='End Date:',\n",
        "    disabled=False,\n",
        "    value=datetime(2023, 12, 31)\n",
        ")\n",
        "\n",
        "mean_ndvi_toggle = widgets.Checkbox(\n",
        "    value=False,\n",
        "    description='Export Mean NDVI Only',\n",
        "    disabled=False,\n",
        "    indent=False\n",
        ")\n",
        "\n",
        "export_button = widgets.Button(\n",
        "    description='Start Export',\n",
        "    disabled=False,\n",
        "    button_style='',\n",
        "    tooltip='Click to start the export process',\n",
        "    icon='download'\n",
        ")\n",
        "\n",
        "display(start_date_widget, end_date_widget, mean_ndvi_toggle, export_button)\n",
        "\n",
        "# Attach the export function to the button click event\n",
        "def on_export_button_clicked(b):\n",
        "    if 'aoi' not in globals():\n",
        "        print(\"Please upload an AOI first.\")\n",
        "        return\n",
        "\n",
        "    start_date_str = start_date_widget.value.strftime('%Y-%m-%d')\n",
        "    end_date_str = end_date_widget.value.strftime('%Y-%m-%d')\n",
        "    export_mean = mean_ndvi_toggle.value\n",
        "\n",
        "    processed_collection = process_sentinel2(aoi, start_date_str, end_date_str)\n",
        "\n",
        "    export_ndvi(processed_collection, aoi, start_date_str, end_date_str, export_mean)\n",
        "\n",
        "export_button.on_click(on_export_button_clicked)"
      ],
      "execution_count": null,
      "outputs": []
    },
    {
      "cell_type": "markdown",
      "metadata": {
        "id": "a2409d85"
      },
      "source": [
        "# Task\n",
        "Build a Google Colab notebook in Python that allows users to upload a polygon file (KML, GeoJSON, or zipped Shapefile), parse it as an AOI in WGS84 (EPSG:4326), preview the AOI on a simple map with a Google Satellite basemap, select a date range using widgets, filter for cloud-free Sentinel-2 images within the AOI and date range, display the dates of available images for user selection, download the selected cloud-masked Sentinel-2 NDVI GeoTIFFs clipped to the AOI (or filtered by bounds), save the GeoTIFFs with descriptive filenames to `/content/exports`, zip the exported files, and provide a download link. The notebook should use `earthengine-api`, `geemap`, and `ipywidgets`, authenticate with Earth Engine, use Sentinel-2 SR Harmonized (COPERNICUS/S2_SR_HARMONIZED) and mask clouds with SCL, compute NDVI ((B8-B4)/(B8+B4)) after scaling reflectance by 0.0001, use a scale of 10m and EPSG:4326 output. Optionally, include a toggle to export a single mean NDVI for the selected dates."
      ]
    },
    {
      "cell_type": "markdown",
      "metadata": {
        "id": "65c85f88"
      },
      "source": [
        "## Interactive widgets for date selection\n",
        "\n",
        "### Subtask:\n",
        "Add `ipywidgets` for selecting a start and end date.\n"
      ]
    },
    {
      "cell_type": "markdown",
      "metadata": {
        "id": "83f85397"
      },
      "source": [
        "**Reasoning**:\n",
        "The traceback indicates that the `aoi` object, which is an `ee.Geometry`, does not have a `.geometry()` method called in the `export_ndvi` function. The `ee.batch.Export.image.toDrive` function expects a `region` parameter which should be an `ee.Geometry`. Since the `aoi` is already an `ee.Geometry` after being transformed in the `handle_upload` function, calling `.geometry()` on it is incorrect. I will correct the call in the `export_ndvi` function.\n",
        "\n"
      ]
    },
    {
      "cell_type": "code",
      "metadata": {
        "id": "32222955"
      },
      "source": [
        "from datetime import datetime\n",
        "import ipywidgets as widgets\n",
        "\n",
        "start_date_widget = widgets.DatePicker(\n",
        "    description='Start Date:',\n",
        "    disabled=False,\n",
        "    value=datetime(2023, 1, 1)\n",
        ")\n",
        "\n",
        "end_date_widget = widgets.DatePicker(\n",
        "    description='End Date:',\n",
        "    disabled=False,\n",
        "    value=datetime(2023, 12, 31)\n",
        ")\n",
        "\n",
        "mean_ndvi_toggle = widgets.Checkbox(\n",
        "    value=False,\n",
        "    description='Export Mean NDVI Only',\n",
        "    disabled=False,\n",
        "    indent=False\n",
        ")\n",
        "\n",
        "export_button = widgets.Button(\n",
        "    description='Start Export',\n",
        "    disabled=False,\n",
        "    button_style='',\n",
        "    tooltip='Click to start the export process',\n",
        "    icon='download'\n",
        ")\n",
        "\n",
        "display(start_date_widget, end_date_widget, mean_ndvi_toggle, export_button)\n",
        "\n",
        "# Attach the export function to the button click event\n",
        "def on_export_button_clicked(b):\n",
        "    if 'aoi' not in globals() or aoi is None:\n",
        "        print(\"Please upload an AOI first.\")\n",
        "        return\n",
        "\n",
        "    start_date_str = start_date_widget.value.strftime('%Y-%m-%d')\n",
        "    end_date_str = end_date_widget.value.strftime('%Y-%m-%d')\n",
        "    export_mean = mean_ndvi_toggle.value\n",
        "\n",
        "    processed_collection = process_sentinel2(aoi, start_date_str, end_date_str)\n",
        "\n",
        "    export_ndvi(processed_collection, aoi, start_date_str, end_date_str, export_mean)\n",
        "\n",
        "export_button.on_click(on_export_button_clicked)\n",
        "\n",
        "# Correct the export_ndvi function to use aoi directly as region\n",
        "def export_ndvi(processed_collection, aoi, start_date, end_date, export_mean=False):\n",
        "    \"\"\"\n",
        "    Exports the processed NDVI images as GeoTIFFs.\n",
        "\n",
        "    Args:\n",
        "        processed_collection (ee.ImageCollection): The processed Sentinel-2 image collection with NDVI.\n",
        "        aoi (ee.FeatureCollection or ee.Geometry): The area of interest.\n",
        "        start_date (str): The start date in 'YYYY-MM-DD' format.\n",
        "        end_date (str): The end date in 'YYYY-MM-DD' format.\n",
        "        export_mean (bool): Whether to export the mean NDVI for the date range.\n",
        "    \"\"\"\n",
        "    export_dir = '/content/exports'\n",
        "    if not os.path.exists(export_dir):\n",
        "        os.makedirs(export_dir)\n",
        "\n",
        "    if export_mean:\n",
        "        print(\"Exporting mean NDVI...\")\n",
        "        mean_ndvi_image = processed_collection.mean().clip(aoi)\n",
        "        filename = f'NDVI_Mean_{start_date.replace(\"-\", \"\")}_{end_date.replace(\"-\", \"\")}.tif'\n",
        "        task = ee.batch.Export.image.toDrive(\n",
        "            image=mean_ndvi_image,\n",
        "            description=filename,\n",
        "            folder='earth_engine_exports', # You can change this folder name in your Google Drive\n",
        "            fileNamePrefix=filename.replace('.tif', ''),\n",
        "            scale=10,\n",
        "            region=aoi, # Corrected: Use aoi directly as it's already a Geometry\n",
        "            fileFormat='GeoTIFF',\n",
        "            crs='EPSG:4326'\n",
        "        )\n",
        "        task.start()\n",
        "        print(f\"Mean NDVI export task started: {task.id}\")\n",
        "    else:\n",
        "        print(\"Exporting individual NDVI images...\")\n",
        "        image_list = processed_collection.toList(processed_collection.size())\n",
        "\n",
        "        for i in range(image_list.size().getInfo()):\n",
        "            image = ee.Image(image_list.get(i)).clip(aoi)\n",
        "            image_date = ee.Image(image_list.get(i)).date().format('YYYYMMDD').getInfo()\n",
        "            filename = f'NDVI_{image_date}.tif' # AOINAME is not available, using date only\n",
        "            task = ee.batch.Export.image.toDrive(\n",
        "                image=image,\n",
        "                description=filename,\n",
        "                folder='earth_engine_exports', # You can change this folder name in your Google Drive\n",
        "                fileNamePrefix=filename.replace('.tif', ''),\n",
        "                scale=10,\n",
        "                region=aoi, # Corrected: Use aoi directly as it's already a Geometry\n",
        "                fileFormat='GeoTIFF',\n",
        "                crs='EPSG:4326'\n",
        "            )\n",
        "            task.start()\n",
        "            print(f\"Export task for {filename} started: {task.id}\")"
      ],
      "execution_count": null,
      "outputs": []
    },
    {
      "cell_type": "markdown",
      "metadata": {
        "id": "cbd46437"
      },
      "source": [
        "## Filter and display available dates\n",
        "\n",
        "### Subtask:\n",
        "Filter the Sentinel-2 collection by the selected date range and AOI, apply the cloud mask, and extract the dates of the available cloud-free images. Display these dates to the user, possibly using a selectable list or checkboxes.\n"
      ]
    },
    {
      "cell_type": "markdown",
      "metadata": {
        "id": "b20645e0"
      },
      "source": [
        "**Reasoning**:\n",
        "Define the `get_available_dates` function to filter the Sentinel-2 collection by date and AOI, apply the cloud mask, and extract the dates of the available images. Then, modify the `on_export_button_clicked` function to call this function and display the dates using an Output widget.\n",
        "\n"
      ]
    },
    {
      "cell_type": "markdown",
      "metadata": {
        "id": "11119aa4"
      },
      "source": [
        "## Select dates for export\n",
        "\n",
        "### Subtask:\n",
        "Allow the user to select which of the available dates they want to export.\n"
      ]
    },
    {
      "cell_type": "markdown",
      "metadata": {
        "id": "08a09e29"
      },
      "source": [
        "**Reasoning**:\n",
        "Modify the `on_export_button_clicked` function to display a `SelectMultiple` widget with the available dates, and create a new button `process_selected_button` that will handle the export based on the selected dates.\n",
        "\n"
      ]
    },
    {
      "cell_type": "markdown",
      "metadata": {
        "id": "19f0ac92"
      },
      "source": [
        "## Packaging and download\n",
        "\n",
        "### Subtask:\n",
        "Zip the exported GeoTIFFs in the `/content/exports` directory and provide a download link for the zip file.\n"
      ]
    },
    {
      "cell_type": "markdown",
      "metadata": {
        "id": "9a5d7c1f"
      },
      "source": [
        "**Reasoning**:\n",
        "Call the zip_and_download_exports() function to zip the exported files and initiate the download.\n",
        "\n"
      ]
    },
    {
      "cell_type": "markdown",
      "metadata": {
        "id": "315268ca"
      },
      "source": [
        "## Packaging and download\n",
        "\n",
        "### Subtask:\n",
        "Retry zipping the exported GeoTIFFs in the `/content/exports` directory and provide a download link for the zip file.\n"
      ]
    },
    {
      "cell_type": "markdown",
      "metadata": {
        "id": "b202a06b"
      },
      "source": [
        "**Reasoning**:\n",
        "Call the `zip_and_download_exports()` function again to attempt to zip the exported files and provide a download link. This step is a direct retry of the previous failed attempt, assuming the user might have manually transferred files to the `/content/exports` directory or the Earth Engine exports have completed and been transferred by another mechanism (which is outside the scope of this automated process but necessary for the function to succeed).\n",
        "\n"
      ]
    },
    {
      "cell_type": "markdown",
      "metadata": {
        "id": "fe69a0d4"
      },
      "source": [
        "## Summary:\n",
        "\n",
        "### Data Analysis Key Findings\n",
        "\n",
        "*   Interactive date pickers and a toggle for mean NDVI export were successfully implemented using `ipywidgets`.\n",
        "*   The capability to filter Sentinel-2 images by AOI and date range, apply a cloud mask, and retrieve the dates of available cloud-free images was added.\n",
        "*   An interactive `SelectMultiple` widget was introduced to allow users to choose specific dates for export from the list of available dates.\n",
        "*   The export logic was modified to process and export either individual NDVI images or the mean NDVI based on the dates selected by the user.\n",
        "*   Attempts to zip and provide a download link for exported files from the `/content/exports` directory failed because no files were found in the directory, indicating that the asynchronous Earth Engine export tasks to Google Drive likely did not complete or were not transferred back to the Colab environment before the zipping step.\n",
        "\n",
        "### Insights or Next Steps\n",
        "\n",
        "*   The asynchronous nature of Earth Engine exports to Google Drive requires implementing a mechanism to monitor task completion and transfer the files to the Colab environment's local storage (`/content/exports`) *before* attempting to zip them.\n",
        "*   Consider adding visual feedback or a progress bar to indicate the status of Earth Engine export tasks to the user.\n"
      ]
    }
  ]
}