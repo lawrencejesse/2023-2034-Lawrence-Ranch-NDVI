{
  "nbformat": 4,
  "nbformat_minor": 0,
  "metadata": {
    "colab": {
      "provenance": [],
      "include_colab_link": true
    },
    "kernelspec": {
      "name": "python3",
      "display_name": "Python 3"
    },
    "language_info": {
      "name": "python"
    }
  },
  "cells": [
    {
      "cell_type": "markdown",
      "metadata": {
        "id": "view-in-github",
        "colab_type": "text"
      },
      "source": [
        "<a href=\"https://colab.research.google.com/github/lawrencejesse/2023-2034-Lawrence-Ranch-NDVI/blob/main/Agentic_RAG_with_HuggingFace_smolagents.ipynb\" target=\"_parent\"><img src=\"https://colab.research.google.com/assets/colab-badge.svg\" alt=\"Open In Colab\"/></a>"
      ]
    },
    {
      "cell_type": "markdown",
      "source": [
        "# Agentic RAG with Hugging Face smolagents vs Vanilla RAG"
      ],
      "metadata": {
        "id": "eP8srgnBN7qG"
      }
    },
    {
      "cell_type": "markdown",
      "source": [
        "Author: [@MariaKhalusova](https://x.com/mariaKhalusova)\n",
        "\n",
        "Last updated: Jan 9th, 2025\n",
        "\n",
        "## What you'll learn:\n",
        "\n",
        "1. Parsing PDF documents from S3 into DataStax AstraDB with Unstructured Platform\n",
        "2. Building Vanilla RAG in pure Python without using specialized frameworks\n",
        "3. Differences between Vanilla RAG and Agentic RAG\n",
        "4. Creating Agentic RAG with Hugging Face `smolagents` library\n",
        "5. Whether Agentic RAG can produce better answers (spoiler: it can!)"
      ],
      "metadata": {
        "id": "-udDYSpYTzue"
      }
    },
    {
      "cell_type": "markdown",
      "source": [
        "In Vanilla RAG, your system uses the user's question to perform a single retrieval step and get a batch of documents that are meant to be relevant to the query. These documents are then passed on to the LLM to generate an answer grounded in the context of those documents.\n",
        "\n",
        "However, this approach has limitations. If the results of the retrieval are inadequate (either irrelevant or incomplete), this will have a direct negative impact on generation. There are many different methods one can employ to improve the retrieval quality, such as choosing a better embedding model, switching to a different retrieval method (e.g., BM25, or hybrid, metadata filtering, etc.), increasing the number of retrieved documents, and adding a reranker. However, there may still be situations where a single retrieval step, or retrieving based on the user query \"as is,\" may not produce optimal results.\n",
        "\n",
        "In this tutorial, we will build a simple Agentic RAG application that will use a retriever as a tool and will be able to:\n",
        "* Reformulate the user query to improve the retrieval results.\n",
        "* Review the results.\n",
        "*  Retrieve more context, if needed\n",
        "\n",
        "This should allow the RAG application to perform better answer complex question, for example, the ones that might require query decomposition and multiple retrieval steps.\n",
        "\n",
        "There are several frameworks available for building agentic RAG, in this tutorial, we'll be using the latest library from Hugging Face called [`smolagents`](https://github.com/huggingface/smolagents). The library is lightweight, and very easy to start using to build agentic applications, including but not limited to Agentic RAG."
      ],
      "metadata": {
        "id": "KWPrKyioPoix"
      }
    },
    {
      "cell_type": "markdown",
      "source": [
        "## Preparing the data\n",
        "\n",
        "Every RAG application starts with data, and most of the time - unstructured data (PDFs, Word documents, SharePoint files, emails, etc.). Preprocessing this type of data to make it available for retrieval can be a challenging task. [Unstructured Platform](https://unstructured.io/) significantly simplifies this process - it can connect to any data sources you may have in your organization, preprocess the data from those sources making it RAG-ready, and upload the results into your database of choice.\n",
        "\n",
        "To start transforming your data with Unstructured Platform, you'll need to [sign up on the Unstructured For Developers page](https://unstructured.io/developers). Once you do, you can log into the Platform and process up to 1000 pages per day for free for the first 14 days.\n",
        "\n",
        "In this tutorial, our data will consist of annual 10-K SEC filings from Walmart Inc., Chevron Corporation, and Costco Wholesale Corporation for the 2023 fiscal year. These reports offer a deep insight into each company's financial performance that year. The documents are originally in PDF format and we have them stored in an Amazon S3 bucket. After preprocessing, we'll store the document chunks with their embeddings in DataStax AstraDB for retrieval. Here is what we need to do to prepare the data:\n",
        "* Create an S3 _source connector_ in Unstructured Platform to connect it to the documents\n",
        "* Create an AstraDB _destination connector_ in Unstructured Platform to upload the processed documents\n",
        "* Create a _workflow_ that starts with a source connector, adds data transformation steps (such as extracting content of the PDFs with Antropic Claude Sonnet, enriching the documents with metadata, chunking the text, and generating embedding vectors for the similarity search), and then ends with uploading the results into the destination.\n",
        "\n",
        "Let's briefly go over these steps."
      ],
      "metadata": {
        "id": "RquFd-tLNqXd"
      }
    },
    {
      "cell_type": "markdown",
      "source": [
        "### Create an S3 source connector in Unstructured Platform\n",
        "\n",
        "Log in to your Unstructured Platform account, click `Connectors` on the left side bar, make sure you have `Sources` selected, and click `New` to create a new source connector. Alternatively, use this [direct link](https://platform.unstructured.io/connectors/editor/new/sources). Choose S3, and enter the required info about your bucket.\n",
        "\n",
        "<img src=\"https://framerusercontent.com/images/I1hhUk4xRAheCxMOLgrXZZiO0.png\" alt=\"S3 connector settings\" width=\"500\"/>"
      ],
      "metadata": {
        "id": "MSGFRq4KulG_"
      }
    },
    {
      "cell_type": "markdown",
      "source": [
        "### Create an AstraDB destination connector in Unstructured Platform\n",
        "\n",
        "Create an account on [datastax.com](https://www.datastax.com/), and create a new Serverless (Vector) Database. Once it's instantiated, grab your credentials - API endpoint, and an application token,- and save them. If you need help getting started with AstraDB, refer to [their documentation](https://docs.datastax.com/en/astra-db-serverless/get-started/quickstart.html).\n",
        "\n",
        "In the database, create a collection. Give it a name, then in the embedding generation method choose `Bring my own` as we will generate the embeddings automatically with Unstructured Platform. The dimensions value should be set to 3072 in this example as we'll be using `\"text-embedding-3-large\"` model from OpenAI.\n",
        "\n",
        "Now you can create a destination connector for AstraDB in Unstructured Platform [here](https://platform.unstructured.io/app/connectors/editor/new/destinations/).\n",
        "\n",
        "<img src=\"https://framerusercontent.com/images/Szq022IHqD04mAjyIUlYgdNcVNM.png\" alt=\"S3 connector settings\" width=\"500\"/>\n",
        "\n",
        "<img src=\"https://framerusercontent.com/images/sJmB9GJ8JhZrPwIm6NccnP82GM.png\" alt=\"S3 connector settings\" width=\"500\"/>\n",
        "\n",
        "\n",
        "\n"
      ],
      "metadata": {
        "id": "bdciRX-1vH0p"
      }
    },
    {
      "cell_type": "markdown",
      "source": [
        "### Create a workflow in Unstructured Platform\n",
        "\n",
        "Navigate to the `Workflows` tab in Unstructured Platform, and click `New workflow`. Choose `Build it with Me` option to set up the workflow with pre-configured options.\n",
        "\n",
        "First, choose your source and destination using the connectors that you've just created.\n",
        "\n",
        "Next, select \"Platinum\" workflow that will use Anthropic Claude Sonnet to preprocess the files:\n",
        "\n",
        "<img src=\"https://framerusercontent.com/images/TRUyuKsfDzmjY5YSE76cdmwreLI.png\" alt=\"S3 connector settings\" width=\"500\"/>\n",
        "\n",
        "Optionally, set a schedule. In this example we don't need it.\n",
        "\n",
        "That's it! Once the workflow is configured, run it, and wait for the job to finish. When completed, you can review the results of the job and what steps Unstructured Platform performed. If there are any errors, you'll find the information about the causes to help you troubleshoot:\n",
        "\n",
        "<img src=\"https://i.ibb.co/Y7jyLC3/completed-job.png\" alt=\"Completed job\" width=\"500\"/>\n",
        "\n",
        "Now, let's build RAG!\n"
      ],
      "metadata": {
        "id": "ydKZk2AcwnSG"
      }
    },
    {
      "cell_type": "markdown",
      "source": [
        "## Setup"
      ],
      "metadata": {
        "id": "5KJQmJU3M8U2"
      }
    },
    {
      "cell_type": "markdown",
      "source": [
        "Run the line below to install required dependencies:\n",
        "\n",
        "* `smolagents`: to configure agentic RAG\n",
        "* `astrapy`: to connect to AstraDB and query it\n",
        "* `python-dotenv`: to manage environment variables\n"
      ],
      "metadata": {
        "id": "4HS4tNzLxy5b"
      }
    },
    {
      "cell_type": "code",
      "source": [
        "!pip install --upgrade -q smolagents astrapy python-dotenv"
      ],
      "metadata": {
        "colab": {
          "base_uri": "https://localhost:8080/"
        },
        "collapsed": true,
        "id": "p8PmnO4IMyV4",
        "outputId": "3165c1c5-568e-460c-f79b-8c0616f5c3e1"
      },
      "execution_count": null,
      "outputs": [
        {
          "output_type": "stream",
          "name": "stdout",
          "text": [
            "\u001b[2K     \u001b[90m━━━━━━━━━━━━━━━━━━━━━━━━━━━━━━━━━━━━━━━━\u001b[0m \u001b[32m89.9/89.9 kB\u001b[0m \u001b[31m4.7 MB/s\u001b[0m eta \u001b[36m0:00:00\u001b[0m\n",
            "\u001b[2K   \u001b[90m━━━━━━━━━━━━━━━━━━━━━━━━━━━━━━━━━━━━━━━━\u001b[0m \u001b[32m67.7/67.7 kB\u001b[0m \u001b[31m3.7 MB/s\u001b[0m eta \u001b[36m0:00:00\u001b[0m\n",
            "\u001b[2K   \u001b[90m━━━━━━━━━━━━━━━━━━━━━━━━━━━━━━━━━━━━━━━━\u001b[0m \u001b[32m177.1/177.1 kB\u001b[0m \u001b[31m6.8 MB/s\u001b[0m eta \u001b[36m0:00:00\u001b[0m\n",
            "\u001b[2K   \u001b[90m━━━━━━━━━━━━━━━━━━━━━━━━━━━━━━━━━━━━━━━━\u001b[0m \u001b[32m57.5/57.5 MB\u001b[0m \u001b[31m14.9 MB/s\u001b[0m eta \u001b[36m0:00:00\u001b[0m\n",
            "\u001b[2K   \u001b[90m━━━━━━━━━━━━━━━━━━━━━━━━━━━━━━━━━━━━━━━━\u001b[0m \u001b[32m320.6/320.6 kB\u001b[0m \u001b[31m21.5 MB/s\u001b[0m eta \u001b[36m0:00:00\u001b[0m\n",
            "\u001b[2K   \u001b[90m━━━━━━━━━━━━━━━━━━━━━━━━━━━━━━━━━━━━━━━━\u001b[0m \u001b[32m76.4/76.4 kB\u001b[0m \u001b[31m5.0 MB/s\u001b[0m eta \u001b[36m0:00:00\u001b[0m\n",
            "\u001b[2K   \u001b[90m━━━━━━━━━━━━━━━━━━━━━━━━━━━━━━━━━━━━━━━━\u001b[0m \u001b[32m6.6/6.6 MB\u001b[0m \u001b[31m67.5 MB/s\u001b[0m eta \u001b[36m0:00:00\u001b[0m\n",
            "\u001b[2K   \u001b[90m━━━━━━━━━━━━━━━━━━━━━━━━━━━━━━━━━━━━━━━━\u001b[0m \u001b[32m13.1/13.1 MB\u001b[0m \u001b[31m58.5 MB/s\u001b[0m eta \u001b[36m0:00:00\u001b[0m\n",
            "\u001b[2K   \u001b[90m━━━━━━━━━━━━━━━━━━━━━━━━━━━━━━━━━━━━━━━━\u001b[0m \u001b[32m1.4/1.4 MB\u001b[0m \u001b[31m46.7 MB/s\u001b[0m eta \u001b[36m0:00:00\u001b[0m\n",
            "\u001b[2K   \u001b[90m━━━━━━━━━━━━━━━━━━━━━━━━━━━━━━━━━━━━━━━━\u001b[0m \u001b[32m313.6/313.6 kB\u001b[0m \u001b[31m17.3 MB/s\u001b[0m eta \u001b[36m0:00:00\u001b[0m\n",
            "\u001b[2K   \u001b[90m━━━━━━━━━━━━━━━━━━━━━━━━━━━━━━━━━━━━━━━━\u001b[0m \u001b[32m81.7/81.7 kB\u001b[0m \u001b[31m5.5 MB/s\u001b[0m eta \u001b[36m0:00:00\u001b[0m\n",
            "\u001b[2K   \u001b[90m━━━━━━━━━━━━━━━━━━━━━━━━━━━━━━━━━━━━━━━━\u001b[0m \u001b[32m94.8/94.8 kB\u001b[0m \u001b[31m5.4 MB/s\u001b[0m eta \u001b[36m0:00:00\u001b[0m\n",
            "\u001b[2K   \u001b[90m━━━━━━━━━━━━━━━━━━━━━━━━━━━━━━━━━━━━━━━━\u001b[0m \u001b[32m57.5/57.5 kB\u001b[0m \u001b[31m3.3 MB/s\u001b[0m eta \u001b[36m0:00:00\u001b[0m\n",
            "\u001b[2K   \u001b[90m━━━━━━━━━━━━━━━━━━━━━━━━━━━━━━━━━━━━━━━━\u001b[0m \u001b[32m3.3/3.3 MB\u001b[0m \u001b[31m62.1 MB/s\u001b[0m eta \u001b[36m0:00:00\u001b[0m\n",
            "\u001b[2K   \u001b[90m━━━━━━━━━━━━━━━━━━━━━━━━━━━━━━━━━━━━━━━━\u001b[0m \u001b[32m11.3/11.3 MB\u001b[0m \u001b[31m69.3 MB/s\u001b[0m eta \u001b[36m0:00:00\u001b[0m\n",
            "\u001b[2K   \u001b[90m━━━━━━━━━━━━━━━━━━━━━━━━━━━━━━━━━━━━━━━━\u001b[0m \u001b[32m73.2/73.2 kB\u001b[0m \u001b[31m4.8 MB/s\u001b[0m eta \u001b[36m0:00:00\u001b[0m\n",
            "\u001b[2K   \u001b[90m━━━━━━━━━━━━━━━━━━━━━━━━━━━━━━━━━━━━━━━━\u001b[0m \u001b[32m1.2/1.2 MB\u001b[0m \u001b[31m45.9 MB/s\u001b[0m eta \u001b[36m0:00:00\u001b[0m\n",
            "\u001b[2K   \u001b[90m━━━━━━━━━━━━━━━━━━━━━━━━━━━━━━━━━━━━━━━━\u001b[0m \u001b[32m62.3/62.3 kB\u001b[0m \u001b[31m4.1 MB/s\u001b[0m eta \u001b[36m0:00:00\u001b[0m\n",
            "\u001b[?25h\u001b[31mERROR: pip's dependency resolver does not currently take into account all the packages that are installed. This behaviour is the source of the following dependency conflicts.\n",
            "cudf-cu12 24.10.1 requires pandas<2.2.3dev0,>=2.0, but you have pandas 2.2.3 which is incompatible.\n",
            "google-colab 1.0.0 requires pandas==2.2.2, but you have pandas 2.2.3 which is incompatible.\u001b[0m\u001b[31m\n",
            "\u001b[0m"
          ]
        }
      ]
    },
    {
      "cell_type": "markdown",
      "source": [
        "Create a local `.env` file that contains the following environment variables, and upload it to your notebook's directory.\n",
        "\n",
        "* `ASTRA_DB_APPLICATION_TOKEN`\n",
        "* `ASTRA_DB_API_ENDPOINT`\n",
        "* `ASTRA_DB_COLLECTION_NAME`\n",
        "* `ASTRA_DB_NAMESPACE`\n",
        "* `OPENAI_API_KEY`\n",
        "\n",
        "When we were preprocessing the data, we've generated embeddings using a model from OpenAI, so we need the key to embed the user queries. For convenience, we'll also use an LLM from OpenAI for generation, and it will be the same for Vanilla RAG and Agentic RAG."
      ],
      "metadata": {
        "id": "k08LbFqiNbau"
      }
    },
    {
      "cell_type": "code",
      "source": [
        "import os\n",
        "from dotenv import load_dotenv\n",
        "\n",
        "def load_environment_variables(path_to_dot_env_file) -> None:\n",
        "    \"\"\"\n",
        "    Load environment variables from .env file.\n",
        "    Raises an error if critical environment variables are missing.\n",
        "    \"\"\"\n",
        "    load_dotenv(path_to_dot_env_file)\n",
        "    required_vars = [\n",
        "        \"ASTRA_DB_APPLICATION_TOKEN\",\n",
        "        \"ASTRA_DB_API_ENDPOINT\",\n",
        "        \"ASTRA_DB_COLLECTION_NAME\",\n",
        "        \"ASTRA_DB_NAMESPACE\",\n",
        "        \"OPENAI_API_KEY\"\n",
        "    ]\n",
        "\n",
        "    for var in required_vars:\n",
        "        if not os.getenv(var):\n",
        "            raise ValueError(f\"Missing required environment variable: {var}\")\n",
        "\n",
        "load_environment_variables('/content/.env')"
      ],
      "metadata": {
        "id": "ip_6Tlw-N4Bv"
      },
      "execution_count": null,
      "outputs": []
    },
    {
      "cell_type": "markdown",
      "source": [
        "## Connect to your AstraDB collection and set up an OpenAI client"
      ],
      "metadata": {
        "id": "5K0RWv5jYFom"
      }
    },
    {
      "cell_type": "code",
      "source": [
        "from openai import OpenAI\n",
        "from astrapy import DataAPIClient"
      ],
      "metadata": {
        "id": "nz2feeRHO5Jo"
      },
      "execution_count": null,
      "outputs": []
    },
    {
      "cell_type": "code",
      "source": [
        "OPENAI_CLIENT = OpenAI(api_key=os.environ.get(\"OPENAI_API_KEY\"))\n",
        "EMBEDDING_MODEL = \"text-embedding-3-large\"\n",
        "GENERATION_MODEL = \"gpt-4o-2024-11-20\""
      ],
      "metadata": {
        "id": "4bMDx9GvYQgK"
      },
      "execution_count": null,
      "outputs": []
    },
    {
      "cell_type": "code",
      "source": [
        "def get_collection(collection_name: str, keyspace: str):\n",
        "    \"\"\"\n",
        "    Establish connection to Astra DB and return the specified collection.\n",
        "    Args:\n",
        "        collection_name (str): Name of the collection to retrieve\n",
        "        keyspace (str): Database keyspace\n",
        "    Returns:\n",
        "        Collection object from Astra DB\n",
        "    \"\"\"\n",
        "\n",
        "    astra_client = DataAPIClient(os.getenv(\"ASTRA_DB_APPLICATION_TOKEN\"))\n",
        "    database = astra_client.get_database(os.getenv(\"ASTRA_DB_API_ENDPOINT\"))\n",
        "\n",
        "    astradb_collection = database.get_collection(name=collection_name,\n",
        "                                                 keyspace=keyspace)\n",
        "\n",
        "    print(f\"Collection: {astradb_collection.full_name}\\n\")\n",
        "    return astradb_collection\n"
      ],
      "metadata": {
        "id": "xNlgLcUZgGnZ"
      },
      "execution_count": null,
      "outputs": []
    },
    {
      "cell_type": "code",
      "source": [
        "COLLECTION = get_collection(os.getenv(\"ASTRA_DB_COLLECTION_NAME\"), os.getenv(\"ASTRA_DB_NAMESPACE\"))"
      ],
      "metadata": {
        "colab": {
          "base_uri": "https://localhost:8080/"
        },
        "id": "f31RVIISYYmD",
        "outputId": "9284723e-21a8-4778-cd70-59a91c7298e3"
      },
      "execution_count": null,
      "outputs": [
        {
          "output_type": "stream",
          "name": "stdout",
          "text": [
            "Collection: default_keyspace.pdf_vlm_collection\n",
            "\n"
          ]
        }
      ]
    },
    {
      "cell_type": "code",
      "source": [
        "def get_embedding(text: str):\n",
        "    \"\"\"\n",
        "    Generate embedding for given text using OpenAI's embedding model.\n",
        "\n",
        "    Args:\n",
        "        text (str): Input text to embed\n",
        "\n",
        "    Returns:\n",
        "        Embedding vector for the input text\n",
        "    \"\"\"\n",
        "    return OPENAI_CLIENT.embeddings.create(\n",
        "        input=text, model=EMBEDDING_MODEL\n",
        "    ).data[0].embedding\n"
      ],
      "metadata": {
        "id": "u6uhuk9QO3AS"
      },
      "execution_count": null,
      "outputs": []
    },
    {
      "cell_type": "markdown",
      "source": [
        "## Vanilla RAG"
      ],
      "metadata": {
        "id": "HrS9oFz2G-js"
      }
    },
    {
      "cell_type": "markdown",
      "source": [
        "For the Vanilla RAG we'll create a simple retriever that will use similarity search based on the query and return top 5 documents by default:  "
      ],
      "metadata": {
        "id": "u9CNN96_3O-q"
      }
    },
    {
      "cell_type": "code",
      "source": [
        "def simple_retriever(query: str, n=5):\n",
        "    \"\"\"\n",
        "    Retrieve documents based on the given query using similarity search\n",
        "\n",
        "    Args:\n",
        "        query (str): query to pass to the DB\n",
        "        n: Number of documents to retrieve\n",
        "\n",
        "    Returns:\n",
        "        List of the retrieved documents' texts\n",
        "    \"\"\"\n",
        "\n",
        "    query_embedding = get_embedding(query)\n",
        "\n",
        "    results = COLLECTION.find(sort={\"$vector\": query_embedding}, limit=n)\n",
        "    docs = [doc[\"content\"] for doc in results]\n",
        "\n",
        "    return  \"\\nRetrieved documents:\\n\" + \"\".join(\n",
        "            [\n",
        "                f\"\\n\\n===== Document {str(i)} =====\\n\" + doc\n",
        "                for i, doc in enumerate(docs)\n",
        "            ]\n",
        "        )"
      ],
      "metadata": {
        "id": "ueH7pqf4RfCE"
      },
      "execution_count": null,
      "outputs": []
    },
    {
      "cell_type": "markdown",
      "source": [
        "Now the whole RAG can be implemented with one simple function:"
      ],
      "metadata": {
        "id": "cp9HJQzL3f8O"
      }
    },
    {
      "cell_type": "code",
      "source": [
        "from typing import List\n",
        "def vanilla_rag(question: str):\n",
        "    \"\"\"\n",
        "    Generate an answer based on retrieved documents and user question.\n",
        "\n",
        "    Args:\n",
        "        question (str): User's input question\n",
        "    Returns:\n",
        "        LLM-generated answer\n",
        "    \"\"\"\n",
        "\n",
        "    prompt = (\n",
        "        \"You are an assistant that can answer user questions given provided context. \"\n",
        "        \"Provide an answer based on the provided context and nothing else, do not make generalizations.\"\n",
        "        \"If you don't know the answer, or no documents are provided, \"\n",
        "        \"say 'I do not have enough context to answer the question.'\"\n",
        "    )\n",
        "\n",
        "    # retrieve documents using the simple retriever, 5 documents by default\n",
        "    relevant_documents = simple_retriever(question)\n",
        "\n",
        "    # add user question and the docs to the prompt\n",
        "    augmented_prompt = (\n",
        "        f\"{prompt}\"\n",
        "        f\"User question: {question}\\n\\n\"\n",
        "        f\"Retrieved documents to use as context:\\n\\n {relevant_documents}\"\n",
        "    )\n",
        "\n",
        "    # pass everything to the LLM to generate an answer\n",
        "    response = OPENAI_CLIENT.chat.completions.create(\n",
        "        messages=[\n",
        "            {'role': 'system', 'content': 'You answer users questions.'},\n",
        "            {'role': 'user', 'content': augmented_prompt},\n",
        "        ],\n",
        "        model=GENERATION_MODEL,\n",
        "        temperature=0,\n",
        "    )\n",
        "\n",
        "    return response.choices[0].message.content\n"
      ],
      "metadata": {
        "id": "hebIF2EqS3eN"
      },
      "execution_count": null,
      "outputs": []
    },
    {
      "cell_type": "markdown",
      "source": [
        "Let's try it out with a simple question:"
      ],
      "metadata": {
        "id": "lTWEkjZg3wmT"
      }
    },
    {
      "cell_type": "code",
      "source": [
        "question = \"What are Costco's merchandise categories?\"\n",
        "vanilla_rag(question)"
      ],
      "metadata": {
        "colab": {
          "base_uri": "https://localhost:8080/",
          "height": 107
        },
        "id": "H2cNHWlfUGWQ",
        "outputId": "df1acd97-f1df-4cf5-b02b-0fb63a273816"
      },
      "execution_count": null,
      "outputs": [
        {
          "output_type": "execute_result",
          "data": {
            "text/plain": [
              "\"Costco's merchandise categories include:\\n\\n1. **Core Merchandise Categories (Core Business):**\\n   - **Foods and Sundries:** Sundries, dry grocery, candy, cooler, freezer, deli, liquor, and tobacco.\\n   - **Non-Foods:** Major appliances, electronics, health and beauty aids, hardware, garden and patio, sporting goods, tires, toys and seasonal, office supplies, automotive care, postage, tickets, apparel, small appliances, furniture, domestics, housewares, special order kiosk, and jewelry.\\n   - **Fresh Foods:** Meat, produce, service deli, and bakery.\\n\\n2. **Warehouse Ancillary Businesses:**\\n   - Gasoline, pharmacy, optical, food court, hearing aids, and tire installation.\\n\\n3. **Other Businesses:**\\n   - E-commerce, business centers, travel, and other services.\""
            ],
            "application/vnd.google.colaboratory.intrinsic+json": {
              "type": "string"
            }
          },
          "metadata": {},
          "execution_count": 22
        }
      ]
    },
    {
      "cell_type": "markdown",
      "source": [
        "This worked just fine, because an answer to this question is located in a single paragraph that can be reliably retrieved with similarity search. Now that you've seen how Vanilla RAG works, let's talk about what's different in Agentic RAG."
      ],
      "metadata": {
        "id": "pAi9RH-m31I7"
      }
    },
    {
      "cell_type": "markdown",
      "source": [
        "## Agentic RAG\n",
        "\n",
        "There are many definitions of what an \"AI agent\" is, for example:\n",
        "\n",
        "* \"An AI agent is meant to accomplish tasks typically provided by the users. In an AI agent, AI is the brain that processes the task, plans a sequence of actions to achieve this task, and determines whether the task has been accomplished.\" by Chip Huyen\n",
        "* \"AI Agents are programs where LLM outputs control the workflow.\" by Hugging Face smolagents team\n",
        "\n",
        "An Agent typically has access to Tools which help it get additional information and/or also perform actions. This can be a retriever, or a function to do Web search, a calculator, and image generator, and so on.\n",
        "\n",
        "Tools help the LLM agent overcome some of its limitations. For example, a retriever tool, just like in Vanilla RAG, can help get additional information, and a calculator might be useful since AI models aren't great at math.\n",
        "\n",
        "For this Agentic RAG example we'll build an agent that can rephrase a query if needed, call the same simple retriever as before as a tool, but it will have an option to call this tool more than once to retrieve additional information to improve the answer.\n",
        "\n",
        "Let's see how we can do this with `smolagents`:"
      ],
      "metadata": {
        "id": "sOQ1vbwW4LgG"
      }
    },
    {
      "cell_type": "markdown",
      "source": [
        "## Agentic RAG with `smolagents`\n"
      ],
      "metadata": {
        "id": "M3D4k9F-HAkZ"
      }
    },
    {
      "cell_type": "markdown",
      "source": [
        "First, we'll create a `RetrieverTool` class.\n",
        "\n",
        "At the core of the tool is a function that an LLM can use in an agentic system.\n",
        "However, to use this function, the LLM will need to be given its API:\n",
        "* `name`: the name of the tool to give the LLM\n",
        "* `description`: is used to populate the agent's system prompt to inform about the tool's capabilities.\n",
        "* `forward` method: the \"main\" function to be executed.\n",
        "* `inputs`: what inputs can be given to the tool\n",
        "\n",
        "\n",
        "Note, that here we take all of the same functions as before (`get_embedding` & `simple_retriever`), and simply wrap them into a RetrieverTool class to make the same simple retriever usable as a tool for the Agent."
      ],
      "metadata": {
        "id": "TnfSMzVo_cVV"
      }
    },
    {
      "cell_type": "code",
      "source": [
        "from smolagents import Tool\n",
        "\n",
        "class RetrieverTool(Tool):\n",
        "    name = \"retriever\"\n",
        "    description = \"Uses semantic search to retrieve documents that could be relevant to answer the query.\"\n",
        "    inputs = {\n",
        "        \"query\": {\n",
        "            \"type\": \"string\",\n",
        "            \"description\": \"The query to perform. This should be semantically close to the target documents. Use the affirmative form rather than a question.\",\n",
        "        }\n",
        "    }\n",
        "    output_type = \"string\"\n",
        "\n",
        "    def __init__(self, collection, openai_client, **kwargs):\n",
        "        super().__init__(**kwargs)\n",
        "        self.retriever = collection\n",
        "        self.embedder = openai_client\n",
        "\n",
        "    def get_embedding(self, text: str):\n",
        "        return self.embedder.embeddings.create(\n",
        "            input=text, model=EMBEDDING_MODEL\n",
        "            ).data[0].embedding\n",
        "\n",
        "    def simple_retriever(self, query, n=5):\n",
        "      query_embedding = get_embedding(query)\n",
        "      results = self.retriever.find(sort={\"$vector\": query_embedding}, limit=n)\n",
        "      docs = [doc[\"content\"] for doc in results]\n",
        "      return \"\\nRetrieved documents:\\n\" + \"\".join(\n",
        "            [\n",
        "                f\"\\n\\n===== Document {str(i)} =====\\n\" + doc\n",
        "                for i, doc in enumerate(docs)\n",
        "            ]\n",
        "        )\n",
        "\n",
        "    def forward(self, query: str) -> str:\n",
        "        assert isinstance(query, str)\n",
        "\n",
        "        docs = simple_retriever(query)\n",
        "\n",
        "        return docs\n",
        "\n",
        "# initialize a retriever with the AstraDB collection and OpenAI Client for embedding\n",
        "retriever_tool = RetrieverTool(COLLECTION, OPENAI_CLIENT)"
      ],
      "metadata": {
        "id": "XauH5jahHDwC"
      },
      "execution_count": null,
      "outputs": []
    },
    {
      "cell_type": "markdown",
      "source": [
        "To create an Agent, we have two options:\n",
        "* `ToolCallingAgent`, it generates tool calls as a JSON under the hood, which is a standard industry approach at the moment.\n",
        "* `CodeAgent`, a different, new type of `ToolCallingAgent` that generates its tool calls as blobs of code, which works really well for LLMs that have strong coding performance.\n",
        "\n",
        "In this example, we're using a `\"gpt-4o-2024-11-20\"` and we'll try both, the `ToolCallingAgent`, and the `CodeAgent` so that we could see how they work.\n",
        "\n",
        "smolagents natively integrate with open source models from the Hugging Face, but also works with OpenAI and Antropic models via `LiteLLMModel`."
      ],
      "metadata": {
        "id": "vMxIKPFcCRvd"
      }
    },
    {
      "cell_type": "markdown",
      "source": [
        "## ToolCallingAgent"
      ],
      "metadata": {
        "id": "1ZAh-izmsfIU"
      }
    },
    {
      "cell_type": "code",
      "source": [
        "from smolagents import ToolCallingAgent, LiteLLMModel\n",
        "\n",
        "model = LiteLLMModel(model_id=GENERATION_MODEL)\n",
        "\n",
        "agent = ToolCallingAgent(tools=[retriever_tool], model=model, verbose=True)"
      ],
      "metadata": {
        "id": "UF9eIq2x-AFm"
      },
      "execution_count": null,
      "outputs": []
    },
    {
      "cell_type": "markdown",
      "source": [
        "That's all it takes to set it up! Now let's compare how it performs compared to Vanilla RAG on some slightly trickier question."
      ],
      "metadata": {
        "id": "D3mx9ZJrD-o7"
      }
    },
    {
      "cell_type": "code",
      "source": [
        "question = \"How do employee incentive plans differ between Chevron and Walmart?\""
      ],
      "metadata": {
        "id": "1JZVZskMIN0U"
      },
      "execution_count": null,
      "outputs": []
    },
    {
      "cell_type": "markdown",
      "source": [
        "First, let's get an answer from Vanilla RAG:"
      ],
      "metadata": {
        "id": "CxA6ENA5FGzM"
      }
    },
    {
      "cell_type": "code",
      "source": [
        "vanilla_rag(question)"
      ],
      "metadata": {
        "colab": {
          "base_uri": "https://localhost:8080/",
          "height": 143
        },
        "id": "60abuddaCjn3",
        "outputId": "3d181164-8d43-400a-caae-ebd75f429d92"
      },
      "execution_count": null,
      "outputs": [
        {
          "output_type": "execute_result",
          "data": {
            "text/plain": [
              "\"Based on the provided context, employee incentive plans at Walmart and Chevron differ in the following ways:\\n\\n1. **Walmart**:\\n   - Walmart's Stock Incentive Plan includes stock options, restricted stock, restricted stock units, performance share units, and other equity compensation awards. These are designed to align employee interests with those of shareholders.\\n   - Walmart also offers incentive payments tied to deferred compensation and bonuses. For example, employees who remain continuously employed for 10 or 15 consecutive years may receive incentive payments equal to 20% of their recognized deferred compensation and bonuses for specific periods, plus credited plan earnings.\\n\\n2. **Chevron**:\\n   - Chevron's incentive approach is not explicitly detailed in the provided documents. However, the company emphasizes competitive total compensation linked to individual and enterprise performance, as well as long-term employee development and retention. Chevron's focus appears to be on fostering personal growth, leadership development, and maintaining a low voluntary attrition rate through its employment model and benefits.\\n\\nIn summary, Walmart's incentive plans are more explicitly tied to stock and deferred compensation structures, while Chevron's approach focuses on broader compensation and development strategies.\""
            ],
            "application/vnd.google.colaboratory.intrinsic+json": {
              "type": "string"
            }
          },
          "metadata": {},
          "execution_count": 27
        }
      ]
    },
    {
      "cell_type": "markdown",
      "source": [
        "Now, let's see what the Agent does and how it answers:"
      ],
      "metadata": {
        "id": "V35tmneyFKMS"
      }
    },
    {
      "cell_type": "code",
      "source": [
        "agent_output = agent.run(question)\n",
        "\n",
        "print(\"Final answer:\")\n",
        "print(agent_output)"
      ],
      "metadata": {
        "colab": {
          "base_uri": "https://localhost:8080/",
          "height": 1000
        },
        "id": "bv6KWO0Z_-hG",
        "outputId": "ac6e7029-dc2c-459f-98de-3e49e1a66152"
      },
      "execution_count": null,
      "outputs": [
        {
          "output_type": "display_data",
          "data": {
            "text/plain": [
              "\u001b[38;2;212;183;2m╭─\u001b[0m\u001b[38;2;212;183;2m─────────────────────────────────────────────────────────────────────────────────────────────\u001b[0m\u001b[38;2;212;183;2m \u001b[0m\u001b[1;38;2;212;183;2mNew run\u001b[0m\u001b[38;2;212;183;2m \u001b[0m\u001b[38;2;212;183;2m──────────────────────────────────────────────────────────────────────────────────────────────\u001b[0m\u001b[38;2;212;183;2m─╮\u001b[0m\n",
              "\u001b[38;2;212;183;2m│\u001b[0m                                                                                                                                                                                                      \u001b[38;2;212;183;2m│\u001b[0m\n",
              "\u001b[38;2;212;183;2m│\u001b[0m \u001b[1mHow do employee incentive plans differ between Chevron and Walmart?\u001b[0m                                                                                                                                  \u001b[38;2;212;183;2m│\u001b[0m\n",
              "\u001b[38;2;212;183;2m│\u001b[0m                                                                                                                                                                                                      \u001b[38;2;212;183;2m│\u001b[0m\n",
              "\u001b[38;2;212;183;2m╰─\u001b[0m\u001b[38;2;212;183;2m LiteLLMModel - gpt-4o-2024-11-20 \u001b[0m\u001b[38;2;212;183;2m──────────────────────────────────────────────────────────────────────────────────────────────────────────────────────────────────────────────────────────────────\u001b[0m\u001b[38;2;212;183;2m─╯\u001b[0m\n"
            ],
            "text/html": [
              "<pre style=\"white-space:pre;overflow-x:auto;line-height:normal;font-family:Menlo,'DejaVu Sans Mono',consolas,'Courier New',monospace\"><span style=\"color: #d4b702; text-decoration-color: #d4b702\">╭────────────────────────────────────────────────────────────────────────────────────────────── </span><span style=\"color: #d4b702; text-decoration-color: #d4b702; font-weight: bold\">New run</span><span style=\"color: #d4b702; text-decoration-color: #d4b702\"> ───────────────────────────────────────────────────────────────────────────────────────────────╮</span>\n",
              "<span style=\"color: #d4b702; text-decoration-color: #d4b702\">│</span>                                                                                                                                                                                                      <span style=\"color: #d4b702; text-decoration-color: #d4b702\">│</span>\n",
              "<span style=\"color: #d4b702; text-decoration-color: #d4b702\">│</span> <span style=\"font-weight: bold\">How do employee incentive plans differ between Chevron and Walmart?</span>                                                                                                                                  <span style=\"color: #d4b702; text-decoration-color: #d4b702\">│</span>\n",
              "<span style=\"color: #d4b702; text-decoration-color: #d4b702\">│</span>                                                                                                                                                                                                      <span style=\"color: #d4b702; text-decoration-color: #d4b702\">│</span>\n",
              "<span style=\"color: #d4b702; text-decoration-color: #d4b702\">╰─ LiteLLMModel - gpt-4o-2024-11-20 ───────────────────────────────────────────────────────────────────────────────────────────────────────────────────────────────────────────────────────────────────╯</span>\n",
              "</pre>\n"
            ]
          },
          "metadata": {}
        },
        {
          "output_type": "display_data",
          "data": {
            "text/plain": [
              "\u001b[38;2;212;183;2m━━━━━━━━━━━━━━━━━━━━━━━━━━━━━━━━━━━━━━━━━━━━━━━━━━━━━━━━━━━━━━━━━━━━━━━━━━━━━━━━━━━━━━━━━━━━━━━━ \u001b[0m\u001b[1mStep \u001b[0m\u001b[1;36m0\u001b[0m\u001b[38;2;212;183;2m ━━━━━━━━━━━━━━━━━━━━━━━━━━━━━━━━━━━━━━━━━━━━━━━━━━━━━━━━━━━━━━━━━━━━━━━━━━━━━━━━━━━━━━━━━━━━━━━━\u001b[0m\n"
            ],
            "text/html": [
              "<pre style=\"white-space:pre;overflow-x:auto;line-height:normal;font-family:Menlo,'DejaVu Sans Mono',consolas,'Courier New',monospace\"><span style=\"color: #d4b702; text-decoration-color: #d4b702\">━━━━━━━━━━━━━━━━━━━━━━━━━━━━━━━━━━━━━━━━━━━━━━━━━━━━━━━━━━━━━━━━━━━━━━━━━━━━━━━━━━━━━━━━━━━━━━━━ </span><span style=\"font-weight: bold\">Step </span><span style=\"color: #008080; text-decoration-color: #008080; font-weight: bold\">0</span><span style=\"color: #d4b702; text-decoration-color: #d4b702\"> ━━━━━━━━━━━━━━━━━━━━━━━━━━━━━━━━━━━━━━━━━━━━━━━━━━━━━━━━━━━━━━━━━━━━━━━━━━━━━━━━━━━━━━━━━━━━━━━━</span>\n",
              "</pre>\n"
            ]
          },
          "metadata": {}
        },
        {
          "output_type": "display_data",
          "data": {
            "text/plain": [
              "╭──────────────────────────────────────────────────────────────────────────────────────────────────────────────────────────────────────────────────────────────────────────────────────────────────────╮\n",
              "│ Calling tool: 'retriever' with arguments: {'query': 'Chevron employee incentive plans'}                                                                                                              │\n",
              "╰──────────────────────────────────────────────────────────────────────────────────────────────────────────────────────────────────────────────────────────────────────────────────────────────────────╯\n"
            ],
            "text/html": [
              "<pre style=\"white-space:pre;overflow-x:auto;line-height:normal;font-family:Menlo,'DejaVu Sans Mono',consolas,'Courier New',monospace\">╭──────────────────────────────────────────────────────────────────────────────────────────────────────────────────────────────────────────────────────────────────────────────────────────────────────╮\n",
              "│ Calling tool: 'retriever' with arguments: {'query': 'Chevron employee incentive plans'}                                                                                                              │\n",
              "╰──────────────────────────────────────────────────────────────────────────────────────────────────────────────────────────────────────────────────────────────────────────────────────────────────────╯\n",
              "</pre>\n"
            ]
          },
          "metadata": {}
        },
        {
          "output_type": "display_data",
          "data": {
            "text/plain": [
              "Observations: Retrieved documents:\n",
              "\n",
              "\n",
              "===== Document \u001b[1;36m0\u001b[0m =====\n",
              "Employee Savings Investment Plan\n",
              "\n",
              "Eligible employees of Chevron and certain of its subsidiaries participate in the Chevron Employee Savings Investment Plan \u001b[1m(\u001b[0mESIP\u001b[1m)\u001b[0m. Compensation expense for the ESIP totaled $\u001b[1;36m320\u001b[0m, $\u001b[1;36m283\u001b[0m and $\u001b[1;36m252\u001b[0m in \u001b[1;36m2023\u001b[0m,\n",
              "\u001b[1;36m2022\u001b[0m and \u001b[1;36m2021\u001b[0m, respectively.\n",
              "\n",
              "\u001b[1;36m96\u001b[0m\n",
              "\n",
              "Notes to the Consolidated Financial Statements Millions of dollars, except per-share amounts\n",
              "\n",
              "Financial Table of Contents\n",
              "\n",
              "Benefit Plan Trusts\n",
              "\n",
              "Prior to its acquisition by Chevron, Texaco established a benefit plan trust for funding obligations under some of its benefit plans. At year-end \u001b[1;36m2023\u001b[0m, the trust contained \u001b[1;36m14.2\u001b[0m million shares of \n",
              "Chevron treasury stock. The trust will sell the shares or use the dividends from the shares to pay benefits only to the extent that the company does not pay such benefits. The company intends to \n",
              "continue to pay its obligations under the benefit plans. The trustee will vote the shares held in the trust as instructed by the trust's beneficiaries. The shares held in the trust are not considered \n",
              "outstanding for earnings-per-share purposes until distributed or sold by the trust in payment of benefit obligations.\n",
              "\n",
              "Employee Incentive Plan\n",
              "\n",
              "The Chevron Incentive Plan is an annual cash bonus plan for eligible employees that links awards to corporate and individual performance in the prior year. Charges to expense for cash bonuses were \n",
              "$\u001b[1;36m809\u001b[0m, $\u001b[1;36m1\u001b[0m,\u001b[1;36m169\u001b[0m and $\u001b[1;36m1\u001b[0m,\u001b[1;36m165\u001b[0m in \u001b[1;36m2023\u001b[0m, \u001b[1;36m2022\u001b[0m and \u001b[1;36m2021\u001b[0m, respectively. Chevron also has the LTIP for officers and other regular salaried employees of the company and its subsidiaries who hold positions of \n",
              "significant responsibility. Awards under the LTIP consist of stock options and other share-based compensation that are described in Note \u001b[1;36m22\u001b[0m Stock Options and Other Share-Based Compensation.\n",
              "\n",
              "Note \u001b[1;36m24\u001b[0m\n",
              "\n",
              "Other Contingencies and Commitments\n",
              "\n",
              "===== Document \u001b[1;36m1\u001b[0m =====\n",
              "\u001b[1;36m10.7\u001b[0m+ Long-Term Incentive Plan of Chevron Corporation, amended and restated effective October \u001b[1;36m2\u001b[0m, \u001b[1;36m2023\u001b[0m, filed as Exhibit \u001b[1;36m10.5\u001b[0m to Chevron Corporation's Quarterly Report on Form \u001b[1;36m10\u001b[0m-Q for the quarter \n",
              "ended September \u001b[1;36m30\u001b[0m, \u001b[1;36m2023\u001b[0m, and incorporated herein by reference. \u001b[1;36m10.8\u001b[0m+ Form of Performance Share Award Agreement under the Long-Term Incentive Plan of Chevron Corporation, filed as Exhibit \u001b[1;36m10.1\u001b[0m to \n",
              "Chevron Corporation's Current Report on Form \u001b[1;36m8\u001b[0m-K filed February \u001b[1;36m1\u001b[0m, \u001b[1;36m2021\u001b[0m, and incorporated herein by reference. \u001b[1;36m10.9\u001b[0m+ Form of Performance Share Award Agreement under the Long-Term Incentive Plan of \n",
              "Chevron Corporation, filed as Exhibit \u001b[1;36m10.1\u001b[0m to Chevron Corporation's Current Report on Form \u001b[1;36m8\u001b[0m-K filed February \u001b[1;36m3\u001b[0m, \u001b[1;36m2020\u001b[0m, and incorporated herein by reference. \u001b[1;36m10.10\u001b[0m+ Form of Standard Restricted Stock \n",
              "Unit Award Agreement under the Long-Term Incentive Plan of Chevron Corporation, filed as Exhibit \u001b[1;36m10.3\u001b[0m to Chevron Corporation's Current Report on Form \u001b[1;36m8\u001b[0m-K filed February \u001b[1;36m3\u001b[0m, \u001b[1;36m2020\u001b[0m, and incorporated \n",
              "herein by reference.\n",
              "\n",
              "===== Document \u001b[1;36m2\u001b[0m =====\n",
              "Cash received in payment for option exercises under all share-based payment arrangements for \u001b[1;36m2023\u001b[0m, \u001b[1;36m2022\u001b[0m and \u001b[1;36m2021\u001b[0m was $\u001b[1;36m263\u001b[0m, $\u001b[1;36m5\u001b[0m,\u001b[1;36m835\u001b[0m and $\u001b[1;36m1\u001b[0m,\u001b[1;36m274\u001b[0m, respectively. Actual tax benefits realized for the tax \n",
              "deductions from option exercises were $\u001b[1;36m20\u001b[0m, $\u001b[1;36m216\u001b[0m and $\u001b[1m(\u001b[0m\u001b[1;36m15\u001b[0m\u001b[1m)\u001b[0m for \u001b[1;36m2023\u001b[0m, \u001b[1;36m2022\u001b[0m and \u001b[1;36m2021\u001b[0m, respectively. Cash paid to settle performance shares, restricted stock units and stock appreciation rights was $\u001b[1;36m566\u001b[0m, \n",
              "$\u001b[1;36m556\u001b[0m and $\u001b[1;36m163\u001b[0m for \u001b[1;36m2023\u001b[0m, \u001b[1;36m2022\u001b[0m and \u001b[1;36m2021\u001b[0m, respectively. On May \u001b[1;36m25\u001b[0m, \u001b[1;36m2022\u001b[0m, stockholders approved the Chevron \u001b[1;36m2022\u001b[0m Long-Term Incentive Plan \u001b[1m(\u001b[0m\u001b[1;36m2022\u001b[0m LTIP\u001b[1m)\u001b[0m. Awards under the \u001b[1;36m2022\u001b[0m LTIP may take the form of, but \n",
              "are not limited to, stock options, restricted stock, restricted stock units, stock appreciation rights, performance shares and non-stock grants. From May \u001b[1;36m2022\u001b[0m through May \u001b[1;36m2032\u001b[0m, no more than \u001b[1;36m104\u001b[0m \n",
              "million shares may be issued under the \u001b[1;36m2022\u001b[0m LTIP. For awards issued on or after May \u001b[1;36m25\u001b[0m, \u001b[1;36m2022\u001b[0m, no more than \u001b[1;36m48\u001b[0m million of those shares may be issued in the form of full value awards such as \n",
              "share-settled restricted stock, share-settled restricted stock units and share-settled performance shares and other share-settled awards that do not require full payment in cash or property for shares\n",
              "underlying such awards by the award recipient. For the major types of awards issued before January \u001b[1;36m1\u001b[0m, \u001b[1;36m2017\u001b[0m, the contractual terms vary between three years for the performance shares and restricted \n",
              "stock units, and \u001b[1;36m10\u001b[0m years for the stock options and stock appreciation rights. For awards issued after January \u001b[1;36m1\u001b[0m, \u001b[1;36m2017\u001b[0m, contractual terms vary between three years for the performance shares and \n",
              "special restricted stock units, five years for standard restricted stock units and \u001b[1;36m10\u001b[0m years for the stock options and stock appreciation rights. Commencing for grants issued in January \u001b[1;36m2023\u001b[0m and after,\n",
              "standard restricted stock units vest ratably on an annual basis over a three-year period. Forfeitures of performance shares, restricted stock units, and stock appreciation rights are recognized as \n",
              "they occur. Forfeitures of stock options are estimated using historical\n",
              "\n",
              "===== Document \u001b[1;36m3\u001b[0m =====\n",
              "\u001b[1;36m10.25\u001b[0m+ Form of Special Restricted Stock Unit Award Agreement \u001b[1m(\u001b[0mshare settled\u001b[1m)\u001b[0m under the \u001b[1;36m2022\u001b[0m Long-Term Incentive Plan of Chevron Corporation, filed as Exhibit \u001b[1;36m10.4\u001b[0m to Chevron Corporation's Current \n",
              "Report on Form \u001b[1;36m8\u001b[0m-K filed January \u001b[1;36m27\u001b[0m, \u001b[1;36m2023\u001b[0m, and incorporated herein by reference. \u001b[1;36m10.26\u001b[0m+ Form of Special Restricted Stock Unit Award Agreement \u001b[1m(\u001b[0mcash settled\u001b[1m)\u001b[0m under the \u001b[1;36m2022\u001b[0m Long-Term Incentive Plan of \n",
              "Chevron Corporation, filed as Exhibit \u001b[1;36m10.5\u001b[0m to Chevron Corporation's Current Report on Form \u001b[1;36m8\u001b[0m-K filed January \u001b[1;36m27\u001b[0m, \u001b[1;36m2023\u001b[0m, and incorporated herein by reference. \u001b[1;36m10.27\u001b[0m+ Form of Non-Qualified Stock Option \n",
              "Award Agreement under the \u001b[1;36m2022\u001b[0m Long-Term Incentive Plan of Chevron Corporation, filed as Exhibit \u001b[1;36m10.6\u001b[0m to Chevron Corporation's Current Report on Form \u001b[1;36m8\u001b[0m-K filed January \u001b[1;36m27\u001b[0m, \u001b[1;36m2023\u001b[0m, and incorporated \n",
              "herein by reference. \u001b[1;36m10.28\u001b[0m+ Form of Stock Appreciation Right Award Agreement under the \u001b[1;36m2022\u001b[0m Long-Term Incentive Plan of Chevron Corporation, filed as Exhibit \u001b[1;36m10.7\u001b[0m to Chevron Corporation's Current \n",
              "Report on Form \u001b[1;36m8\u001b[0m-K filed January \u001b[1;36m27\u001b[0m, \u001b[1;36m2023\u001b[0m, and incorporated herein by reference. \u001b[1;36m10.29\u001b[0m+ Form of Performance Share Award Agreement \u001b[1m(\u001b[0mshare settled\u001b[1m)\u001b[0m under the \u001b[1;36m2022\u001b[0m Long-Term Incentive Plan of Chevron \n",
              "Corporation, filed as Exhibit \u001b[1;36m10.1\u001b[0m to Chevron Corporation's Current Report on Form \u001b[1;36m8\u001b[0m-K filed February \u001b[1;36m2\u001b[0m, \u001b[1;36m2024\u001b[0m, and incorporated herein by reference.\n",
              "\n",
              "===== Document \u001b[1;36m4\u001b[0m =====\n",
              "Exhibit No. Description \u001b[1;36m10.30\u001b[0m+ Form of Performance Share Award Agreement \u001b[1m(\u001b[0mcash settled\u001b[1m)\u001b[0m under the \u001b[1;36m2022\u001b[0m Long-Term Incentive Plan of Chevron Corporation, filed as Exhibit \u001b[1;36m10.2\u001b[0m to Chevron Corporation's \n",
              "Current Report on Form \u001b[1;36m8\u001b[0m-K filed February \u001b[1;36m2\u001b[0m, \u001b[1;36m2024\u001b[0m, and incorporated herein by reference. \u001b[1;36m10.31\u001b[0m+ Form of Standard Restricted Stock Unit Award Agreement \u001b[1m(\u001b[0mshare settled\u001b[1m)\u001b[0m under the \u001b[1;36m2022\u001b[0m Long-Term \n",
              "Incentive Plan of Chevron Corporation, filed as Exhibit \u001b[1;36m10.3\u001b[0m to Chevron Corporation's Current Report on Form \u001b[1;36m8\u001b[0m-K filed February \u001b[1;36m2\u001b[0m, \u001b[1;36m2024\u001b[0m, and incorporated herein by reference. \u001b[1;36m10.32\u001b[0m+ Form of Standard \n",
              "Restricted Stock Unit Award Agreement \u001b[1m(\u001b[0mcash settled\u001b[1m)\u001b[0m under the \u001b[1;36m2022\u001b[0m Long-Term Incentive Plan of Chevron Corporation, filed as Exhibit \u001b[1;36m10.4\u001b[0m to Chevron Corporation's Current Report on Form \u001b[1;36m8\u001b[0m-K filed \n",
              "February \u001b[1;36m2\u001b[0m, \u001b[1;36m2024\u001b[0m, and incorporated herein by reference. \u001b[1;36m10.33\u001b[0m+ Form of Special Restricted Stock Unit Award Agreement \u001b[1m(\u001b[0mshare settled\u001b[1m)\u001b[0m under the \u001b[1;36m2022\u001b[0m Long-Term Incentive Plan of Chevron Corporation, \n",
              "filed as Exhibit \u001b[1;36m10.5\u001b[0m to Chevron Corporation's Current Report on Form \u001b[1;36m8\u001b[0m-K filed February \u001b[1;36m2\u001b[0m, \u001b[1;36m2024\u001b[0m, and incorporated herein by reference. \u001b[1;36m10.34\u001b[0m+ Form of Special Restricted Stock Unit Award Agreement \n",
              "\u001b[1m(\u001b[0mcash settled\u001b[1m)\u001b[0m under the \u001b[1;36m2022\u001b[0m Long-Term Incentive Plan of Chevron Corporation, filed as Exhibit \u001b[1;36m10.6\u001b[0m to Chevron Corporation's Current Report on Form \u001b[1;36m8\u001b[0m-K filed February \u001b[1;36m2\u001b[0m, \u001b[1;36m2024\u001b[0m, and incorporated herein\n",
              "by reference. \u001b[1;36m10.35\u001b[0m+ Form of Non-Qualified Stock Options Award Agreement under the \u001b[1;36m2022\u001b[0m Long-Term Incentive Plan of Chevron Corporation, filed as Exhibit \u001b[1;36m10.7\u001b[0m to Chevron Corporation's Current Report \n",
              "on Form \u001b[1;36m8\u001b[0m-K filed February \u001b[1;36m2\u001b[0m, \u001b[1;36m2024\u001b[0m, and incorporated herein by reference.\n"
            ],
            "text/html": [
              "<pre style=\"white-space:pre;overflow-x:auto;line-height:normal;font-family:Menlo,'DejaVu Sans Mono',consolas,'Courier New',monospace\">Observations: Retrieved documents:\n",
              "\n",
              "\n",
              "===== Document <span style=\"color: #008080; text-decoration-color: #008080; font-weight: bold\">0</span> =====\n",
              "Employee Savings Investment Plan\n",
              "\n",
              "Eligible employees of Chevron and certain of its subsidiaries participate in the Chevron Employee Savings Investment Plan <span style=\"font-weight: bold\">(</span>ESIP<span style=\"font-weight: bold\">)</span>. Compensation expense for the ESIP totaled $<span style=\"color: #008080; text-decoration-color: #008080; font-weight: bold\">320</span>, $<span style=\"color: #008080; text-decoration-color: #008080; font-weight: bold\">283</span> and $<span style=\"color: #008080; text-decoration-color: #008080; font-weight: bold\">252</span> in <span style=\"color: #008080; text-decoration-color: #008080; font-weight: bold\">2023</span>,\n",
              "<span style=\"color: #008080; text-decoration-color: #008080; font-weight: bold\">2022</span> and <span style=\"color: #008080; text-decoration-color: #008080; font-weight: bold\">2021</span>, respectively.\n",
              "\n",
              "<span style=\"color: #008080; text-decoration-color: #008080; font-weight: bold\">96</span>\n",
              "\n",
              "Notes to the Consolidated Financial Statements Millions of dollars, except per-share amounts\n",
              "\n",
              "Financial Table of Contents\n",
              "\n",
              "Benefit Plan Trusts\n",
              "\n",
              "Prior to its acquisition by Chevron, Texaco established a benefit plan trust for funding obligations under some of its benefit plans. At year-end <span style=\"color: #008080; text-decoration-color: #008080; font-weight: bold\">2023</span>, the trust contained <span style=\"color: #008080; text-decoration-color: #008080; font-weight: bold\">14.2</span> million shares of \n",
              "Chevron treasury stock. The trust will sell the shares or use the dividends from the shares to pay benefits only to the extent that the company does not pay such benefits. The company intends to \n",
              "continue to pay its obligations under the benefit plans. The trustee will vote the shares held in the trust as instructed by the trust's beneficiaries. The shares held in the trust are not considered \n",
              "outstanding for earnings-per-share purposes until distributed or sold by the trust in payment of benefit obligations.\n",
              "\n",
              "Employee Incentive Plan\n",
              "\n",
              "The Chevron Incentive Plan is an annual cash bonus plan for eligible employees that links awards to corporate and individual performance in the prior year. Charges to expense for cash bonuses were \n",
              "$<span style=\"color: #008080; text-decoration-color: #008080; font-weight: bold\">809</span>, $<span style=\"color: #008080; text-decoration-color: #008080; font-weight: bold\">1</span>,<span style=\"color: #008080; text-decoration-color: #008080; font-weight: bold\">169</span> and $<span style=\"color: #008080; text-decoration-color: #008080; font-weight: bold\">1</span>,<span style=\"color: #008080; text-decoration-color: #008080; font-weight: bold\">165</span> in <span style=\"color: #008080; text-decoration-color: #008080; font-weight: bold\">2023</span>, <span style=\"color: #008080; text-decoration-color: #008080; font-weight: bold\">2022</span> and <span style=\"color: #008080; text-decoration-color: #008080; font-weight: bold\">2021</span>, respectively. Chevron also has the LTIP for officers and other regular salaried employees of the company and its subsidiaries who hold positions of \n",
              "significant responsibility. Awards under the LTIP consist of stock options and other share-based compensation that are described in Note <span style=\"color: #008080; text-decoration-color: #008080; font-weight: bold\">22</span> Stock Options and Other Share-Based Compensation.\n",
              "\n",
              "Note <span style=\"color: #008080; text-decoration-color: #008080; font-weight: bold\">24</span>\n",
              "\n",
              "Other Contingencies and Commitments\n",
              "\n",
              "===== Document <span style=\"color: #008080; text-decoration-color: #008080; font-weight: bold\">1</span> =====\n",
              "<span style=\"color: #008080; text-decoration-color: #008080; font-weight: bold\">10.7</span>+ Long-Term Incentive Plan of Chevron Corporation, amended and restated effective October <span style=\"color: #008080; text-decoration-color: #008080; font-weight: bold\">2</span>, <span style=\"color: #008080; text-decoration-color: #008080; font-weight: bold\">2023</span>, filed as Exhibit <span style=\"color: #008080; text-decoration-color: #008080; font-weight: bold\">10.5</span> to Chevron Corporation's Quarterly Report on Form <span style=\"color: #008080; text-decoration-color: #008080; font-weight: bold\">10</span>-Q for the quarter \n",
              "ended September <span style=\"color: #008080; text-decoration-color: #008080; font-weight: bold\">30</span>, <span style=\"color: #008080; text-decoration-color: #008080; font-weight: bold\">2023</span>, and incorporated herein by reference. <span style=\"color: #008080; text-decoration-color: #008080; font-weight: bold\">10.8</span>+ Form of Performance Share Award Agreement under the Long-Term Incentive Plan of Chevron Corporation, filed as Exhibit <span style=\"color: #008080; text-decoration-color: #008080; font-weight: bold\">10.1</span> to \n",
              "Chevron Corporation's Current Report on Form <span style=\"color: #008080; text-decoration-color: #008080; font-weight: bold\">8</span>-K filed February <span style=\"color: #008080; text-decoration-color: #008080; font-weight: bold\">1</span>, <span style=\"color: #008080; text-decoration-color: #008080; font-weight: bold\">2021</span>, and incorporated herein by reference. <span style=\"color: #008080; text-decoration-color: #008080; font-weight: bold\">10.9</span>+ Form of Performance Share Award Agreement under the Long-Term Incentive Plan of \n",
              "Chevron Corporation, filed as Exhibit <span style=\"color: #008080; text-decoration-color: #008080; font-weight: bold\">10.1</span> to Chevron Corporation's Current Report on Form <span style=\"color: #008080; text-decoration-color: #008080; font-weight: bold\">8</span>-K filed February <span style=\"color: #008080; text-decoration-color: #008080; font-weight: bold\">3</span>, <span style=\"color: #008080; text-decoration-color: #008080; font-weight: bold\">2020</span>, and incorporated herein by reference. <span style=\"color: #008080; text-decoration-color: #008080; font-weight: bold\">10.10</span>+ Form of Standard Restricted Stock \n",
              "Unit Award Agreement under the Long-Term Incentive Plan of Chevron Corporation, filed as Exhibit <span style=\"color: #008080; text-decoration-color: #008080; font-weight: bold\">10.3</span> to Chevron Corporation's Current Report on Form <span style=\"color: #008080; text-decoration-color: #008080; font-weight: bold\">8</span>-K filed February <span style=\"color: #008080; text-decoration-color: #008080; font-weight: bold\">3</span>, <span style=\"color: #008080; text-decoration-color: #008080; font-weight: bold\">2020</span>, and incorporated \n",
              "herein by reference.\n",
              "\n",
              "===== Document <span style=\"color: #008080; text-decoration-color: #008080; font-weight: bold\">2</span> =====\n",
              "Cash received in payment for option exercises under all share-based payment arrangements for <span style=\"color: #008080; text-decoration-color: #008080; font-weight: bold\">2023</span>, <span style=\"color: #008080; text-decoration-color: #008080; font-weight: bold\">2022</span> and <span style=\"color: #008080; text-decoration-color: #008080; font-weight: bold\">2021</span> was $<span style=\"color: #008080; text-decoration-color: #008080; font-weight: bold\">263</span>, $<span style=\"color: #008080; text-decoration-color: #008080; font-weight: bold\">5</span>,<span style=\"color: #008080; text-decoration-color: #008080; font-weight: bold\">835</span> and $<span style=\"color: #008080; text-decoration-color: #008080; font-weight: bold\">1</span>,<span style=\"color: #008080; text-decoration-color: #008080; font-weight: bold\">274</span>, respectively. Actual tax benefits realized for the tax \n",
              "deductions from option exercises were $<span style=\"color: #008080; text-decoration-color: #008080; font-weight: bold\">20</span>, $<span style=\"color: #008080; text-decoration-color: #008080; font-weight: bold\">216</span> and $<span style=\"font-weight: bold\">(</span><span style=\"color: #008080; text-decoration-color: #008080; font-weight: bold\">15</span><span style=\"font-weight: bold\">)</span> for <span style=\"color: #008080; text-decoration-color: #008080; font-weight: bold\">2023</span>, <span style=\"color: #008080; text-decoration-color: #008080; font-weight: bold\">2022</span> and <span style=\"color: #008080; text-decoration-color: #008080; font-weight: bold\">2021</span>, respectively. Cash paid to settle performance shares, restricted stock units and stock appreciation rights was $<span style=\"color: #008080; text-decoration-color: #008080; font-weight: bold\">566</span>, \n",
              "$<span style=\"color: #008080; text-decoration-color: #008080; font-weight: bold\">556</span> and $<span style=\"color: #008080; text-decoration-color: #008080; font-weight: bold\">163</span> for <span style=\"color: #008080; text-decoration-color: #008080; font-weight: bold\">2023</span>, <span style=\"color: #008080; text-decoration-color: #008080; font-weight: bold\">2022</span> and <span style=\"color: #008080; text-decoration-color: #008080; font-weight: bold\">2021</span>, respectively. On May <span style=\"color: #008080; text-decoration-color: #008080; font-weight: bold\">25</span>, <span style=\"color: #008080; text-decoration-color: #008080; font-weight: bold\">2022</span>, stockholders approved the Chevron <span style=\"color: #008080; text-decoration-color: #008080; font-weight: bold\">2022</span> Long-Term Incentive Plan <span style=\"font-weight: bold\">(</span><span style=\"color: #008080; text-decoration-color: #008080; font-weight: bold\">2022</span> LTIP<span style=\"font-weight: bold\">)</span>. Awards under the <span style=\"color: #008080; text-decoration-color: #008080; font-weight: bold\">2022</span> LTIP may take the form of, but \n",
              "are not limited to, stock options, restricted stock, restricted stock units, stock appreciation rights, performance shares and non-stock grants. From May <span style=\"color: #008080; text-decoration-color: #008080; font-weight: bold\">2022</span> through May <span style=\"color: #008080; text-decoration-color: #008080; font-weight: bold\">2032</span>, no more than <span style=\"color: #008080; text-decoration-color: #008080; font-weight: bold\">104</span> \n",
              "million shares may be issued under the <span style=\"color: #008080; text-decoration-color: #008080; font-weight: bold\">2022</span> LTIP. For awards issued on or after May <span style=\"color: #008080; text-decoration-color: #008080; font-weight: bold\">25</span>, <span style=\"color: #008080; text-decoration-color: #008080; font-weight: bold\">2022</span>, no more than <span style=\"color: #008080; text-decoration-color: #008080; font-weight: bold\">48</span> million of those shares may be issued in the form of full value awards such as \n",
              "share-settled restricted stock, share-settled restricted stock units and share-settled performance shares and other share-settled awards that do not require full payment in cash or property for shares\n",
              "underlying such awards by the award recipient. For the major types of awards issued before January <span style=\"color: #008080; text-decoration-color: #008080; font-weight: bold\">1</span>, <span style=\"color: #008080; text-decoration-color: #008080; font-weight: bold\">2017</span>, the contractual terms vary between three years for the performance shares and restricted \n",
              "stock units, and <span style=\"color: #008080; text-decoration-color: #008080; font-weight: bold\">10</span> years for the stock options and stock appreciation rights. For awards issued after January <span style=\"color: #008080; text-decoration-color: #008080; font-weight: bold\">1</span>, <span style=\"color: #008080; text-decoration-color: #008080; font-weight: bold\">2017</span>, contractual terms vary between three years for the performance shares and \n",
              "special restricted stock units, five years for standard restricted stock units and <span style=\"color: #008080; text-decoration-color: #008080; font-weight: bold\">10</span> years for the stock options and stock appreciation rights. Commencing for grants issued in January <span style=\"color: #008080; text-decoration-color: #008080; font-weight: bold\">2023</span> and after,\n",
              "standard restricted stock units vest ratably on an annual basis over a three-year period. Forfeitures of performance shares, restricted stock units, and stock appreciation rights are recognized as \n",
              "they occur. Forfeitures of stock options are estimated using historical\n",
              "\n",
              "===== Document <span style=\"color: #008080; text-decoration-color: #008080; font-weight: bold\">3</span> =====\n",
              "<span style=\"color: #008080; text-decoration-color: #008080; font-weight: bold\">10.25</span>+ Form of Special Restricted Stock Unit Award Agreement <span style=\"font-weight: bold\">(</span>share settled<span style=\"font-weight: bold\">)</span> under the <span style=\"color: #008080; text-decoration-color: #008080; font-weight: bold\">2022</span> Long-Term Incentive Plan of Chevron Corporation, filed as Exhibit <span style=\"color: #008080; text-decoration-color: #008080; font-weight: bold\">10.4</span> to Chevron Corporation's Current \n",
              "Report on Form <span style=\"color: #008080; text-decoration-color: #008080; font-weight: bold\">8</span>-K filed January <span style=\"color: #008080; text-decoration-color: #008080; font-weight: bold\">27</span>, <span style=\"color: #008080; text-decoration-color: #008080; font-weight: bold\">2023</span>, and incorporated herein by reference. <span style=\"color: #008080; text-decoration-color: #008080; font-weight: bold\">10.26</span>+ Form of Special Restricted Stock Unit Award Agreement <span style=\"font-weight: bold\">(</span>cash settled<span style=\"font-weight: bold\">)</span> under the <span style=\"color: #008080; text-decoration-color: #008080; font-weight: bold\">2022</span> Long-Term Incentive Plan of \n",
              "Chevron Corporation, filed as Exhibit <span style=\"color: #008080; text-decoration-color: #008080; font-weight: bold\">10.5</span> to Chevron Corporation's Current Report on Form <span style=\"color: #008080; text-decoration-color: #008080; font-weight: bold\">8</span>-K filed January <span style=\"color: #008080; text-decoration-color: #008080; font-weight: bold\">27</span>, <span style=\"color: #008080; text-decoration-color: #008080; font-weight: bold\">2023</span>, and incorporated herein by reference. <span style=\"color: #008080; text-decoration-color: #008080; font-weight: bold\">10.27</span>+ Form of Non-Qualified Stock Option \n",
              "Award Agreement under the <span style=\"color: #008080; text-decoration-color: #008080; font-weight: bold\">2022</span> Long-Term Incentive Plan of Chevron Corporation, filed as Exhibit <span style=\"color: #008080; text-decoration-color: #008080; font-weight: bold\">10.6</span> to Chevron Corporation's Current Report on Form <span style=\"color: #008080; text-decoration-color: #008080; font-weight: bold\">8</span>-K filed January <span style=\"color: #008080; text-decoration-color: #008080; font-weight: bold\">27</span>, <span style=\"color: #008080; text-decoration-color: #008080; font-weight: bold\">2023</span>, and incorporated \n",
              "herein by reference. <span style=\"color: #008080; text-decoration-color: #008080; font-weight: bold\">10.28</span>+ Form of Stock Appreciation Right Award Agreement under the <span style=\"color: #008080; text-decoration-color: #008080; font-weight: bold\">2022</span> Long-Term Incentive Plan of Chevron Corporation, filed as Exhibit <span style=\"color: #008080; text-decoration-color: #008080; font-weight: bold\">10.7</span> to Chevron Corporation's Current \n",
              "Report on Form <span style=\"color: #008080; text-decoration-color: #008080; font-weight: bold\">8</span>-K filed January <span style=\"color: #008080; text-decoration-color: #008080; font-weight: bold\">27</span>, <span style=\"color: #008080; text-decoration-color: #008080; font-weight: bold\">2023</span>, and incorporated herein by reference. <span style=\"color: #008080; text-decoration-color: #008080; font-weight: bold\">10.29</span>+ Form of Performance Share Award Agreement <span style=\"font-weight: bold\">(</span>share settled<span style=\"font-weight: bold\">)</span> under the <span style=\"color: #008080; text-decoration-color: #008080; font-weight: bold\">2022</span> Long-Term Incentive Plan of Chevron \n",
              "Corporation, filed as Exhibit <span style=\"color: #008080; text-decoration-color: #008080; font-weight: bold\">10.1</span> to Chevron Corporation's Current Report on Form <span style=\"color: #008080; text-decoration-color: #008080; font-weight: bold\">8</span>-K filed February <span style=\"color: #008080; text-decoration-color: #008080; font-weight: bold\">2</span>, <span style=\"color: #008080; text-decoration-color: #008080; font-weight: bold\">2024</span>, and incorporated herein by reference.\n",
              "\n",
              "===== Document <span style=\"color: #008080; text-decoration-color: #008080; font-weight: bold\">4</span> =====\n",
              "Exhibit No. Description <span style=\"color: #008080; text-decoration-color: #008080; font-weight: bold\">10.30</span>+ Form of Performance Share Award Agreement <span style=\"font-weight: bold\">(</span>cash settled<span style=\"font-weight: bold\">)</span> under the <span style=\"color: #008080; text-decoration-color: #008080; font-weight: bold\">2022</span> Long-Term Incentive Plan of Chevron Corporation, filed as Exhibit <span style=\"color: #008080; text-decoration-color: #008080; font-weight: bold\">10.2</span> to Chevron Corporation's \n",
              "Current Report on Form <span style=\"color: #008080; text-decoration-color: #008080; font-weight: bold\">8</span>-K filed February <span style=\"color: #008080; text-decoration-color: #008080; font-weight: bold\">2</span>, <span style=\"color: #008080; text-decoration-color: #008080; font-weight: bold\">2024</span>, and incorporated herein by reference. <span style=\"color: #008080; text-decoration-color: #008080; font-weight: bold\">10.31</span>+ Form of Standard Restricted Stock Unit Award Agreement <span style=\"font-weight: bold\">(</span>share settled<span style=\"font-weight: bold\">)</span> under the <span style=\"color: #008080; text-decoration-color: #008080; font-weight: bold\">2022</span> Long-Term \n",
              "Incentive Plan of Chevron Corporation, filed as Exhibit <span style=\"color: #008080; text-decoration-color: #008080; font-weight: bold\">10.3</span> to Chevron Corporation's Current Report on Form <span style=\"color: #008080; text-decoration-color: #008080; font-weight: bold\">8</span>-K filed February <span style=\"color: #008080; text-decoration-color: #008080; font-weight: bold\">2</span>, <span style=\"color: #008080; text-decoration-color: #008080; font-weight: bold\">2024</span>, and incorporated herein by reference. <span style=\"color: #008080; text-decoration-color: #008080; font-weight: bold\">10.32</span>+ Form of Standard \n",
              "Restricted Stock Unit Award Agreement <span style=\"font-weight: bold\">(</span>cash settled<span style=\"font-weight: bold\">)</span> under the <span style=\"color: #008080; text-decoration-color: #008080; font-weight: bold\">2022</span> Long-Term Incentive Plan of Chevron Corporation, filed as Exhibit <span style=\"color: #008080; text-decoration-color: #008080; font-weight: bold\">10.4</span> to Chevron Corporation's Current Report on Form <span style=\"color: #008080; text-decoration-color: #008080; font-weight: bold\">8</span>-K filed \n",
              "February <span style=\"color: #008080; text-decoration-color: #008080; font-weight: bold\">2</span>, <span style=\"color: #008080; text-decoration-color: #008080; font-weight: bold\">2024</span>, and incorporated herein by reference. <span style=\"color: #008080; text-decoration-color: #008080; font-weight: bold\">10.33</span>+ Form of Special Restricted Stock Unit Award Agreement <span style=\"font-weight: bold\">(</span>share settled<span style=\"font-weight: bold\">)</span> under the <span style=\"color: #008080; text-decoration-color: #008080; font-weight: bold\">2022</span> Long-Term Incentive Plan of Chevron Corporation, \n",
              "filed as Exhibit <span style=\"color: #008080; text-decoration-color: #008080; font-weight: bold\">10.5</span> to Chevron Corporation's Current Report on Form <span style=\"color: #008080; text-decoration-color: #008080; font-weight: bold\">8</span>-K filed February <span style=\"color: #008080; text-decoration-color: #008080; font-weight: bold\">2</span>, <span style=\"color: #008080; text-decoration-color: #008080; font-weight: bold\">2024</span>, and incorporated herein by reference. <span style=\"color: #008080; text-decoration-color: #008080; font-weight: bold\">10.34</span>+ Form of Special Restricted Stock Unit Award Agreement \n",
              "<span style=\"font-weight: bold\">(</span>cash settled<span style=\"font-weight: bold\">)</span> under the <span style=\"color: #008080; text-decoration-color: #008080; font-weight: bold\">2022</span> Long-Term Incentive Plan of Chevron Corporation, filed as Exhibit <span style=\"color: #008080; text-decoration-color: #008080; font-weight: bold\">10.6</span> to Chevron Corporation's Current Report on Form <span style=\"color: #008080; text-decoration-color: #008080; font-weight: bold\">8</span>-K filed February <span style=\"color: #008080; text-decoration-color: #008080; font-weight: bold\">2</span>, <span style=\"color: #008080; text-decoration-color: #008080; font-weight: bold\">2024</span>, and incorporated herein\n",
              "by reference. <span style=\"color: #008080; text-decoration-color: #008080; font-weight: bold\">10.35</span>+ Form of Non-Qualified Stock Options Award Agreement under the <span style=\"color: #008080; text-decoration-color: #008080; font-weight: bold\">2022</span> Long-Term Incentive Plan of Chevron Corporation, filed as Exhibit <span style=\"color: #008080; text-decoration-color: #008080; font-weight: bold\">10.7</span> to Chevron Corporation's Current Report \n",
              "on Form <span style=\"color: #008080; text-decoration-color: #008080; font-weight: bold\">8</span>-K filed February <span style=\"color: #008080; text-decoration-color: #008080; font-weight: bold\">2</span>, <span style=\"color: #008080; text-decoration-color: #008080; font-weight: bold\">2024</span>, and incorporated herein by reference.\n",
              "</pre>\n"
            ]
          },
          "metadata": {}
        },
        {
          "output_type": "display_data",
          "data": {
            "text/plain": [
              "\u001b[2m[Step 0: Duration 4.25 seconds| Input tokens: 1,024 | Output tokens: 53]\u001b[0m\n"
            ],
            "text/html": [
              "<pre style=\"white-space:pre;overflow-x:auto;line-height:normal;font-family:Menlo,'DejaVu Sans Mono',consolas,'Courier New',monospace\"><span style=\"color: #7f7f7f; text-decoration-color: #7f7f7f\">[Step 0: Duration 4.25 seconds| Input tokens: 1,024 | Output tokens: 53]</span>\n",
              "</pre>\n"
            ]
          },
          "metadata": {}
        },
        {
          "output_type": "display_data",
          "data": {
            "text/plain": [
              "\u001b[38;2;212;183;2m━━━━━━━━━━━━━━━━━━━━━━━━━━━━━━━━━━━━━━━━━━━━━━━━━━━━━━━━━━━━━━━━━━━━━━━━━━━━━━━━━━━━━━━━━━━━━━━━ \u001b[0m\u001b[1mStep \u001b[0m\u001b[1;36m1\u001b[0m\u001b[38;2;212;183;2m ━━━━━━━━━━━━━━━━━━━━━━━━━━━━━━━━━━━━━━━━━━━━━━━━━━━━━━━━━━━━━━━━━━━━━━━━━━━━━━━━━━━━━━━━━━━━━━━━\u001b[0m\n"
            ],
            "text/html": [
              "<pre style=\"white-space:pre;overflow-x:auto;line-height:normal;font-family:Menlo,'DejaVu Sans Mono',consolas,'Courier New',monospace\"><span style=\"color: #d4b702; text-decoration-color: #d4b702\">━━━━━━━━━━━━━━━━━━━━━━━━━━━━━━━━━━━━━━━━━━━━━━━━━━━━━━━━━━━━━━━━━━━━━━━━━━━━━━━━━━━━━━━━━━━━━━━━ </span><span style=\"font-weight: bold\">Step </span><span style=\"color: #008080; text-decoration-color: #008080; font-weight: bold\">1</span><span style=\"color: #d4b702; text-decoration-color: #d4b702\"> ━━━━━━━━━━━━━━━━━━━━━━━━━━━━━━━━━━━━━━━━━━━━━━━━━━━━━━━━━━━━━━━━━━━━━━━━━━━━━━━━━━━━━━━━━━━━━━━━</span>\n",
              "</pre>\n"
            ]
          },
          "metadata": {}
        },
        {
          "output_type": "display_data",
          "data": {
            "text/plain": [
              "╭──────────────────────────────────────────────────────────────────────────────────────────────────────────────────────────────────────────────────────────────────────────────────────────────────────╮\n",
              "│ Calling tool: 'retriever' with arguments: {'query': 'Walmart employee incentive plans'}                                                                                                              │\n",
              "╰──────────────────────────────────────────────────────────────────────────────────────────────────────────────────────────────────────────────────────────────────────────────────────────────────────╯\n"
            ],
            "text/html": [
              "<pre style=\"white-space:pre;overflow-x:auto;line-height:normal;font-family:Menlo,'DejaVu Sans Mono',consolas,'Courier New',monospace\">╭──────────────────────────────────────────────────────────────────────────────────────────────────────────────────────────────────────────────────────────────────────────────────────────────────────╮\n",
              "│ Calling tool: 'retriever' with arguments: {'query': 'Walmart employee incentive plans'}                                                                                                              │\n",
              "╰──────────────────────────────────────────────────────────────────────────────────────────────────────────────────────────────────────────────────────────────────────────────────────────────────────╯\n",
              "</pre>\n"
            ]
          },
          "metadata": {}
        },
        {
          "output_type": "display_data",
          "data": {
            "text/plain": [
              "Observations: Retrieved documents:\n",
              "\n",
              "\n",
              "===== Document \u001b[1;36m0\u001b[0m =====\n",
              "The Walmart Inc. Stock Incentive Plan of \u001b[1;36m2015\u001b[0m \u001b[1m(\u001b[0mthe \u001b[32m\"Plan\"\u001b[0m\u001b[1m)\u001b[0m, as subsequently amended and restated, was established to grant stock options, restricted \u001b[1m(\u001b[0mnon-vested\u001b[1m)\u001b[0m stock, restricted stock units, \n",
              "performance share units and other equity compensation\n",
              "\n",
              "\u001b[1;36m65\u001b[0m\n",
              "\n",
              "awards for which \u001b[1;36m260\u001b[0m million shares of Walmart common stock issued or to be issued under the Plan have been registered under the Securities Act of \u001b[1;36m1933\u001b[0m. The Company believes that such awards serve to \n",
              "align the interests of its associates with those of its shareholders. The Plan's award types are summarized as follows:\n",
              "\n",
              "===== Document \u001b[1;36m1\u001b[0m =====\n",
              "Year of February \u001b[1;36m1\u001b[0m, \u001b[1;36m1996\u001b[0m - March \u001b[1;36m31\u001b[0m, \u001b[1;36m1997\u001b[0m\u001b[1m)\u001b[0m. Credited Plan earnings on such nonrecognized Deferred Compensation or Deferred Bonuses are likewise not taken into account in determining the amount of an \n",
              "Incentive Payment. \u001b[1m(\u001b[0mc\u001b[1m)\u001b[0m If a Participant remains continuously employed with Walmart or its Related Affiliates for a period of ten \u001b[1m(\u001b[0m\u001b[1;36m10\u001b[0m\u001b[1m)\u001b[0m consecutive full Plan Years, beginning with the first day of the \n",
              "first Plan Year in which the Participant had a Deferred Compensation or Deferred Bonus election in effect under this Plan or a Prior Agreement, and ending with the last day of the tenth \u001b[1m(\u001b[0m10th\u001b[1m)\u001b[0m Plan \n",
              "Year of such period, an Incentive Payment will be credited to the Participant's Grandfathered Account as of the last day of such tenth Plan Year. The Incentive Payment will be equal to twenty percent \n",
              "\u001b[1m(\u001b[0m\u001b[1;36m20\u001b[0m%\u001b[1m)\u001b[0m of the Participant's recognized Deferred Compensation and Deferred Bonuses for ten \u001b[1m(\u001b[0m\u001b[1;36m10\u001b[0m\u001b[1m)\u001b[0m, but not less than five \u001b[1m(\u001b[0m\u001b[1;36m5\u001b[0m\u001b[1m)\u001b[0m, Plan Years \u001b[1m(\u001b[0mi.e., the first six \u001b[1m(\u001b[0m\u001b[1;36m6\u001b[0m\u001b[1m)\u001b[0m Plan Years of such ten \u001b[1m(\u001b[0m\u001b[1;36m10\u001b[0m\u001b[1m)\u001b[0m-year period\u001b[1m)\u001b[0m,\n",
              "plus credited Plan earnings thereon through the award date. For each full Plan Year thereafter in which the Participant remains continuously employed with Walmart or its Related Affiliates, an \n",
              "Incentive Payment will be credited to the Participant's Grandfathered Account as of the last day of such Plan Year. Such Incentive Payment will be equal to twenty percent \u001b[1m(\u001b[0m\u001b[1;36m20\u001b[0m%\u001b[1m)\u001b[0m of the Participant's \n",
              "recognized Deferred Compensation and Deferred Bonuses for the first Plan Year of the five \u001b[1m(\u001b[0m\u001b[1;36m5\u001b[0m\u001b[1m)\u001b[0m-consecutive Plan Year period ending on the award date, plus credited Plan earnings thereon through the \n",
              "award date. \u001b[1m(\u001b[0md\u001b[1m)\u001b[0m If a Participant remains continuously employed with Walmart or its Related Affiliates for a period of fifteen \u001b[1m(\u001b[0m\u001b[1;36m15\u001b[0m\u001b[1m)\u001b[0m consecutive full Plan Years, beginning with the first day of the \n",
              "first Plan Year in which the Participant had a Deferred Compensation or Deferred Bonuses election in effect under this Plan or a Prior Agreement, and ending with the last day of the fifteenth \u001b[1m(\u001b[0m15th\u001b[1m)\u001b[0m \n",
              "Plan Year of such period, an Incentive Payment will be credited to\n",
              "\n",
              "===== Document \u001b[1;36m2\u001b[0m =====\n",
              "day of the first Plan Year in which the Participant had a Deferred Compensation or Deferred Bonus election in effect under this Plan or a Prior Agreement, and ending with the last day of the fifteenth\n",
              "\u001b[1m(\u001b[0m15th\u001b[1m)\u001b[0m Plan Year of such period, an Incentive Payment will be credited to the Participant's Account as of the last day of such fifteenth \u001b[1m(\u001b[0m15th\u001b[1m)\u001b[0m Plan Year. The Incentive Payment will be equal to ten \n",
              "percent \u001b[1m(\u001b[0m\u001b[1;36m10\u001b[0m%\u001b[1m)\u001b[0m of the Participant's recognized Deferred Compensation and Deferred Bonuses for fifteen \u001b[1m(\u001b[0m\u001b[1;36m15\u001b[0m\u001b[1m)\u001b[0m, but not less than ten \u001b[1m(\u001b[0m\u001b[1;36m10\u001b[0m\u001b[1m)\u001b[0m, Plan Years \u001b[1m(\u001b[0mi.e., the first six \u001b[1m(\u001b[0m\u001b[1;36m6\u001b[0m\u001b[1m)\u001b[0m Plan Years of such fifteen \n",
              "\u001b[1m(\u001b[0m\u001b[1;36m15\u001b[0m\u001b[1m)\u001b[0m-year period\u001b[1m)\u001b[0m, plus credited Plan earnings thereon through the award date. For each full Plan Year thereafter in which the Participant remains continuously employed with Walmart or any Employer, \n",
              "an Incentive Payment will be credited to the Participant's Account as of the last day of such Plan Year. Such Incentive Payment will be equal to ten percent \u001b[1m(\u001b[0m\u001b[1;36m10\u001b[0m%\u001b[1m)\u001b[0m of the Participant's recognized \n",
              "Deferred Compensation and Deferred Bonuses for the first Plan Year of the ten \u001b[1m(\u001b[0m\u001b[1;36m10\u001b[0m\u001b[1m)\u001b[0m-consecutive Plan Year period ending on the award date, plus credited Plan earnings thereon through the award date. \n",
              "The Incentive Payments provided in this Section \u001b[1;35m4.2\u001b[0m\u001b[1m(\u001b[0md\u001b[1m)\u001b[0m shall not take into account Incentive Payments credited under Section \u001b[1;35m4.2\u001b[0m\u001b[1m(\u001b[0mc\u001b[1m)\u001b[0m or credited Plan earnings thereon.\n",
              "\n",
              "===== Document \u001b[1;36m3\u001b[0m =====\n",
              "Year. Credited Plan earnings on such nonrecognized Deferred Compensation or Deferred Bonuses are likewise not taken into account in determining the amount of an Incentive Payment. Further, in no event\n",
              "shall Deferred Special Bonuses, Deferred Retention Bonuses, Deferred Equity or any Employer Contribution Credits be taken into account in determining the amount of an Incentive Payment. \u001b[1m(\u001b[0mc\u001b[1m)\u001b[0m If a \n",
              "Participant remains continuously employed with Walmart or any Employer for a period of ten \u001b[1m(\u001b[0m\u001b[1;36m10\u001b[0m\u001b[1m)\u001b[0m consecutive full Plan Years, beginning with the first day of the first Plan Year in which the \n",
              "Participant had a Deferred Compensation or Deferred Bonus election in effect under this Plan or a Prior Agreement, and ending with the last day of the tenth \u001b[1m(\u001b[0m10th\u001b[1m)\u001b[0m Plan Year of such period, an \n",
              "Incentive Payment will be credited to the Participant's Account as of the last day of such tenth \u001b[1m(\u001b[0m10th\u001b[1m)\u001b[0m Plan Year. The Incentive Payment will be equal to twenty percent \u001b[1m(\u001b[0m\u001b[1;36m20\u001b[0m%\u001b[1m)\u001b[0m of the Participant's \n",
              "recognized Deferred Compensation and Deferred Bonuses for ten \u001b[1m(\u001b[0m\u001b[1;36m10\u001b[0m\u001b[1m)\u001b[0m, but not less than five \u001b[1m(\u001b[0m\u001b[1;36m5\u001b[0m\u001b[1m)\u001b[0m, Plan Years \u001b[1m(\u001b[0mi.e., the first six \u001b[1m(\u001b[0m\u001b[1;36m6\u001b[0m\u001b[1m)\u001b[0m Plan Years of such ten \u001b[1m(\u001b[0m\u001b[1;36m10\u001b[0m\u001b[1m)\u001b[0m-year period\u001b[1m)\u001b[0m, plus credited Plan \n",
              "earnings thereon through the award date. For each full Plan Year thereafter in which the Participant remains continuously employed with Walmart or any Employer, an Incentive Payment will be credited \n",
              "to the Participant's Account as of the last day of such Plan Year. Such Incentive Payment will be equal to twenty percent \u001b[1m(\u001b[0m\u001b[1;36m20\u001b[0m%\u001b[1m)\u001b[0m of the Participant's recognized Deferred Compensation and Deferred \n",
              "Bonuses for the first Plan Year of the five \u001b[1m(\u001b[0m\u001b[1;36m5\u001b[0m\u001b[1m)\u001b[0m-consecutive Plan Year period ending on the award date, plus credited Plan earnings thereon through the award date. \u001b[1m(\u001b[0md\u001b[1m)\u001b[0m If a Participant remains \n",
              "continuously employed with Walmart or any Employer for a period of fifteen \u001b[1m(\u001b[0m\u001b[1;36m15\u001b[0m\u001b[1m)\u001b[0m consecutive full Plan Years, beginning with the first day of the first Plan Year in which the Participant had a Deferred\n",
              "Compensation or Deferred Bonus election in effect under this Plan or a Prior Agreement, and\n",
              "\n",
              "===== Document \u001b[1;36m4\u001b[0m =====\n",
              "t under this Plan or a Prior Agreement, and ending with the last day of the fifteenth \u001b[1m(\u001b[0m15th\u001b[1m)\u001b[0m Plan Year of such period, an Incentive Payment will be credited to the Participant's Grandfathered Account \n",
              "as of the last day of such fifteenth \u001b[1m(\u001b[0m15th\u001b[1m)\u001b[0m Plan Year. The Incentive Payment will be equal to ten percent \u001b[1m(\u001b[0m\u001b[1;36m10\u001b[0m%\u001b[1m)\u001b[0m of the Participant's recognized Deferred Compensation and Deferred Bonuses for fifteen \n",
              "\u001b[1m(\u001b[0m\u001b[1;36m15\u001b[0m\u001b[1m)\u001b[0m, but not less than ten \u001b[1m(\u001b[0m\u001b[1;36m10\u001b[0m\u001b[1m)\u001b[0m, Plan Years \u001b[1m(\u001b[0mi.e., the first six \u001b[1m(\u001b[0m\u001b[1;36m6\u001b[0m\u001b[1m)\u001b[0m Plan Years of such fifteen \u001b[1m(\u001b[0m\u001b[1;36m15\u001b[0m\u001b[1m)\u001b[0m-year period\u001b[1m)\u001b[0m, plus credited Plan earnings thereon through the award date. For each full Plan Year \n",
              "thereafter in which the Participant remains continuously employed with Walmart or its Related Affiliates, an Incentive Payment will be credited to the Participant's Grandfathered Account as of the \n",
              "last day of such Plan Year. Such Incentive Payment will be equal to ten percent \u001b[1m(\u001b[0m\u001b[1;36m10\u001b[0m%\u001b[1m)\u001b[0m of the Participant's recognized Deferred Compensation and Deferred Bonuses for the first Plan Year of a ten \n",
              "\u001b[1m(\u001b[0m\u001b[1;36m10\u001b[0m\u001b[1m)\u001b[0m-consecutive Plan Year period ending on the award date, plus credited Plan earnings thereon through the award date. The Incentive Payments provided in this Section \u001b[1;35m4.2\u001b[0m\u001b[1m(\u001b[0md\u001b[1m)\u001b[0m shall not take into \n",
              "account Incentive Payments credited under Section \u001b[1;35m4.2\u001b[0m\u001b[1m(\u001b[0mc\u001b[1m)\u001b[0m or credited Plan earnings thereon. \u001b[1m(\u001b[0me\u001b[1m)\u001b[0m The Incentive Payments provided in this Section \u001b[1;35m4.2\u001b[0m\u001b[1m(\u001b[0me\u001b[1m)\u001b[0m only apply if a Participant has been a \n",
              "Participant under the Plan \u001b[1m(\u001b[0mor a Prior Agreement\u001b[1m)\u001b[0m for five \u001b[1m(\u001b[0m\u001b[1;36m5\u001b[0m\u001b[1m)\u001b[0m or more full Plan Years and if the Participant incurs a Retirement, Early Retirement, death or Disability before satisfaction of the ten \n",
              "\u001b[1m(\u001b[0m\u001b[1;36m10\u001b[0m\u001b[1m)\u001b[0m- or fifteen \u001b[1m(\u001b[0m\u001b[1;36m15\u001b[0m\u001b[1m)\u001b[0m-year periods\n"
            ],
            "text/html": [
              "<pre style=\"white-space:pre;overflow-x:auto;line-height:normal;font-family:Menlo,'DejaVu Sans Mono',consolas,'Courier New',monospace\">Observations: Retrieved documents:\n",
              "\n",
              "\n",
              "===== Document <span style=\"color: #008080; text-decoration-color: #008080; font-weight: bold\">0</span> =====\n",
              "The Walmart Inc. Stock Incentive Plan of <span style=\"color: #008080; text-decoration-color: #008080; font-weight: bold\">2015</span> <span style=\"font-weight: bold\">(</span>the <span style=\"color: #008000; text-decoration-color: #008000\">\"Plan\"</span><span style=\"font-weight: bold\">)</span>, as subsequently amended and restated, was established to grant stock options, restricted <span style=\"font-weight: bold\">(</span>non-vested<span style=\"font-weight: bold\">)</span> stock, restricted stock units, \n",
              "performance share units and other equity compensation\n",
              "\n",
              "<span style=\"color: #008080; text-decoration-color: #008080; font-weight: bold\">65</span>\n",
              "\n",
              "awards for which <span style=\"color: #008080; text-decoration-color: #008080; font-weight: bold\">260</span> million shares of Walmart common stock issued or to be issued under the Plan have been registered under the Securities Act of <span style=\"color: #008080; text-decoration-color: #008080; font-weight: bold\">1933</span>. The Company believes that such awards serve to \n",
              "align the interests of its associates with those of its shareholders. The Plan's award types are summarized as follows:\n",
              "\n",
              "===== Document <span style=\"color: #008080; text-decoration-color: #008080; font-weight: bold\">1</span> =====\n",
              "Year of February <span style=\"color: #008080; text-decoration-color: #008080; font-weight: bold\">1</span>, <span style=\"color: #008080; text-decoration-color: #008080; font-weight: bold\">1996</span> - March <span style=\"color: #008080; text-decoration-color: #008080; font-weight: bold\">31</span>, <span style=\"color: #008080; text-decoration-color: #008080; font-weight: bold\">1997</span><span style=\"font-weight: bold\">)</span>. Credited Plan earnings on such nonrecognized Deferred Compensation or Deferred Bonuses are likewise not taken into account in determining the amount of an \n",
              "Incentive Payment. <span style=\"font-weight: bold\">(</span>c<span style=\"font-weight: bold\">)</span> If a Participant remains continuously employed with Walmart or its Related Affiliates for a period of ten <span style=\"font-weight: bold\">(</span><span style=\"color: #008080; text-decoration-color: #008080; font-weight: bold\">10</span><span style=\"font-weight: bold\">)</span> consecutive full Plan Years, beginning with the first day of the \n",
              "first Plan Year in which the Participant had a Deferred Compensation or Deferred Bonus election in effect under this Plan or a Prior Agreement, and ending with the last day of the tenth <span style=\"font-weight: bold\">(</span>10th<span style=\"font-weight: bold\">)</span> Plan \n",
              "Year of such period, an Incentive Payment will be credited to the Participant's Grandfathered Account as of the last day of such tenth Plan Year. The Incentive Payment will be equal to twenty percent \n",
              "<span style=\"font-weight: bold\">(</span><span style=\"color: #008080; text-decoration-color: #008080; font-weight: bold\">20</span>%<span style=\"font-weight: bold\">)</span> of the Participant's recognized Deferred Compensation and Deferred Bonuses for ten <span style=\"font-weight: bold\">(</span><span style=\"color: #008080; text-decoration-color: #008080; font-weight: bold\">10</span><span style=\"font-weight: bold\">)</span>, but not less than five <span style=\"font-weight: bold\">(</span><span style=\"color: #008080; text-decoration-color: #008080; font-weight: bold\">5</span><span style=\"font-weight: bold\">)</span>, Plan Years <span style=\"font-weight: bold\">(</span>i.e., the first six <span style=\"font-weight: bold\">(</span><span style=\"color: #008080; text-decoration-color: #008080; font-weight: bold\">6</span><span style=\"font-weight: bold\">)</span> Plan Years of such ten <span style=\"font-weight: bold\">(</span><span style=\"color: #008080; text-decoration-color: #008080; font-weight: bold\">10</span><span style=\"font-weight: bold\">)</span>-year period<span style=\"font-weight: bold\">)</span>,\n",
              "plus credited Plan earnings thereon through the award date. For each full Plan Year thereafter in which the Participant remains continuously employed with Walmart or its Related Affiliates, an \n",
              "Incentive Payment will be credited to the Participant's Grandfathered Account as of the last day of such Plan Year. Such Incentive Payment will be equal to twenty percent <span style=\"font-weight: bold\">(</span><span style=\"color: #008080; text-decoration-color: #008080; font-weight: bold\">20</span>%<span style=\"font-weight: bold\">)</span> of the Participant's \n",
              "recognized Deferred Compensation and Deferred Bonuses for the first Plan Year of the five <span style=\"font-weight: bold\">(</span><span style=\"color: #008080; text-decoration-color: #008080; font-weight: bold\">5</span><span style=\"font-weight: bold\">)</span>-consecutive Plan Year period ending on the award date, plus credited Plan earnings thereon through the \n",
              "award date. <span style=\"font-weight: bold\">(</span>d<span style=\"font-weight: bold\">)</span> If a Participant remains continuously employed with Walmart or its Related Affiliates for a period of fifteen <span style=\"font-weight: bold\">(</span><span style=\"color: #008080; text-decoration-color: #008080; font-weight: bold\">15</span><span style=\"font-weight: bold\">)</span> consecutive full Plan Years, beginning with the first day of the \n",
              "first Plan Year in which the Participant had a Deferred Compensation or Deferred Bonuses election in effect under this Plan or a Prior Agreement, and ending with the last day of the fifteenth <span style=\"font-weight: bold\">(</span>15th<span style=\"font-weight: bold\">)</span> \n",
              "Plan Year of such period, an Incentive Payment will be credited to\n",
              "\n",
              "===== Document <span style=\"color: #008080; text-decoration-color: #008080; font-weight: bold\">2</span> =====\n",
              "day of the first Plan Year in which the Participant had a Deferred Compensation or Deferred Bonus election in effect under this Plan or a Prior Agreement, and ending with the last day of the fifteenth\n",
              "<span style=\"font-weight: bold\">(</span>15th<span style=\"font-weight: bold\">)</span> Plan Year of such period, an Incentive Payment will be credited to the Participant's Account as of the last day of such fifteenth <span style=\"font-weight: bold\">(</span>15th<span style=\"font-weight: bold\">)</span> Plan Year. The Incentive Payment will be equal to ten \n",
              "percent <span style=\"font-weight: bold\">(</span><span style=\"color: #008080; text-decoration-color: #008080; font-weight: bold\">10</span>%<span style=\"font-weight: bold\">)</span> of the Participant's recognized Deferred Compensation and Deferred Bonuses for fifteen <span style=\"font-weight: bold\">(</span><span style=\"color: #008080; text-decoration-color: #008080; font-weight: bold\">15</span><span style=\"font-weight: bold\">)</span>, but not less than ten <span style=\"font-weight: bold\">(</span><span style=\"color: #008080; text-decoration-color: #008080; font-weight: bold\">10</span><span style=\"font-weight: bold\">)</span>, Plan Years <span style=\"font-weight: bold\">(</span>i.e., the first six <span style=\"font-weight: bold\">(</span><span style=\"color: #008080; text-decoration-color: #008080; font-weight: bold\">6</span><span style=\"font-weight: bold\">)</span> Plan Years of such fifteen \n",
              "<span style=\"font-weight: bold\">(</span><span style=\"color: #008080; text-decoration-color: #008080; font-weight: bold\">15</span><span style=\"font-weight: bold\">)</span>-year period<span style=\"font-weight: bold\">)</span>, plus credited Plan earnings thereon through the award date. For each full Plan Year thereafter in which the Participant remains continuously employed with Walmart or any Employer, \n",
              "an Incentive Payment will be credited to the Participant's Account as of the last day of such Plan Year. Such Incentive Payment will be equal to ten percent <span style=\"font-weight: bold\">(</span><span style=\"color: #008080; text-decoration-color: #008080; font-weight: bold\">10</span>%<span style=\"font-weight: bold\">)</span> of the Participant's recognized \n",
              "Deferred Compensation and Deferred Bonuses for the first Plan Year of the ten <span style=\"font-weight: bold\">(</span><span style=\"color: #008080; text-decoration-color: #008080; font-weight: bold\">10</span><span style=\"font-weight: bold\">)</span>-consecutive Plan Year period ending on the award date, plus credited Plan earnings thereon through the award date. \n",
              "The Incentive Payments provided in this Section <span style=\"color: #800080; text-decoration-color: #800080; font-weight: bold\">4.2</span><span style=\"font-weight: bold\">(</span>d<span style=\"font-weight: bold\">)</span> shall not take into account Incentive Payments credited under Section <span style=\"color: #800080; text-decoration-color: #800080; font-weight: bold\">4.2</span><span style=\"font-weight: bold\">(</span>c<span style=\"font-weight: bold\">)</span> or credited Plan earnings thereon.\n",
              "\n",
              "===== Document <span style=\"color: #008080; text-decoration-color: #008080; font-weight: bold\">3</span> =====\n",
              "Year. Credited Plan earnings on such nonrecognized Deferred Compensation or Deferred Bonuses are likewise not taken into account in determining the amount of an Incentive Payment. Further, in no event\n",
              "shall Deferred Special Bonuses, Deferred Retention Bonuses, Deferred Equity or any Employer Contribution Credits be taken into account in determining the amount of an Incentive Payment. <span style=\"font-weight: bold\">(</span>c<span style=\"font-weight: bold\">)</span> If a \n",
              "Participant remains continuously employed with Walmart or any Employer for a period of ten <span style=\"font-weight: bold\">(</span><span style=\"color: #008080; text-decoration-color: #008080; font-weight: bold\">10</span><span style=\"font-weight: bold\">)</span> consecutive full Plan Years, beginning with the first day of the first Plan Year in which the \n",
              "Participant had a Deferred Compensation or Deferred Bonus election in effect under this Plan or a Prior Agreement, and ending with the last day of the tenth <span style=\"font-weight: bold\">(</span>10th<span style=\"font-weight: bold\">)</span> Plan Year of such period, an \n",
              "Incentive Payment will be credited to the Participant's Account as of the last day of such tenth <span style=\"font-weight: bold\">(</span>10th<span style=\"font-weight: bold\">)</span> Plan Year. The Incentive Payment will be equal to twenty percent <span style=\"font-weight: bold\">(</span><span style=\"color: #008080; text-decoration-color: #008080; font-weight: bold\">20</span>%<span style=\"font-weight: bold\">)</span> of the Participant's \n",
              "recognized Deferred Compensation and Deferred Bonuses for ten <span style=\"font-weight: bold\">(</span><span style=\"color: #008080; text-decoration-color: #008080; font-weight: bold\">10</span><span style=\"font-weight: bold\">)</span>, but not less than five <span style=\"font-weight: bold\">(</span><span style=\"color: #008080; text-decoration-color: #008080; font-weight: bold\">5</span><span style=\"font-weight: bold\">)</span>, Plan Years <span style=\"font-weight: bold\">(</span>i.e., the first six <span style=\"font-weight: bold\">(</span><span style=\"color: #008080; text-decoration-color: #008080; font-weight: bold\">6</span><span style=\"font-weight: bold\">)</span> Plan Years of such ten <span style=\"font-weight: bold\">(</span><span style=\"color: #008080; text-decoration-color: #008080; font-weight: bold\">10</span><span style=\"font-weight: bold\">)</span>-year period<span style=\"font-weight: bold\">)</span>, plus credited Plan \n",
              "earnings thereon through the award date. For each full Plan Year thereafter in which the Participant remains continuously employed with Walmart or any Employer, an Incentive Payment will be credited \n",
              "to the Participant's Account as of the last day of such Plan Year. Such Incentive Payment will be equal to twenty percent <span style=\"font-weight: bold\">(</span><span style=\"color: #008080; text-decoration-color: #008080; font-weight: bold\">20</span>%<span style=\"font-weight: bold\">)</span> of the Participant's recognized Deferred Compensation and Deferred \n",
              "Bonuses for the first Plan Year of the five <span style=\"font-weight: bold\">(</span><span style=\"color: #008080; text-decoration-color: #008080; font-weight: bold\">5</span><span style=\"font-weight: bold\">)</span>-consecutive Plan Year period ending on the award date, plus credited Plan earnings thereon through the award date. <span style=\"font-weight: bold\">(</span>d<span style=\"font-weight: bold\">)</span> If a Participant remains \n",
              "continuously employed with Walmart or any Employer for a period of fifteen <span style=\"font-weight: bold\">(</span><span style=\"color: #008080; text-decoration-color: #008080; font-weight: bold\">15</span><span style=\"font-weight: bold\">)</span> consecutive full Plan Years, beginning with the first day of the first Plan Year in which the Participant had a Deferred\n",
              "Compensation or Deferred Bonus election in effect under this Plan or a Prior Agreement, and\n",
              "\n",
              "===== Document <span style=\"color: #008080; text-decoration-color: #008080; font-weight: bold\">4</span> =====\n",
              "t under this Plan or a Prior Agreement, and ending with the last day of the fifteenth <span style=\"font-weight: bold\">(</span>15th<span style=\"font-weight: bold\">)</span> Plan Year of such period, an Incentive Payment will be credited to the Participant's Grandfathered Account \n",
              "as of the last day of such fifteenth <span style=\"font-weight: bold\">(</span>15th<span style=\"font-weight: bold\">)</span> Plan Year. The Incentive Payment will be equal to ten percent <span style=\"font-weight: bold\">(</span><span style=\"color: #008080; text-decoration-color: #008080; font-weight: bold\">10</span>%<span style=\"font-weight: bold\">)</span> of the Participant's recognized Deferred Compensation and Deferred Bonuses for fifteen \n",
              "<span style=\"font-weight: bold\">(</span><span style=\"color: #008080; text-decoration-color: #008080; font-weight: bold\">15</span><span style=\"font-weight: bold\">)</span>, but not less than ten <span style=\"font-weight: bold\">(</span><span style=\"color: #008080; text-decoration-color: #008080; font-weight: bold\">10</span><span style=\"font-weight: bold\">)</span>, Plan Years <span style=\"font-weight: bold\">(</span>i.e., the first six <span style=\"font-weight: bold\">(</span><span style=\"color: #008080; text-decoration-color: #008080; font-weight: bold\">6</span><span style=\"font-weight: bold\">)</span> Plan Years of such fifteen <span style=\"font-weight: bold\">(</span><span style=\"color: #008080; text-decoration-color: #008080; font-weight: bold\">15</span><span style=\"font-weight: bold\">)</span>-year period<span style=\"font-weight: bold\">)</span>, plus credited Plan earnings thereon through the award date. For each full Plan Year \n",
              "thereafter in which the Participant remains continuously employed with Walmart or its Related Affiliates, an Incentive Payment will be credited to the Participant's Grandfathered Account as of the \n",
              "last day of such Plan Year. Such Incentive Payment will be equal to ten percent <span style=\"font-weight: bold\">(</span><span style=\"color: #008080; text-decoration-color: #008080; font-weight: bold\">10</span>%<span style=\"font-weight: bold\">)</span> of the Participant's recognized Deferred Compensation and Deferred Bonuses for the first Plan Year of a ten \n",
              "<span style=\"font-weight: bold\">(</span><span style=\"color: #008080; text-decoration-color: #008080; font-weight: bold\">10</span><span style=\"font-weight: bold\">)</span>-consecutive Plan Year period ending on the award date, plus credited Plan earnings thereon through the award date. The Incentive Payments provided in this Section <span style=\"color: #800080; text-decoration-color: #800080; font-weight: bold\">4.2</span><span style=\"font-weight: bold\">(</span>d<span style=\"font-weight: bold\">)</span> shall not take into \n",
              "account Incentive Payments credited under Section <span style=\"color: #800080; text-decoration-color: #800080; font-weight: bold\">4.2</span><span style=\"font-weight: bold\">(</span>c<span style=\"font-weight: bold\">)</span> or credited Plan earnings thereon. <span style=\"font-weight: bold\">(</span>e<span style=\"font-weight: bold\">)</span> The Incentive Payments provided in this Section <span style=\"color: #800080; text-decoration-color: #800080; font-weight: bold\">4.2</span><span style=\"font-weight: bold\">(</span>e<span style=\"font-weight: bold\">)</span> only apply if a Participant has been a \n",
              "Participant under the Plan <span style=\"font-weight: bold\">(</span>or a Prior Agreement<span style=\"font-weight: bold\">)</span> for five <span style=\"font-weight: bold\">(</span><span style=\"color: #008080; text-decoration-color: #008080; font-weight: bold\">5</span><span style=\"font-weight: bold\">)</span> or more full Plan Years and if the Participant incurs a Retirement, Early Retirement, death or Disability before satisfaction of the ten \n",
              "<span style=\"font-weight: bold\">(</span><span style=\"color: #008080; text-decoration-color: #008080; font-weight: bold\">10</span><span style=\"font-weight: bold\">)</span>- or fifteen <span style=\"font-weight: bold\">(</span><span style=\"color: #008080; text-decoration-color: #008080; font-weight: bold\">15</span><span style=\"font-weight: bold\">)</span>-year periods\n",
              "</pre>\n"
            ]
          },
          "metadata": {}
        },
        {
          "output_type": "display_data",
          "data": {
            "text/plain": [
              "\u001b[2m[Step 1: Duration 1.68 seconds| Input tokens: 3,891 | Output tokens: 72]\u001b[0m\n"
            ],
            "text/html": [
              "<pre style=\"white-space:pre;overflow-x:auto;line-height:normal;font-family:Menlo,'DejaVu Sans Mono',consolas,'Courier New',monospace\"><span style=\"color: #7f7f7f; text-decoration-color: #7f7f7f\">[Step 1: Duration 1.68 seconds| Input tokens: 3,891 | Output tokens: 72]</span>\n",
              "</pre>\n"
            ]
          },
          "metadata": {}
        },
        {
          "output_type": "display_data",
          "data": {
            "text/plain": [
              "\u001b[38;2;212;183;2m━━━━━━━━━━━━━━━━━━━━━━━━━━━━━━━━━━━━━━━━━━━━━━━━━━━━━━━━━━━━━━━━━━━━━━━━━━━━━━━━━━━━━━━━━━━━━━━━ \u001b[0m\u001b[1mStep \u001b[0m\u001b[1;36m2\u001b[0m\u001b[38;2;212;183;2m ━━━━━━━━━━━━━━━━━━━━━━━━━━━━━━━━━━━━━━━━━━━━━━━━━━━━━━━━━━━━━━━━━━━━━━━━━━━━━━━━━━━━━━━━━━━━━━━━\u001b[0m\n"
            ],
            "text/html": [
              "<pre style=\"white-space:pre;overflow-x:auto;line-height:normal;font-family:Menlo,'DejaVu Sans Mono',consolas,'Courier New',monospace\"><span style=\"color: #d4b702; text-decoration-color: #d4b702\">━━━━━━━━━━━━━━━━━━━━━━━━━━━━━━━━━━━━━━━━━━━━━━━━━━━━━━━━━━━━━━━━━━━━━━━━━━━━━━━━━━━━━━━━━━━━━━━━ </span><span style=\"font-weight: bold\">Step </span><span style=\"color: #008080; text-decoration-color: #008080; font-weight: bold\">2</span><span style=\"color: #d4b702; text-decoration-color: #d4b702\"> ━━━━━━━━━━━━━━━━━━━━━━━━━━━━━━━━━━━━━━━━━━━━━━━━━━━━━━━━━━━━━━━━━━━━━━━━━━━━━━━━━━━━━━━━━━━━━━━━</span>\n",
              "</pre>\n"
            ]
          },
          "metadata": {}
        },
        {
          "output_type": "display_data",
          "data": {
            "text/plain": [
              "╭──────────────────────────────────────────────────────────────────────────────────────────────────────────────────────────────────────────────────────────────────────────────────────────────────────╮\n",
              "│ Calling tool: 'final_answer' with arguments: {'answer': \"Employee incentive plans differ between Chevron and Walmart in several ways:\\n\\n1. **Chevron's Incentive Plans**:\\n   - Chevron offers a    │\n",
              "│ **Chevron Incentive Plan**, which ties annual cash bonuses to both corporate and individual performance from the prior year.\\n   - The company also provides a **Long-Term Incentive Plan (LTIP)**,  │\n",
              "│ featuring awards like stock options, restricted stock units, stock appreciation rights, and performance shares. These grants are meant for employees with significant responsibilities and ratify    │\n",
              "│ over multiple years.\\n   - The 2022 LTIP caps shares issued to 104 million until May 2032, offering a mix of cash and share-based incentives depending on the award type. Share vesting terms vary   │\n",
              "│ between 3 and 10 years based on the award type.\\n\\n2. **Walmart's Incentive Plans**:\\n   - Walmart emphasizes **equity compensation** through its Stock Incentive Plan, providing stock options,     │\n",
              "│ restricted stock units, performance share units, and other equity-based awards aligning employee interests with those of shareholders.\\n   - In addition to equity awards, Walmart integrates a      │\n",
              "│ **Deferred Compensation system** where participants can receive periodic incentive payments upon completing milestone years of employment (e.g., 10 or 15 years). Percent-based bonuses under this   │\n",
              "│ system incentivize long-term retention and consistent performance.\\n   - Deferred compensation involves credited earnings and bonuses over extended timeframes, making this a reward for commitment  │\n",
              "│ and performance over years.\\n\\n**Key Differences**:\\n- Chevron's plans are performance-focused with defined roles and significant responsibility, supplementing direct cash bonuses with equity.\\n-  │\n",
              "│ Walmart leans more towards aligning associate interests via stock equity and long-term retention through deferred payments tied to employment duration milestones.\"}                                 │\n",
              "╰──────────────────────────────────────────────────────────────────────────────────────────────────────────────────────────────────────────────────────────────────────────────────────────────────────╯\n"
            ],
            "text/html": [
              "<pre style=\"white-space:pre;overflow-x:auto;line-height:normal;font-family:Menlo,'DejaVu Sans Mono',consolas,'Courier New',monospace\">╭──────────────────────────────────────────────────────────────────────────────────────────────────────────────────────────────────────────────────────────────────────────────────────────────────────╮\n",
              "│ Calling tool: 'final_answer' with arguments: {'answer': \"Employee incentive plans differ between Chevron and Walmart in several ways:\\n\\n1. **Chevron's Incentive Plans**:\\n   - Chevron offers a    │\n",
              "│ **Chevron Incentive Plan**, which ties annual cash bonuses to both corporate and individual performance from the prior year.\\n   - The company also provides a **Long-Term Incentive Plan (LTIP)**,  │\n",
              "│ featuring awards like stock options, restricted stock units, stock appreciation rights, and performance shares. These grants are meant for employees with significant responsibilities and ratify    │\n",
              "│ over multiple years.\\n   - The 2022 LTIP caps shares issued to 104 million until May 2032, offering a mix of cash and share-based incentives depending on the award type. Share vesting terms vary   │\n",
              "│ between 3 and 10 years based on the award type.\\n\\n2. **Walmart's Incentive Plans**:\\n   - Walmart emphasizes **equity compensation** through its Stock Incentive Plan, providing stock options,     │\n",
              "│ restricted stock units, performance share units, and other equity-based awards aligning employee interests with those of shareholders.\\n   - In addition to equity awards, Walmart integrates a      │\n",
              "│ **Deferred Compensation system** where participants can receive periodic incentive payments upon completing milestone years of employment (e.g., 10 or 15 years). Percent-based bonuses under this   │\n",
              "│ system incentivize long-term retention and consistent performance.\\n   - Deferred compensation involves credited earnings and bonuses over extended timeframes, making this a reward for commitment  │\n",
              "│ and performance over years.\\n\\n**Key Differences**:\\n- Chevron's plans are performance-focused with defined roles and significant responsibility, supplementing direct cash bonuses with equity.\\n-  │\n",
              "│ Walmart leans more towards aligning associate interests via stock equity and long-term retention through deferred payments tied to employment duration milestones.\"}                                 │\n",
              "╰──────────────────────────────────────────────────────────────────────────────────────────────────────────────────────────────────────────────────────────────────────────────────────────────────────╯\n",
              "</pre>\n"
            ]
          },
          "metadata": {}
        },
        {
          "output_type": "display_data",
          "data": {
            "text/plain": [
              "\u001b[1;38;2;212;183;2mFinal answer: Employee incentive plans differ between Chevron and Walmart in several ways:\u001b[0m\n",
              "\n",
              "\u001b[1;38;2;212;183;2m1. **Chevron's Incentive Plans**:\u001b[0m\n",
              "\u001b[1;38;2;212;183;2m   - Chevron offers a **Chevron Incentive Plan**, which ties annual cash bonuses to both corporate and individual performance from the prior year.\u001b[0m\n",
              "\u001b[1;38;2;212;183;2m   - The company also provides a **Long-Term Incentive Plan (LTIP)**, featuring awards like stock options, restricted stock units, stock appreciation rights, and performance shares. These grants are \u001b[0m\n",
              "\u001b[1;38;2;212;183;2mmeant for employees with significant responsibilities and ratify over multiple years.\u001b[0m\n",
              "\u001b[1;38;2;212;183;2m   - The 2022 LTIP caps shares issued to 104 million until May 2032, offering a mix of cash and share-based incentives depending on the award type. Share vesting terms vary between 3 and 10 years \u001b[0m\n",
              "\u001b[1;38;2;212;183;2mbased on the award type.\u001b[0m\n",
              "\n",
              "\u001b[1;38;2;212;183;2m2. **Walmart's Incentive Plans**:\u001b[0m\n",
              "\u001b[1;38;2;212;183;2m   - Walmart emphasizes **equity compensation** through its Stock Incentive Plan, providing stock options, restricted stock units, performance share units, and other equity-based awards aligning \u001b[0m\n",
              "\u001b[1;38;2;212;183;2memployee interests with those of shareholders.\u001b[0m\n",
              "\u001b[1;38;2;212;183;2m   - In addition to equity awards, Walmart integrates a **Deferred Compensation system** where participants can receive periodic incentive payments upon completing milestone years of employment (e.g.,\u001b[0m\n",
              "\u001b[1;38;2;212;183;2m10 or 15 years). Percent-based bonuses under this system incentivize long-term retention and consistent performance.\u001b[0m\n",
              "\u001b[1;38;2;212;183;2m   - Deferred compensation involves credited earnings and bonuses over extended timeframes, making this a reward for commitment and performance over years.\u001b[0m\n",
              "\n",
              "\u001b[1;38;2;212;183;2m**Key Differences**:\u001b[0m\n",
              "\u001b[1;38;2;212;183;2m- Chevron's plans are performance-focused with defined roles and significant responsibility, supplementing direct cash bonuses with equity.\u001b[0m\n",
              "\u001b[1;38;2;212;183;2m- Walmart leans more towards aligning associate interests via stock equity and long-term retention through deferred payments tied to employment duration milestones.\u001b[0m\n"
            ],
            "text/html": [
              "<pre style=\"white-space:pre;overflow-x:auto;line-height:normal;font-family:Menlo,'DejaVu Sans Mono',consolas,'Courier New',monospace\"><span style=\"color: #d4b702; text-decoration-color: #d4b702; font-weight: bold\">Final answer: Employee incentive plans differ between Chevron and Walmart in several ways:</span>\n",
              "\n",
              "<span style=\"color: #d4b702; text-decoration-color: #d4b702; font-weight: bold\">1. **Chevron's Incentive Plans**:</span>\n",
              "<span style=\"color: #d4b702; text-decoration-color: #d4b702; font-weight: bold\">   - Chevron offers a **Chevron Incentive Plan**, which ties annual cash bonuses to both corporate and individual performance from the prior year.</span>\n",
              "<span style=\"color: #d4b702; text-decoration-color: #d4b702; font-weight: bold\">   - The company also provides a **Long-Term Incentive Plan (LTIP)**, featuring awards like stock options, restricted stock units, stock appreciation rights, and performance shares. These grants are </span>\n",
              "<span style=\"color: #d4b702; text-decoration-color: #d4b702; font-weight: bold\">meant for employees with significant responsibilities and ratify over multiple years.</span>\n",
              "<span style=\"color: #d4b702; text-decoration-color: #d4b702; font-weight: bold\">   - The 2022 LTIP caps shares issued to 104 million until May 2032, offering a mix of cash and share-based incentives depending on the award type. Share vesting terms vary between 3 and 10 years </span>\n",
              "<span style=\"color: #d4b702; text-decoration-color: #d4b702; font-weight: bold\">based on the award type.</span>\n",
              "\n",
              "<span style=\"color: #d4b702; text-decoration-color: #d4b702; font-weight: bold\">2. **Walmart's Incentive Plans**:</span>\n",
              "<span style=\"color: #d4b702; text-decoration-color: #d4b702; font-weight: bold\">   - Walmart emphasizes **equity compensation** through its Stock Incentive Plan, providing stock options, restricted stock units, performance share units, and other equity-based awards aligning </span>\n",
              "<span style=\"color: #d4b702; text-decoration-color: #d4b702; font-weight: bold\">employee interests with those of shareholders.</span>\n",
              "<span style=\"color: #d4b702; text-decoration-color: #d4b702; font-weight: bold\">   - In addition to equity awards, Walmart integrates a **Deferred Compensation system** where participants can receive periodic incentive payments upon completing milestone years of employment (e.g.,</span>\n",
              "<span style=\"color: #d4b702; text-decoration-color: #d4b702; font-weight: bold\">10 or 15 years). Percent-based bonuses under this system incentivize long-term retention and consistent performance.</span>\n",
              "<span style=\"color: #d4b702; text-decoration-color: #d4b702; font-weight: bold\">   - Deferred compensation involves credited earnings and bonuses over extended timeframes, making this a reward for commitment and performance over years.</span>\n",
              "\n",
              "<span style=\"color: #d4b702; text-decoration-color: #d4b702; font-weight: bold\">**Key Differences**:</span>\n",
              "<span style=\"color: #d4b702; text-decoration-color: #d4b702; font-weight: bold\">- Chevron's plans are performance-focused with defined roles and significant responsibility, supplementing direct cash bonuses with equity.</span>\n",
              "<span style=\"color: #d4b702; text-decoration-color: #d4b702; font-weight: bold\">- Walmart leans more towards aligning associate interests via stock equity and long-term retention through deferred payments tied to employment duration milestones.</span>\n",
              "</pre>\n"
            ]
          },
          "metadata": {}
        },
        {
          "output_type": "display_data",
          "data": {
            "text/plain": [
              "\u001b[2m[Step 2: Duration 4.35 seconds| Input tokens: 8,429 | Output tokens: 438]\u001b[0m\n"
            ],
            "text/html": [
              "<pre style=\"white-space:pre;overflow-x:auto;line-height:normal;font-family:Menlo,'DejaVu Sans Mono',consolas,'Courier New',monospace\"><span style=\"color: #7f7f7f; text-decoration-color: #7f7f7f\">[Step 2: Duration 4.35 seconds| Input tokens: 8,429 | Output tokens: 438]</span>\n",
              "</pre>\n"
            ]
          },
          "metadata": {}
        },
        {
          "output_type": "stream",
          "name": "stdout",
          "text": [
            "Final answer:\n",
            "Employee incentive plans differ between Chevron and Walmart in several ways:\n",
            "\n",
            "1. **Chevron's Incentive Plans**:\n",
            "   - Chevron offers a **Chevron Incentive Plan**, which ties annual cash bonuses to both corporate and individual performance from the prior year.\n",
            "   - The company also provides a **Long-Term Incentive Plan (LTIP)**, featuring awards like stock options, restricted stock units, stock appreciation rights, and performance shares. These grants are meant for employees with significant responsibilities and ratify over multiple years.\n",
            "   - The 2022 LTIP caps shares issued to 104 million until May 2032, offering a mix of cash and share-based incentives depending on the award type. Share vesting terms vary between 3 and 10 years based on the award type.\n",
            "\n",
            "2. **Walmart's Incentive Plans**:\n",
            "   - Walmart emphasizes **equity compensation** through its Stock Incentive Plan, providing stock options, restricted stock units, performance share units, and other equity-based awards aligning employee interests with those of shareholders.\n",
            "   - In addition to equity awards, Walmart integrates a **Deferred Compensation system** where participants can receive periodic incentive payments upon completing milestone years of employment (e.g., 10 or 15 years). Percent-based bonuses under this system incentivize long-term retention and consistent performance.\n",
            "   - Deferred compensation involves credited earnings and bonuses over extended timeframes, making this a reward for commitment and performance over years.\n",
            "\n",
            "**Key Differences**:\n",
            "- Chevron's plans are performance-focused with defined roles and significant responsibility, supplementing direct cash bonuses with equity.\n",
            "- Walmart leans more towards aligning associate interests via stock equity and long-term retention through deferred payments tied to employment duration milestones.\n"
          ]
        }
      ]
    },
    {
      "cell_type": "markdown",
      "source": [
        "As you can see, the Agent decomposed the original question into two individual queries - `'Chevron employee incentive plans'` and `'Walmart employee incentive plans'`, and retrieved documents for each of them before generating the final answer that compares all of the information.  \n",
        "\n",
        "Let's take a closer look at the final answers.\n",
        "\n",
        "Agentic RAG answer is more true to the source and accurate for the following reasons:\n",
        "\n",
        "* Vanilla RAG didn't retrieve enough documents - this is explicitly stated in the Vanilla RAG answer: _\"Chevron's incentive approach is not explicitly detailed in the provided documents.\"_\n",
        "\n",
        "* The summary and conclusion in Vanilla RAG's answer are too general, not providing enough specificity about the actual incentive programs offered by each company. Agentic RAG provides a more truthful summary of the key differences.\n",
        "\n",
        "* Agentic RAG provides a more detailed and accurate picture of Chevron's incentive plans, correctly identifying both short-term (Annual Cash Bonus Plan) and long-term (LTIP) incentives. It also accurately notes that the LTIP includes stock options, stock appreciation rights, restricted stock units, and performance shares. This is because the Agent was actually able to retrieve this information in an additional step.\n"
      ],
      "metadata": {
        "id": "Vnkds3xdIQon"
      }
    },
    {
      "cell_type": "markdown",
      "source": [
        "## CodeAgent"
      ],
      "metadata": {
        "id": "WVv48JikJ4aM"
      }
    },
    {
      "cell_type": "markdown",
      "source": [
        "Just as easily we can build a CodeAgent and ask it a question."
      ],
      "metadata": {
        "id": "AowpPlgaFPX3"
      }
    },
    {
      "cell_type": "code",
      "source": [
        "from smolagents import CodeAgent, LiteLLMModel\n",
        "\n",
        "model = LiteLLMModel(model_id=GENERATION_MODEL)\n",
        "\n",
        "agent = CodeAgent(tools=[retriever_tool], model=model, verbose=True)"
      ],
      "metadata": {
        "id": "YCuxDg2Rru8i"
      },
      "execution_count": null,
      "outputs": []
    },
    {
      "cell_type": "code",
      "source": [
        "another_question = \"Does Walmart cater to the same target audience as Costco?\""
      ],
      "metadata": {
        "id": "0EGAVzaRrB61"
      },
      "execution_count": null,
      "outputs": []
    },
    {
      "cell_type": "code",
      "source": [
        "vanilla_rag(another_question)"
      ],
      "metadata": {
        "colab": {
          "base_uri": "https://localhost:8080/",
          "height": 35
        },
        "id": "teNxlnsgrGDE",
        "outputId": "c292d272-7056-4862-cc78-ab5443ec08b9"
      },
      "execution_count": null,
      "outputs": [
        {
          "output_type": "execute_result",
          "data": {
            "text/plain": [
              "'I do not have enough context to answer the question.'"
            ],
            "application/vnd.google.colaboratory.intrinsic+json": {
              "type": "string"
            }
          },
          "metadata": {},
          "execution_count": 63
        }
      ]
    },
    {
      "cell_type": "code",
      "source": [
        "agent_output = agent.run(another_question)\n",
        "\n",
        "print(\"Final answer:\")\n",
        "print(agent_output)"
      ],
      "metadata": {
        "colab": {
          "base_uri": "https://localhost:8080/",
          "height": 1000
        },
        "id": "kZ12pN2gD1Lb",
        "outputId": "e0164931-ce3c-4f6f-ade8-533f3afa2206"
      },
      "execution_count": null,
      "outputs": [
        {
          "output_type": "display_data",
          "data": {
            "text/plain": [
              "\u001b[38;2;212;183;2m╭─\u001b[0m\u001b[38;2;212;183;2m─────────────────────────────────────────────────────────────────────────────────────────────\u001b[0m\u001b[38;2;212;183;2m \u001b[0m\u001b[1;38;2;212;183;2mNew run\u001b[0m\u001b[38;2;212;183;2m \u001b[0m\u001b[38;2;212;183;2m──────────────────────────────────────────────────────────────────────────────────────────────\u001b[0m\u001b[38;2;212;183;2m─╮\u001b[0m\n",
              "\u001b[38;2;212;183;2m│\u001b[0m                                                                                                                                                                                                      \u001b[38;2;212;183;2m│\u001b[0m\n",
              "\u001b[38;2;212;183;2m│\u001b[0m \u001b[1mDoes Walmart cater to the same target audience as Costco?\u001b[0m                                                                                                                                            \u001b[38;2;212;183;2m│\u001b[0m\n",
              "\u001b[38;2;212;183;2m│\u001b[0m                                                                                                                                                                                                      \u001b[38;2;212;183;2m│\u001b[0m\n",
              "\u001b[38;2;212;183;2m╰─\u001b[0m\u001b[38;2;212;183;2m LiteLLMModel - gpt-4o-2024-11-20 \u001b[0m\u001b[38;2;212;183;2m──────────────────────────────────────────────────────────────────────────────────────────────────────────────────────────────────────────────────────────────────\u001b[0m\u001b[38;2;212;183;2m─╯\u001b[0m\n"
            ],
            "text/html": [
              "<pre style=\"white-space:pre;overflow-x:auto;line-height:normal;font-family:Menlo,'DejaVu Sans Mono',consolas,'Courier New',monospace\"><span style=\"color: #d4b702; text-decoration-color: #d4b702\">╭────────────────────────────────────────────────────────────────────────────────────────────── </span><span style=\"color: #d4b702; text-decoration-color: #d4b702; font-weight: bold\">New run</span><span style=\"color: #d4b702; text-decoration-color: #d4b702\"> ───────────────────────────────────────────────────────────────────────────────────────────────╮</span>\n",
              "<span style=\"color: #d4b702; text-decoration-color: #d4b702\">│</span>                                                                                                                                                                                                      <span style=\"color: #d4b702; text-decoration-color: #d4b702\">│</span>\n",
              "<span style=\"color: #d4b702; text-decoration-color: #d4b702\">│</span> <span style=\"font-weight: bold\">Does Walmart cater to the same target audience as Costco?</span>                                                                                                                                            <span style=\"color: #d4b702; text-decoration-color: #d4b702\">│</span>\n",
              "<span style=\"color: #d4b702; text-decoration-color: #d4b702\">│</span>                                                                                                                                                                                                      <span style=\"color: #d4b702; text-decoration-color: #d4b702\">│</span>\n",
              "<span style=\"color: #d4b702; text-decoration-color: #d4b702\">╰─ LiteLLMModel - gpt-4o-2024-11-20 ───────────────────────────────────────────────────────────────────────────────────────────────────────────────────────────────────────────────────────────────────╯</span>\n",
              "</pre>\n"
            ]
          },
          "metadata": {}
        },
        {
          "output_type": "display_data",
          "data": {
            "text/plain": [
              "\u001b[38;2;212;183;2m━━━━━━━━━━━━━━━━━━━━━━━━━━━━━━━━━━━━━━━━━━━━━━━━━━━━━━━━━━━━━━━━━━━━━━━━━━━━━━━━━━━━━━━━━━━━━━━━ \u001b[0m\u001b[1mStep \u001b[0m\u001b[1;36m0\u001b[0m\u001b[38;2;212;183;2m ━━━━━━━━━━━━━━━━━━━━━━━━━━━━━━━━━━━━━━━━━━━━━━━━━━━━━━━━━━━━━━━━━━━━━━━━━━━━━━━━━━━━━━━━━━━━━━━━\u001b[0m\n"
            ],
            "text/html": [
              "<pre style=\"white-space:pre;overflow-x:auto;line-height:normal;font-family:Menlo,'DejaVu Sans Mono',consolas,'Courier New',monospace\"><span style=\"color: #d4b702; text-decoration-color: #d4b702\">━━━━━━━━━━━━━━━━━━━━━━━━━━━━━━━━━━━━━━━━━━━━━━━━━━━━━━━━━━━━━━━━━━━━━━━━━━━━━━━━━━━━━━━━━━━━━━━━ </span><span style=\"font-weight: bold\">Step </span><span style=\"color: #008080; text-decoration-color: #008080; font-weight: bold\">0</span><span style=\"color: #d4b702; text-decoration-color: #d4b702\"> ━━━━━━━━━━━━━━━━━━━━━━━━━━━━━━━━━━━━━━━━━━━━━━━━━━━━━━━━━━━━━━━━━━━━━━━━━━━━━━━━━━━━━━━━━━━━━━━━</span>\n",
              "</pre>\n"
            ]
          },
          "metadata": {}
        },
        {
          "output_type": "display_data",
          "data": {
            "text/plain": [
              "\u001b[3mOutput message of the LLM:\u001b[0m ─────────────────────────────────────────────────────────────────────────────────────────────────────────────────────────────────────────────────────────────────────────────\n",
              "\u001b[38;2;230;237;243;48;2;13;17;23mThought:\u001b[0m\u001b[38;2;230;237;243;48;2;13;17;23m \u001b[0m\u001b[38;2;230;237;243;48;2;13;17;23mTo\u001b[0m\u001b[38;2;230;237;243;48;2;13;17;23m \u001b[0m\u001b[38;2;230;237;243;48;2;13;17;23mdetermine\u001b[0m\u001b[38;2;230;237;243;48;2;13;17;23m \u001b[0m\u001b[38;2;230;237;243;48;2;13;17;23mwhether\u001b[0m\u001b[38;2;230;237;243;48;2;13;17;23m \u001b[0m\u001b[38;2;230;237;243;48;2;13;17;23mWalmart\u001b[0m\u001b[38;2;230;237;243;48;2;13;17;23m \u001b[0m\u001b[38;2;230;237;243;48;2;13;17;23mand\u001b[0m\u001b[38;2;230;237;243;48;2;13;17;23m \u001b[0m\u001b[38;2;230;237;243;48;2;13;17;23mCostco\u001b[0m\u001b[38;2;230;237;243;48;2;13;17;23m \u001b[0m\u001b[38;2;230;237;243;48;2;13;17;23mcater\u001b[0m\u001b[38;2;230;237;243;48;2;13;17;23m \u001b[0m\u001b[38;2;230;237;243;48;2;13;17;23mto\u001b[0m\u001b[38;2;230;237;243;48;2;13;17;23m \u001b[0m\u001b[38;2;230;237;243;48;2;13;17;23mthe\u001b[0m\u001b[38;2;230;237;243;48;2;13;17;23m \u001b[0m\u001b[38;2;230;237;243;48;2;13;17;23msame\u001b[0m\u001b[38;2;230;237;243;48;2;13;17;23m \u001b[0m\u001b[38;2;230;237;243;48;2;13;17;23mtarget\u001b[0m\u001b[38;2;230;237;243;48;2;13;17;23m \u001b[0m\u001b[38;2;230;237;243;48;2;13;17;23maudience,\u001b[0m\u001b[38;2;230;237;243;48;2;13;17;23m \u001b[0m\u001b[38;2;230;237;243;48;2;13;17;23mI\u001b[0m\u001b[38;2;230;237;243;48;2;13;17;23m \u001b[0m\u001b[38;2;230;237;243;48;2;13;17;23mneed\u001b[0m\u001b[38;2;230;237;243;48;2;13;17;23m \u001b[0m\u001b[38;2;230;237;243;48;2;13;17;23mto\u001b[0m\u001b[38;2;230;237;243;48;2;13;17;23m \u001b[0m\u001b[38;2;230;237;243;48;2;13;17;23mcompare\u001b[0m\u001b[38;2;230;237;243;48;2;13;17;23m \u001b[0m\u001b[38;2;230;237;243;48;2;13;17;23mtheir\u001b[0m\u001b[38;2;230;237;243;48;2;13;17;23m \u001b[0m\u001b[38;2;230;237;243;48;2;13;17;23mbusiness\u001b[0m\u001b[38;2;230;237;243;48;2;13;17;23m \u001b[0m\u001b[38;2;230;237;243;48;2;13;17;23mmodels,\u001b[0m\u001b[38;2;230;237;243;48;2;13;17;23m \u001b[0m\u001b[38;2;230;237;243;48;2;13;17;23mservices,\u001b[0m\u001b[38;2;230;237;243;48;2;13;17;23m \u001b[0m\u001b[38;2;230;237;243;48;2;13;17;23mand\u001b[0m\u001b[38;2;230;237;243;48;2;13;17;23m \u001b[0m\u001b[38;2;230;237;243;48;2;13;17;23mtheir\u001b[0m\u001b[38;2;230;237;243;48;2;13;17;23m \u001b[0m\u001b[38;2;230;237;243;48;2;13;17;23mtarget\u001b[0m\u001b[38;2;230;237;243;48;2;13;17;23m \u001b[0m\u001b[38;2;230;237;243;48;2;13;17;23mdemographics.\u001b[0m\u001b[38;2;230;237;243;48;2;13;17;23m \u001b[0m\u001b[38;2;230;237;243;48;2;13;17;23mI'll\u001b[0m\u001b[38;2;230;237;243;48;2;13;17;23m \u001b[0m\u001b[38;2;230;237;243;48;2;13;17;23mstart\u001b[0m\u001b[38;2;230;237;243;48;2;13;17;23m \u001b[0m\u001b[38;2;230;237;243;48;2;13;17;23mby\u001b[0m\u001b[38;2;230;237;243;48;2;13;17;23m \u001b[0m\u001b[38;2;230;237;243;48;2;13;17;23mretrieving\u001b[0m\u001b[38;2;230;237;243;48;2;13;17;23m \u001b[0m\u001b[48;2;13;17;23m         \u001b[0m\n",
              "\u001b[38;2;230;237;243;48;2;13;17;23minformation\u001b[0m\u001b[38;2;230;237;243;48;2;13;17;23m \u001b[0m\u001b[38;2;230;237;243;48;2;13;17;23mabout\u001b[0m\u001b[38;2;230;237;243;48;2;13;17;23m \u001b[0m\u001b[38;2;230;237;243;48;2;13;17;23mWalmart's\u001b[0m\u001b[38;2;230;237;243;48;2;13;17;23m \u001b[0m\u001b[38;2;230;237;243;48;2;13;17;23mand\u001b[0m\u001b[38;2;230;237;243;48;2;13;17;23m \u001b[0m\u001b[38;2;230;237;243;48;2;13;17;23mCostco's\u001b[0m\u001b[38;2;230;237;243;48;2;13;17;23m \u001b[0m\u001b[38;2;230;237;243;48;2;13;17;23mtarget\u001b[0m\u001b[38;2;230;237;243;48;2;13;17;23m \u001b[0m\u001b[38;2;230;237;243;48;2;13;17;23maudiences\u001b[0m\u001b[38;2;230;237;243;48;2;13;17;23m \u001b[0m\u001b[38;2;230;237;243;48;2;13;17;23musing\u001b[0m\u001b[38;2;230;237;243;48;2;13;17;23m \u001b[0m\u001b[38;2;230;237;243;48;2;13;17;23msemantic\u001b[0m\u001b[38;2;230;237;243;48;2;13;17;23m \u001b[0m\u001b[38;2;230;237;243;48;2;13;17;23mretrieval.\u001b[0m\u001b[48;2;13;17;23m                                                                                                                     \u001b[0m\n",
              "\u001b[48;2;13;17;23m                                                                                                                                                                                                        \u001b[0m\n",
              "\u001b[38;2;230;237;243;48;2;13;17;23mCode:\u001b[0m\u001b[48;2;13;17;23m                                                                                                                                                                                                   \u001b[0m\n",
              "\u001b[38;2;230;237;243;48;2;13;17;23m```py\u001b[0m\u001b[48;2;13;17;23m                                                                                                                                                                                                   \u001b[0m\n",
              "\u001b[38;2;230;237;243;48;2;13;17;23mwalmart_info\u001b[0m\u001b[38;2;230;237;243;48;2;13;17;23m \u001b[0m\u001b[38;2;230;237;243;48;2;13;17;23m=\u001b[0m\u001b[38;2;230;237;243;48;2;13;17;23m \u001b[0m\u001b[38;2;230;237;243;48;2;13;17;23mretriever(query=\"What\u001b[0m\u001b[38;2;230;237;243;48;2;13;17;23m \u001b[0m\u001b[38;2;230;237;243;48;2;13;17;23mis\u001b[0m\u001b[38;2;230;237;243;48;2;13;17;23m \u001b[0m\u001b[38;2;230;237;243;48;2;13;17;23mWalmart's\u001b[0m\u001b[38;2;230;237;243;48;2;13;17;23m \u001b[0m\u001b[38;2;230;237;243;48;2;13;17;23mtarget\u001b[0m\u001b[38;2;230;237;243;48;2;13;17;23m \u001b[0m\u001b[38;2;230;237;243;48;2;13;17;23maudience?\")\u001b[0m\u001b[48;2;13;17;23m                                                                                                                                    \u001b[0m\n",
              "\u001b[38;2;230;237;243;48;2;13;17;23mprint(\"Walmart's\u001b[0m\u001b[38;2;230;237;243;48;2;13;17;23m \u001b[0m\u001b[38;2;230;237;243;48;2;13;17;23mtarget\u001b[0m\u001b[38;2;230;237;243;48;2;13;17;23m \u001b[0m\u001b[38;2;230;237;243;48;2;13;17;23maudience\u001b[0m\u001b[38;2;230;237;243;48;2;13;17;23m \u001b[0m\u001b[38;2;230;237;243;48;2;13;17;23minformation:\",\u001b[0m\u001b[38;2;230;237;243;48;2;13;17;23m \u001b[0m\u001b[38;2;230;237;243;48;2;13;17;23mwalmart_info)\u001b[0m\u001b[48;2;13;17;23m                                                                                                                                           \u001b[0m\n",
              "\u001b[48;2;13;17;23m                                                                                                                                                                                                        \u001b[0m\n",
              "\u001b[38;2;230;237;243;48;2;13;17;23mcostco_info\u001b[0m\u001b[38;2;230;237;243;48;2;13;17;23m \u001b[0m\u001b[38;2;230;237;243;48;2;13;17;23m=\u001b[0m\u001b[38;2;230;237;243;48;2;13;17;23m \u001b[0m\u001b[38;2;230;237;243;48;2;13;17;23mretriever(query=\"What\u001b[0m\u001b[38;2;230;237;243;48;2;13;17;23m \u001b[0m\u001b[38;2;230;237;243;48;2;13;17;23mis\u001b[0m\u001b[38;2;230;237;243;48;2;13;17;23m \u001b[0m\u001b[38;2;230;237;243;48;2;13;17;23mCostco's\u001b[0m\u001b[38;2;230;237;243;48;2;13;17;23m \u001b[0m\u001b[38;2;230;237;243;48;2;13;17;23mtarget\u001b[0m\u001b[38;2;230;237;243;48;2;13;17;23m \u001b[0m\u001b[38;2;230;237;243;48;2;13;17;23maudience?\")\u001b[0m\u001b[48;2;13;17;23m                                                                                                                                      \u001b[0m\n",
              "\u001b[38;2;230;237;243;48;2;13;17;23mprint(\"Costco's\u001b[0m\u001b[38;2;230;237;243;48;2;13;17;23m \u001b[0m\u001b[38;2;230;237;243;48;2;13;17;23mtarget\u001b[0m\u001b[38;2;230;237;243;48;2;13;17;23m \u001b[0m\u001b[38;2;230;237;243;48;2;13;17;23maudience\u001b[0m\u001b[38;2;230;237;243;48;2;13;17;23m \u001b[0m\u001b[38;2;230;237;243;48;2;13;17;23minformation:\",\u001b[0m\u001b[38;2;230;237;243;48;2;13;17;23m \u001b[0m\u001b[38;2;230;237;243;48;2;13;17;23mcostco_info)\u001b[0m\u001b[48;2;13;17;23m                                                                                                                                             \u001b[0m\n",
              "\u001b[38;2;230;237;243;48;2;13;17;23m```<end_code>\u001b[0m\u001b[48;2;13;17;23m                                                                                                                                                                                           \u001b[0m\n"
            ],
            "text/html": [
              "<pre style=\"white-space:pre;overflow-x:auto;line-height:normal;font-family:Menlo,'DejaVu Sans Mono',consolas,'Courier New',monospace\"><span style=\"font-style: italic\">Output message of the LLM:</span> ─────────────────────────────────────────────────────────────────────────────────────────────────────────────────────────────────────────────────────────────────────────────\n",
              "<span style=\"color: #e6edf3; text-decoration-color: #e6edf3; background-color: #0d1117\">Thought: To determine whether Walmart and Costco cater to the same target audience, I need to compare their business models, services, and their target demographics. I'll start by retrieving </span><span style=\"background-color: #0d1117\">         </span>\n",
              "<span style=\"color: #e6edf3; text-decoration-color: #e6edf3; background-color: #0d1117\">information about Walmart's and Costco's target audiences using semantic retrieval.</span><span style=\"background-color: #0d1117\">                                                                                                                     </span>\n",
              "<span style=\"background-color: #0d1117\">                                                                                                                                                                                                        </span>\n",
              "<span style=\"color: #e6edf3; text-decoration-color: #e6edf3; background-color: #0d1117\">Code:</span><span style=\"background-color: #0d1117\">                                                                                                                                                                                                   </span>\n",
              "<span style=\"color: #e6edf3; text-decoration-color: #e6edf3; background-color: #0d1117\">```py</span><span style=\"background-color: #0d1117\">                                                                                                                                                                                                   </span>\n",
              "<span style=\"color: #e6edf3; text-decoration-color: #e6edf3; background-color: #0d1117\">walmart_info = retriever(query=\"What is Walmart's target audience?\")</span><span style=\"background-color: #0d1117\">                                                                                                                                    </span>\n",
              "<span style=\"color: #e6edf3; text-decoration-color: #e6edf3; background-color: #0d1117\">print(\"Walmart's target audience information:\", walmart_info)</span><span style=\"background-color: #0d1117\">                                                                                                                                           </span>\n",
              "<span style=\"background-color: #0d1117\">                                                                                                                                                                                                        </span>\n",
              "<span style=\"color: #e6edf3; text-decoration-color: #e6edf3; background-color: #0d1117\">costco_info = retriever(query=\"What is Costco's target audience?\")</span><span style=\"background-color: #0d1117\">                                                                                                                                      </span>\n",
              "<span style=\"color: #e6edf3; text-decoration-color: #e6edf3; background-color: #0d1117\">print(\"Costco's target audience information:\", costco_info)</span><span style=\"background-color: #0d1117\">                                                                                                                                             </span>\n",
              "<span style=\"color: #e6edf3; text-decoration-color: #e6edf3; background-color: #0d1117\">```&lt;end_code&gt;</span><span style=\"background-color: #0d1117\">                                                                                                                                                                                           </span>\n",
              "</pre>\n"
            ]
          },
          "metadata": {}
        },
        {
          "output_type": "display_data",
          "data": {
            "text/plain": [
              "╭─ \u001b[1mExecuting this code:\u001b[0m ───────────────────────────────────────────────────────────────────────────────────────────────────────────────────────────────────────────────────────────────────────────────╮\n",
              "│ \u001b[1;38;2;227;227;221;48;2;39;40;34m  \u001b[0m\u001b[38;2;101;102;96;48;2;39;40;34m1 \u001b[0m\u001b[38;2;248;248;242;48;2;39;40;34mwalmart_info\u001b[0m\u001b[38;2;248;248;242;48;2;39;40;34m \u001b[0m\u001b[38;2;255;70;137;48;2;39;40;34m=\u001b[0m\u001b[38;2;248;248;242;48;2;39;40;34m \u001b[0m\u001b[38;2;248;248;242;48;2;39;40;34mretriever\u001b[0m\u001b[38;2;248;248;242;48;2;39;40;34m(\u001b[0m\u001b[38;2;248;248;242;48;2;39;40;34mquery\u001b[0m\u001b[38;2;255;70;137;48;2;39;40;34m=\u001b[0m\u001b[38;2;230;219;116;48;2;39;40;34m\"\u001b[0m\u001b[38;2;230;219;116;48;2;39;40;34mWhat is Walmart\u001b[0m\u001b[38;2;230;219;116;48;2;39;40;34m'\u001b[0m\u001b[38;2;230;219;116;48;2;39;40;34ms target audience?\u001b[0m\u001b[38;2;230;219;116;48;2;39;40;34m\"\u001b[0m\u001b[38;2;248;248;242;48;2;39;40;34m)\u001b[0m\u001b[48;2;39;40;34m                                                                                                                            \u001b[0m │\n",
              "│ \u001b[1;38;2;227;227;221;48;2;39;40;34m  \u001b[0m\u001b[38;2;101;102;96;48;2;39;40;34m2 \u001b[0m\u001b[38;2;248;248;242;48;2;39;40;34mprint\u001b[0m\u001b[38;2;248;248;242;48;2;39;40;34m(\u001b[0m\u001b[38;2;230;219;116;48;2;39;40;34m\"\u001b[0m\u001b[38;2;230;219;116;48;2;39;40;34mWalmart\u001b[0m\u001b[38;2;230;219;116;48;2;39;40;34m'\u001b[0m\u001b[38;2;230;219;116;48;2;39;40;34ms target audience information:\u001b[0m\u001b[38;2;230;219;116;48;2;39;40;34m\"\u001b[0m\u001b[38;2;248;248;242;48;2;39;40;34m,\u001b[0m\u001b[38;2;248;248;242;48;2;39;40;34m \u001b[0m\u001b[38;2;248;248;242;48;2;39;40;34mwalmart_info\u001b[0m\u001b[38;2;248;248;242;48;2;39;40;34m)\u001b[0m\u001b[48;2;39;40;34m                                                                                                                                   \u001b[0m │\n",
              "│ \u001b[1;38;2;227;227;221;48;2;39;40;34m  \u001b[0m\u001b[38;2;101;102;96;48;2;39;40;34m3 \u001b[0m\u001b[48;2;39;40;34m                                                                                                                                                                                                \u001b[0m │\n",
              "│ \u001b[1;38;2;227;227;221;48;2;39;40;34m  \u001b[0m\u001b[38;2;101;102;96;48;2;39;40;34m4 \u001b[0m\u001b[38;2;248;248;242;48;2;39;40;34mcostco_info\u001b[0m\u001b[38;2;248;248;242;48;2;39;40;34m \u001b[0m\u001b[38;2;255;70;137;48;2;39;40;34m=\u001b[0m\u001b[38;2;248;248;242;48;2;39;40;34m \u001b[0m\u001b[38;2;248;248;242;48;2;39;40;34mretriever\u001b[0m\u001b[38;2;248;248;242;48;2;39;40;34m(\u001b[0m\u001b[38;2;248;248;242;48;2;39;40;34mquery\u001b[0m\u001b[38;2;255;70;137;48;2;39;40;34m=\u001b[0m\u001b[38;2;230;219;116;48;2;39;40;34m\"\u001b[0m\u001b[38;2;230;219;116;48;2;39;40;34mWhat is Costco\u001b[0m\u001b[38;2;230;219;116;48;2;39;40;34m'\u001b[0m\u001b[38;2;230;219;116;48;2;39;40;34ms target audience?\u001b[0m\u001b[38;2;230;219;116;48;2;39;40;34m\"\u001b[0m\u001b[38;2;248;248;242;48;2;39;40;34m)\u001b[0m\u001b[48;2;39;40;34m                                                                                                                              \u001b[0m │\n",
              "│ \u001b[1;38;2;227;227;221;48;2;39;40;34m  \u001b[0m\u001b[38;2;101;102;96;48;2;39;40;34m5 \u001b[0m\u001b[38;2;248;248;242;48;2;39;40;34mprint\u001b[0m\u001b[38;2;248;248;242;48;2;39;40;34m(\u001b[0m\u001b[38;2;230;219;116;48;2;39;40;34m\"\u001b[0m\u001b[38;2;230;219;116;48;2;39;40;34mCostco\u001b[0m\u001b[38;2;230;219;116;48;2;39;40;34m'\u001b[0m\u001b[38;2;230;219;116;48;2;39;40;34ms target audience information:\u001b[0m\u001b[38;2;230;219;116;48;2;39;40;34m\"\u001b[0m\u001b[38;2;248;248;242;48;2;39;40;34m,\u001b[0m\u001b[38;2;248;248;242;48;2;39;40;34m \u001b[0m\u001b[38;2;248;248;242;48;2;39;40;34mcostco_info\u001b[0m\u001b[38;2;248;248;242;48;2;39;40;34m)\u001b[0m\u001b[48;2;39;40;34m                                                                                                                                     \u001b[0m │\n",
              "╰──────────────────────────────────────────────────────────────────────────────────────────────────────────────────────────────────────────────────────────────────────────────────────────────────────╯\n"
            ],
            "text/html": [
              "<pre style=\"white-space:pre;overflow-x:auto;line-height:normal;font-family:Menlo,'DejaVu Sans Mono',consolas,'Courier New',monospace\">╭─ <span style=\"font-weight: bold\">Executing this code:</span> ───────────────────────────────────────────────────────────────────────────────────────────────────────────────────────────────────────────────────────────────────────────────╮\n",
              "│ <span style=\"color: #e3e3dd; text-decoration-color: #e3e3dd; background-color: #272822; font-weight: bold\">  </span><span style=\"color: #656660; text-decoration-color: #656660; background-color: #272822\">1 </span><span style=\"color: #f8f8f2; text-decoration-color: #f8f8f2; background-color: #272822\">walmart_info </span><span style=\"color: #ff4689; text-decoration-color: #ff4689; background-color: #272822\">=</span><span style=\"color: #f8f8f2; text-decoration-color: #f8f8f2; background-color: #272822\"> retriever(query</span><span style=\"color: #ff4689; text-decoration-color: #ff4689; background-color: #272822\">=</span><span style=\"color: #e6db74; text-decoration-color: #e6db74; background-color: #272822\">\"What is Walmart's target audience?\"</span><span style=\"color: #f8f8f2; text-decoration-color: #f8f8f2; background-color: #272822\">)</span><span style=\"background-color: #272822\">                                                                                                                            </span> │\n",
              "│ <span style=\"color: #e3e3dd; text-decoration-color: #e3e3dd; background-color: #272822; font-weight: bold\">  </span><span style=\"color: #656660; text-decoration-color: #656660; background-color: #272822\">2 </span><span style=\"color: #f8f8f2; text-decoration-color: #f8f8f2; background-color: #272822\">print(</span><span style=\"color: #e6db74; text-decoration-color: #e6db74; background-color: #272822\">\"Walmart's target audience information:\"</span><span style=\"color: #f8f8f2; text-decoration-color: #f8f8f2; background-color: #272822\">, walmart_info)</span><span style=\"background-color: #272822\">                                                                                                                                   </span> │\n",
              "│ <span style=\"color: #e3e3dd; text-decoration-color: #e3e3dd; background-color: #272822; font-weight: bold\">  </span><span style=\"color: #656660; text-decoration-color: #656660; background-color: #272822\">3 </span><span style=\"background-color: #272822\">                                                                                                                                                                                                </span> │\n",
              "│ <span style=\"color: #e3e3dd; text-decoration-color: #e3e3dd; background-color: #272822; font-weight: bold\">  </span><span style=\"color: #656660; text-decoration-color: #656660; background-color: #272822\">4 </span><span style=\"color: #f8f8f2; text-decoration-color: #f8f8f2; background-color: #272822\">costco_info </span><span style=\"color: #ff4689; text-decoration-color: #ff4689; background-color: #272822\">=</span><span style=\"color: #f8f8f2; text-decoration-color: #f8f8f2; background-color: #272822\"> retriever(query</span><span style=\"color: #ff4689; text-decoration-color: #ff4689; background-color: #272822\">=</span><span style=\"color: #e6db74; text-decoration-color: #e6db74; background-color: #272822\">\"What is Costco's target audience?\"</span><span style=\"color: #f8f8f2; text-decoration-color: #f8f8f2; background-color: #272822\">)</span><span style=\"background-color: #272822\">                                                                                                                              </span> │\n",
              "│ <span style=\"color: #e3e3dd; text-decoration-color: #e3e3dd; background-color: #272822; font-weight: bold\">  </span><span style=\"color: #656660; text-decoration-color: #656660; background-color: #272822\">5 </span><span style=\"color: #f8f8f2; text-decoration-color: #f8f8f2; background-color: #272822\">print(</span><span style=\"color: #e6db74; text-decoration-color: #e6db74; background-color: #272822\">\"Costco's target audience information:\"</span><span style=\"color: #f8f8f2; text-decoration-color: #f8f8f2; background-color: #272822\">, costco_info)</span><span style=\"background-color: #272822\">                                                                                                                                     </span> │\n",
              "╰──────────────────────────────────────────────────────────────────────────────────────────────────────────────────────────────────────────────────────────────────────────────────────────────────────╯\n",
              "</pre>\n"
            ]
          },
          "metadata": {}
        },
        {
          "output_type": "display_data",
          "data": {
            "text/plain": [
              "\u001b[1mExecution logs:\u001b[0m\n",
              "Walmart's target audience information: \n",
              "Retrieved documents:\n",
              "\n",
              "\n",
              "===== Document 0 =====\n",
              "Walmart Inc. (\"Walmart,\" the \"Company\" or \"we\") is a people-led, technology-powered omni-channel retailer dedicated to help people around the world save money and live better – anytime and anywhere – \n",
              "by providing the opportunity to shop in both retail stores and through eCommerce, and to access our other service offerings. Through innovation, we strive to continuously improve a customer-centric \n",
              "experience that seamlessly integrates our eCommerce and retail stores in an omni-channel offering that saves time for our customers. Each week, we serve approximately 240 million customers who visit \n",
              "more than 10,500 stores and numerous eCommerce websites in 20 countries. Our strategy is to make every day easier for busy families, operate with discipline, sharpen our culture and become more \n",
              "digital, and make trust a competitive advantage. Making life easier for busy families includes our commitment to price leadership, which has been and will remain a cornerstone of our business, as well\n",
              "as increasing convenience to save our customers time. By leading on price, we earn the trust of our customers every day by providing a broad assortment of quality merchandise and services at everyday \n",
              "low prices (\"EDLP\"). EDLP is our pricing philosophy under which we price items at a low price every day so our customers trust that our prices will not change under frequent promotional activity. \n",
              "Everyday low cost (\"EDLC\") is our commitment to control expenses so our cost savings can be passed along to our customers. Our operations comprise three reportable segments: Walmart U.S., Walmart \n",
              "International and Sam's Club. Our fiscal year ends on January 31 for our United States (\"U.S.\") and Canadian operations. We consolidate all other operations generally using a one-month lag and on a \n",
              "calendar year basis. Our discussion is as of and for the fiscal years ended January 31, 2023 (\"fiscal 2023\"), January 31, 2022 (\"fiscal 2022\") and January 31, 2021 (\"fiscal 2021\"). During fiscal 2023,\n",
              "we generated total revenues of $611.3 billion, which was\n",
              "\n",
              "===== Document 1 =====\n",
              "Brand name merchandise represents a significant portion of the merchandise sold in Walmart U.S. We also market lines of merchandise under our private brands, including brands such as: \"Allswell,\" \n",
              "\"Athletic Works,\" \"Eloquii Elements,\" \"Equate,\" \"Free Assembly,\" \"Freshness Guaranteed,\" \"George,\" \"Great Value,\" \"Holiday Time,\" \"Hyper Tough,\" \"Mainstays,\" \"Marketside,\" \"No Boundaries,\" \"onn.,\" \n",
              "\"Ozark Trail,\" \"Parent's Choice,\" \"Sam's Choice,\" \"Scoop,\" \"Spring Valley,\" \"Time and Tru,\" \"Way to Celebrate\" and \"Wonder Nation.\" The Company also markets lines of merchandise under licensed brands,\n",
              "some of which include: \"Avia,\" \"Love & Sports,\" \"Better Homes & Gardens,\" \"Pioneer Woman\" and \"Sofia Jeans by Sofia Vergara.\" Periodically, revisions are made to the categorization of the components \n",
              "comprising our strategic merchandise units. When revisions are made, the previous periods' presentation is adjusted to maintain comparability.\n",
              "\n",
              "Operations.\n",
              "\n",
              "Walmart U.S. is available to customers through supercenters, discount stores and neighborhood markets, as well as online or through the mobile application 24 hours a day. Consistent with its strategy,\n",
              "Walmart U.S. continues to develop technology tools and services to better serve customers and help stores operate more efficiently, such as pickup and delivery, Walmart+, ship-from-store and other \n",
              "initiatives which provide convenient and seamless omni-channel shopping experiences.\n",
              "\n",
              "Seasonal Aspects of Operations.\n",
              "\n",
              "Walmart U.S.'s business is seasonal to a certain extent due to calendar events and national and religious holidays, as well as different weather patterns. Historically, its highest sales volume has \n",
              "occurred in the fiscal quarter ending January 31.\n",
              "\n",
              "===== Document 2 =====\n",
              "Competition.\n",
              "\n",
              "Walmart U.S. competes with brick and mortar, eCommerce, and omni-channel retailers operating discount, department, retail and wholesale grocers, drug, dollar, variety and specialty stores, \n",
              "supermarkets, hypermarkets and supercenter-type stores, social commerce platforms, as well as companies that offer services in digital advertising, fulfillment and delivery services, health and \n",
              "wellness, and financial services. Each of these landscapes is highly competitive and rapidly evolving, and new business models and the entry of new, well-funded competitors continue to intensify this \n",
              "competition. Some of our competitors have longer histories in these lines of business, more customers, and greater brand recognition. They may be able to obtain more favorable terms from suppliers and\n",
              "business partners and to devote greater resources to the development of these businesses. In addition, for eCommerce and other internet-based businesses, newer or smaller businesses may be able to \n",
              "innovate and compete with us. Our ability to develop and operate units at the right locations and to deliver a customer-centric omni-channel experience largely determines our competitive position \n",
              "within the retail industry. We compete in a variety of ways, including the prices at which we sell our merchandise, merchandise and selection availability, services offered to customers, location, \n",
              "store hours, in-store amenities, the shopping convenience and overall shopping experience we offer, the attractiveness and ease of use of our digital platforms, cost and speed of and options for \n",
              "delivery to customers of merchandise purchased through our digital platforms or through our omni-channel integration of our physical and digital operations. We employ many strategies and programs \n",
              "designed to meet competitive pressures within our industry. These strategies include the following:\n",
              "\n",
              "===== Document 3 =====\n",
              "Opportunity. Retail can be a powerful engine for inclusive economic opportunity. We aim to advance diversity, equity, and inclusion, and create opportunity for Walmart associates (as further described\n",
              "in the Human Capital Management section below), our suppliers and workers in supply chains, and the communities in which we operate. Doing so helps us fulfill our customer mission, strengthens our \n",
              "business and helps people build a better life for themselves and their families. Sustainability. Walmart's sustainability efforts focus on our ability to create and preserve long-term value for both \n",
              "people and planet. With respect to people, our sustainability efforts include sourcing responsibly, helping prevent forced labor, empowering women, creating inclusive economic opportunity and selling \n",
              "safer, healthier products. With respect to the planet, our efforts aim to enhance the sustainability of product supply chains by reducing emissions, protecting and restoring nature, and reducing \n",
              "waste. To help address the effects of climate change, Walmart has set science-based targets for emissions reduction, including our goal to achieve zero emissions in our operations by 2040—without \n",
              "offsets—and to reduce or avoid one billion metric tons of emissions in our value chain by 2030 under our Project Gigaton™ initiative. Community. Walmart aims to serve and strengthen communities by \n",
              "operating our business in a way that meets the needs of our customer and community stakeholder groups, including by providing safer, healthier and more affordable food and other products, disaster \n",
              "support, associate volunteerism, local grant programs and community cohesion initiatives. Ethics and Integrity. At every level of our Company, we work to create a culture that inspires trust among our\n",
              "associates, with our customers, and in the communities we serve.\n",
              "\n",
              "===== Document 4 =====\n",
              "Merchandise.\n",
              "\n",
              "The merchandising strategy for Walmart International is similar to that of our operations in the U.S. in terms of the breadth and scope of merchandise offered for sale. While brand name merchandise \n",
              "accounts for a majority of our sales, we have both leveraged U.S. private brands and developed market specific private brands to serve our customers with high quality, low priced items. Along with the\n",
              "private brands we market globally, such as \"Equate,\" \"George,\" \"Great Value,\" \"Holiday Time,\" \"Mainstays,\" \"Marketside\" and \"Parent's Choice,\" our international markets have developed market specific \n",
              "private brands including \"Aurrera,\" \"VIDAA\" and \"PhonePe.\" In addition, we have developed and continue to grow our relationships with regional and local suppliers in each market to ensure reliable \n",
              "sources of quality merchandise that is equal to national brands at low prices. Consistent with its strategy, Walmart International continues to build mutually reinforcing businesses in areas such as \n",
              "advertising, marketplace and fulfillment services, healthcare and financial services. Our businesses in Mexico and Canada, for example, offer prepaid cards and money transfers, and our PhonePe \n",
              "business in India continues to grow, providing a platform that offers mobile and bill payment, person-to-person (P2P) payment, investment and insurance solutions, financial services and advertising. \n",
              "In Mexico, we also offer a value-based internet and telephone service allowing customers to enjoy digital connectivity, and in India we launched Flipkart Health enabling us to increase access to \n",
              "affordable care in that country. Combined, these offerings did not represent a significant portion of annual segment revenues.\n",
              "Costco's target audience information: \n",
              "Retrieved documents:\n",
              "\n",
              "\n",
              "===== Document 0 =====\n",
              "Table of Contents\n",
              "\n",
              "tailored specifically for food services, convenience stores and offices, and offer walk-in shopping and deliveries. Business centers are included in our total warehouse count. Costco Travel offers \n",
              "vacation packages, car rentals, cruises, hotels, and other travel products exclusively for Costco members (offered in the U.S., Canada, and the U.K.). We have direct buying relationships with many \n",
              "producers of brand-name merchandise. We do not obtain a significant portion of merchandise from any one supplier. When sources of supply become unavailable, we seek alternatives. We also purchase and \n",
              "manufacture private-label merchandise, as long as quality and member demand are high and the value to our members is significant. Certain financial information for our segments and geographic areas is\n",
              "included in Note 11 to the consolidated financial statements included in Item 8 of the Report.\n",
              "\n",
              "===== Document 1 =====\n",
              "Item 1—Business\n",
              "\n",
              "Costco Wholesale Corporation and its subsidiaries (Costco or the Company) began operations in 1983, in Seattle, Washington. We are principally engaged in the operation of membership warehouses in the \n",
              "United States (U.S.) and Puerto Rico, Canada, Mexico, Japan, the United Kingdom (U.K.), Korea, Australia, Taiwan, China, Spain, France, Iceland, New Zealand, and Sweden. Costco operated 861, 838, and \n",
              "815 warehouses worldwide at September 3, 2023, August 28, 2022, and August 29, 2021. The Company operates e-commerce websites in the U.S., Canada, Mexico, the U.K., Korea, Taiwan, Japan, and \n",
              "Australia. Our common stock trades on the NASDAQ Global Select Market, under the symbol \"COST.\" We report on a 52/53-week fiscal year, consisting of thirteen four-week periods and ending on the Sunday\n",
              "nearest the end of August. The first three quarters consist of three periods each, and the fourth quarter consists of four periods (five weeks in the thirteenth period in a 53-week year). The material\n",
              "seasonal impact in our operations is increased net sales and earnings during the winter holiday season. References to 2023 relate to the 53-week fiscal year ended September 3, 2023. References to 2022\n",
              "and 2021 relate to the 52-week fiscal years ended August 28, 2022, and August 29, 2021.\n",
              "\n",
              "===== Document 2 =====\n",
              "Paid cardholders (except affiliates) are eligible to upgrade to an Executive membership in the U.S., for an additional annual fee of $60. Executive memberships are also available in Canada, Mexico, \n",
              "the U.K., Japan, Korea, Taiwan, and Australia, for which the additional fee varies. Executive members earn a 2% reward on qualified purchases (generally up to a maximum reward of $1,000 per year), \n",
              "redeemable at Costco warehouses. This program offers services that vary by state and country and provide access to additional savings and benefits on various business and consumer services, such as \n",
              "auto and home insurance, the Costco auto purchase program, and check printing. Executive members totaled 32.3 million and represented 45.4% of paid members. The sales penetration of Executive members \n",
              "represented approximately 72.8% of worldwide net sales in 2023.\n",
              "\n",
              "Human Capital\n",
              "\n",
              "Our Code of Ethics requires that we \"Take Care of Our Employees,\" which is fundamental to the obligation to \"Take Care of Our Members.\" We must also carefully control our selling, general and \n",
              "administrative (SG&A) expenses, so that we can sell high quality goods and services at low prices. Compensation and benefits for employees is our largest expense after the cost of merchandise and is \n",
              "carefully monitored.\n",
              "\n",
              "5\n",
              "\n",
              "Table of Contents\n",
              "\n",
              "Employee Base\n",
              "\n",
              "At the end of 2023, we employed 316,000 employees worldwide. Approximately 95% are employed in our membership warehouses and distribution channels, and approximately 5% are represented by unions. We \n",
              "also utilize seasonal employees. The total number of employees by segment was:\n",
              "\n",
              "===== Document 3 =====\n",
              "Well Being\n",
              "\n",
              "Costco strives to provide our employees with competitive wages and excellent benefits. In March 2023, we increased the top of the wage scales by 85 cents per hour in the U.S, Canada and Puerto Rico. \n",
              "In September of 2023, we increased the starting wage to at least $18.50 for all entry-level positions in the U.S. We have also expanded our benefits in the U.S. to include additional mental health \n",
              "support for children and adults at little to no cost to our employees. Costco is firmly committed to protecting the health and safety of our members and employees and to serving our communities. For \n",
              "more detailed information regarding our programs and initiatives, see \"Employees\" within our Sustainability Commitment (located on our website). The Sustainability Commitment and other information on \n",
              "our website are not incorporated by reference into and do not form any part of this Annual Report.\n",
              "\n",
              "Competition\n",
              "\n",
              "Our industry is highly competitive, based on factors such as price, merchandise quality and selection, location, convenience, distribution strategy, and customer service. We compete on a worldwide \n",
              "basis with global, national, and regional wholesalers and retailers, including supermarkets, supercenters, online\n",
              "\n",
              "6\n",
              "\n",
              "Table of Contents\n",
              "\n",
              "retailers, gasoline stations, hard discounters, department and specialty stores, and operators selling a single category or narrow range of merchandise. Walmart, Target, Kroger, and Amazon are among \n",
              "our significant general merchandise retail competitors in the U.S. We also compete with other warehouse clubs, including Walmart's Sam's Club and BJ's Wholesale Club in the U.S. Many of the major \n",
              "metropolitan areas in the U.S. and certain of our Other International locations have multiple competing clubs.\n",
              "\n",
              "===== Document 4 =====\n",
              "merchandise through our depots and logistics operations, as well as through drop-ship and other delivery arrangements with our suppliers. Our average warehouse space is approximately 147,000 square \n",
              "feet, with newer units being slightly larger. Floor plans are designed for economy and efficiency in the use of selling space, the handling of merchandise, and the control of inventory. Because \n",
              "shoppers are attracted principally by the quality of merchandise and low prices, our warehouses are not elaborate. By strictly controlling the entrances and exits and using a membership format, we \n",
              "believe our inventory losses (shrinkage) are well below those of typical retail operations. Our warehouses on average operate on a seven-day, 70-hour week. Gasoline operations generally have extended \n",
              "hours. Because the hours of operation are shorter than most other retailers, and due to other efficiencies inherent in a warehouse-type operation, labor costs are lower relative to the volume of \n",
              "sales. Merchandise is generally stored on racks above the sales floor and displayed on pallets containing large quantities, reducing labor required. In general, with variations by country, our \n",
              "warehouses accept certain credit cards, including Costco co-branded cards, debit cards, cash and checks, Executive member 2% reward certificates, co-brand cardholder rebates, and our proprietary \n",
              "stored-value card (shop card). Our strategy is to provide our members with a broad range of high-quality merchandise at prices we believe are consistently lower than elsewhere. We seek to limit most \n",
              "items to fast-selling models, sizes, and colors. We carry less than 4,000 active stock keeping units (SKUs) per warehouse in our core warehouse business, significantly less than other broadline \n",
              "retailers. We average anywhere from 9,000 to 11,000 SKUs online, some of which are also available in our warehouses. Many consumable products are offered for sale in case, carton, or multiple-pack \n",
              "quantities only. In keeping with our policy of member satisfaction, we generally\n",
              "\n",
              "Out: None\n"
            ],
            "text/html": [
              "<pre style=\"white-space:pre;overflow-x:auto;line-height:normal;font-family:Menlo,'DejaVu Sans Mono',consolas,'Courier New',monospace\"><span style=\"font-weight: bold\">Execution logs:</span>\n",
              "Walmart's target audience information: \n",
              "Retrieved documents:\n",
              "\n",
              "\n",
              "===== Document 0 =====\n",
              "Walmart Inc. (\"Walmart,\" the \"Company\" or \"we\") is a people-led, technology-powered omni-channel retailer dedicated to help people around the world save money and live better – anytime and anywhere – \n",
              "by providing the opportunity to shop in both retail stores and through eCommerce, and to access our other service offerings. Through innovation, we strive to continuously improve a customer-centric \n",
              "experience that seamlessly integrates our eCommerce and retail stores in an omni-channel offering that saves time for our customers. Each week, we serve approximately 240 million customers who visit \n",
              "more than 10,500 stores and numerous eCommerce websites in 20 countries. Our strategy is to make every day easier for busy families, operate with discipline, sharpen our culture and become more \n",
              "digital, and make trust a competitive advantage. Making life easier for busy families includes our commitment to price leadership, which has been and will remain a cornerstone of our business, as well\n",
              "as increasing convenience to save our customers time. By leading on price, we earn the trust of our customers every day by providing a broad assortment of quality merchandise and services at everyday \n",
              "low prices (\"EDLP\"). EDLP is our pricing philosophy under which we price items at a low price every day so our customers trust that our prices will not change under frequent promotional activity. \n",
              "Everyday low cost (\"EDLC\") is our commitment to control expenses so our cost savings can be passed along to our customers. Our operations comprise three reportable segments: Walmart U.S., Walmart \n",
              "International and Sam's Club. Our fiscal year ends on January 31 for our United States (\"U.S.\") and Canadian operations. We consolidate all other operations generally using a one-month lag and on a \n",
              "calendar year basis. Our discussion is as of and for the fiscal years ended January 31, 2023 (\"fiscal 2023\"), January 31, 2022 (\"fiscal 2022\") and January 31, 2021 (\"fiscal 2021\"). During fiscal 2023,\n",
              "we generated total revenues of $611.3 billion, which was\n",
              "\n",
              "===== Document 1 =====\n",
              "Brand name merchandise represents a significant portion of the merchandise sold in Walmart U.S. We also market lines of merchandise under our private brands, including brands such as: \"Allswell,\" \n",
              "\"Athletic Works,\" \"Eloquii Elements,\" \"Equate,\" \"Free Assembly,\" \"Freshness Guaranteed,\" \"George,\" \"Great Value,\" \"Holiday Time,\" \"Hyper Tough,\" \"Mainstays,\" \"Marketside,\" \"No Boundaries,\" \"onn.,\" \n",
              "\"Ozark Trail,\" \"Parent's Choice,\" \"Sam's Choice,\" \"Scoop,\" \"Spring Valley,\" \"Time and Tru,\" \"Way to Celebrate\" and \"Wonder Nation.\" The Company also markets lines of merchandise under licensed brands,\n",
              "some of which include: \"Avia,\" \"Love &amp; Sports,\" \"Better Homes &amp; Gardens,\" \"Pioneer Woman\" and \"Sofia Jeans by Sofia Vergara.\" Periodically, revisions are made to the categorization of the components \n",
              "comprising our strategic merchandise units. When revisions are made, the previous periods' presentation is adjusted to maintain comparability.\n",
              "\n",
              "Operations.\n",
              "\n",
              "Walmart U.S. is available to customers through supercenters, discount stores and neighborhood markets, as well as online or through the mobile application 24 hours a day. Consistent with its strategy,\n",
              "Walmart U.S. continues to develop technology tools and services to better serve customers and help stores operate more efficiently, such as pickup and delivery, Walmart+, ship-from-store and other \n",
              "initiatives which provide convenient and seamless omni-channel shopping experiences.\n",
              "\n",
              "Seasonal Aspects of Operations.\n",
              "\n",
              "Walmart U.S.'s business is seasonal to a certain extent due to calendar events and national and religious holidays, as well as different weather patterns. Historically, its highest sales volume has \n",
              "occurred in the fiscal quarter ending January 31.\n",
              "\n",
              "===== Document 2 =====\n",
              "Competition.\n",
              "\n",
              "Walmart U.S. competes with brick and mortar, eCommerce, and omni-channel retailers operating discount, department, retail and wholesale grocers, drug, dollar, variety and specialty stores, \n",
              "supermarkets, hypermarkets and supercenter-type stores, social commerce platforms, as well as companies that offer services in digital advertising, fulfillment and delivery services, health and \n",
              "wellness, and financial services. Each of these landscapes is highly competitive and rapidly evolving, and new business models and the entry of new, well-funded competitors continue to intensify this \n",
              "competition. Some of our competitors have longer histories in these lines of business, more customers, and greater brand recognition. They may be able to obtain more favorable terms from suppliers and\n",
              "business partners and to devote greater resources to the development of these businesses. In addition, for eCommerce and other internet-based businesses, newer or smaller businesses may be able to \n",
              "innovate and compete with us. Our ability to develop and operate units at the right locations and to deliver a customer-centric omni-channel experience largely determines our competitive position \n",
              "within the retail industry. We compete in a variety of ways, including the prices at which we sell our merchandise, merchandise and selection availability, services offered to customers, location, \n",
              "store hours, in-store amenities, the shopping convenience and overall shopping experience we offer, the attractiveness and ease of use of our digital platforms, cost and speed of and options for \n",
              "delivery to customers of merchandise purchased through our digital platforms or through our omni-channel integration of our physical and digital operations. We employ many strategies and programs \n",
              "designed to meet competitive pressures within our industry. These strategies include the following:\n",
              "\n",
              "===== Document 3 =====\n",
              "Opportunity. Retail can be a powerful engine for inclusive economic opportunity. We aim to advance diversity, equity, and inclusion, and create opportunity for Walmart associates (as further described\n",
              "in the Human Capital Management section below), our suppliers and workers in supply chains, and the communities in which we operate. Doing so helps us fulfill our customer mission, strengthens our \n",
              "business and helps people build a better life for themselves and their families. Sustainability. Walmart's sustainability efforts focus on our ability to create and preserve long-term value for both \n",
              "people and planet. With respect to people, our sustainability efforts include sourcing responsibly, helping prevent forced labor, empowering women, creating inclusive economic opportunity and selling \n",
              "safer, healthier products. With respect to the planet, our efforts aim to enhance the sustainability of product supply chains by reducing emissions, protecting and restoring nature, and reducing \n",
              "waste. To help address the effects of climate change, Walmart has set science-based targets for emissions reduction, including our goal to achieve zero emissions in our operations by 2040—without \n",
              "offsets—and to reduce or avoid one billion metric tons of emissions in our value chain by 2030 under our Project Gigaton™ initiative. Community. Walmart aims to serve and strengthen communities by \n",
              "operating our business in a way that meets the needs of our customer and community stakeholder groups, including by providing safer, healthier and more affordable food and other products, disaster \n",
              "support, associate volunteerism, local grant programs and community cohesion initiatives. Ethics and Integrity. At every level of our Company, we work to create a culture that inspires trust among our\n",
              "associates, with our customers, and in the communities we serve.\n",
              "\n",
              "===== Document 4 =====\n",
              "Merchandise.\n",
              "\n",
              "The merchandising strategy for Walmart International is similar to that of our operations in the U.S. in terms of the breadth and scope of merchandise offered for sale. While brand name merchandise \n",
              "accounts for a majority of our sales, we have both leveraged U.S. private brands and developed market specific private brands to serve our customers with high quality, low priced items. Along with the\n",
              "private brands we market globally, such as \"Equate,\" \"George,\" \"Great Value,\" \"Holiday Time,\" \"Mainstays,\" \"Marketside\" and \"Parent's Choice,\" our international markets have developed market specific \n",
              "private brands including \"Aurrera,\" \"VIDAA\" and \"PhonePe.\" In addition, we have developed and continue to grow our relationships with regional and local suppliers in each market to ensure reliable \n",
              "sources of quality merchandise that is equal to national brands at low prices. Consistent with its strategy, Walmart International continues to build mutually reinforcing businesses in areas such as \n",
              "advertising, marketplace and fulfillment services, healthcare and financial services. Our businesses in Mexico and Canada, for example, offer prepaid cards and money transfers, and our PhonePe \n",
              "business in India continues to grow, providing a platform that offers mobile and bill payment, person-to-person (P2P) payment, investment and insurance solutions, financial services and advertising. \n",
              "In Mexico, we also offer a value-based internet and telephone service allowing customers to enjoy digital connectivity, and in India we launched Flipkart Health enabling us to increase access to \n",
              "affordable care in that country. Combined, these offerings did not represent a significant portion of annual segment revenues.\n",
              "Costco's target audience information: \n",
              "Retrieved documents:\n",
              "\n",
              "\n",
              "===== Document 0 =====\n",
              "Table of Contents\n",
              "\n",
              "tailored specifically for food services, convenience stores and offices, and offer walk-in shopping and deliveries. Business centers are included in our total warehouse count. Costco Travel offers \n",
              "vacation packages, car rentals, cruises, hotels, and other travel products exclusively for Costco members (offered in the U.S., Canada, and the U.K.). We have direct buying relationships with many \n",
              "producers of brand-name merchandise. We do not obtain a significant portion of merchandise from any one supplier. When sources of supply become unavailable, we seek alternatives. We also purchase and \n",
              "manufacture private-label merchandise, as long as quality and member demand are high and the value to our members is significant. Certain financial information for our segments and geographic areas is\n",
              "included in Note 11 to the consolidated financial statements included in Item 8 of the Report.\n",
              "\n",
              "===== Document 1 =====\n",
              "Item 1—Business\n",
              "\n",
              "Costco Wholesale Corporation and its subsidiaries (Costco or the Company) began operations in 1983, in Seattle, Washington. We are principally engaged in the operation of membership warehouses in the \n",
              "United States (U.S.) and Puerto Rico, Canada, Mexico, Japan, the United Kingdom (U.K.), Korea, Australia, Taiwan, China, Spain, France, Iceland, New Zealand, and Sweden. Costco operated 861, 838, and \n",
              "815 warehouses worldwide at September 3, 2023, August 28, 2022, and August 29, 2021. The Company operates e-commerce websites in the U.S., Canada, Mexico, the U.K., Korea, Taiwan, Japan, and \n",
              "Australia. Our common stock trades on the NASDAQ Global Select Market, under the symbol \"COST.\" We report on a 52/53-week fiscal year, consisting of thirteen four-week periods and ending on the Sunday\n",
              "nearest the end of August. The first three quarters consist of three periods each, and the fourth quarter consists of four periods (five weeks in the thirteenth period in a 53-week year). The material\n",
              "seasonal impact in our operations is increased net sales and earnings during the winter holiday season. References to 2023 relate to the 53-week fiscal year ended September 3, 2023. References to 2022\n",
              "and 2021 relate to the 52-week fiscal years ended August 28, 2022, and August 29, 2021.\n",
              "\n",
              "===== Document 2 =====\n",
              "Paid cardholders (except affiliates) are eligible to upgrade to an Executive membership in the U.S., for an additional annual fee of $60. Executive memberships are also available in Canada, Mexico, \n",
              "the U.K., Japan, Korea, Taiwan, and Australia, for which the additional fee varies. Executive members earn a 2% reward on qualified purchases (generally up to a maximum reward of $1,000 per year), \n",
              "redeemable at Costco warehouses. This program offers services that vary by state and country and provide access to additional savings and benefits on various business and consumer services, such as \n",
              "auto and home insurance, the Costco auto purchase program, and check printing. Executive members totaled 32.3 million and represented 45.4% of paid members. The sales penetration of Executive members \n",
              "represented approximately 72.8% of worldwide net sales in 2023.\n",
              "\n",
              "Human Capital\n",
              "\n",
              "Our Code of Ethics requires that we \"Take Care of Our Employees,\" which is fundamental to the obligation to \"Take Care of Our Members.\" We must also carefully control our selling, general and \n",
              "administrative (SG&amp;A) expenses, so that we can sell high quality goods and services at low prices. Compensation and benefits for employees is our largest expense after the cost of merchandise and is \n",
              "carefully monitored.\n",
              "\n",
              "5\n",
              "\n",
              "Table of Contents\n",
              "\n",
              "Employee Base\n",
              "\n",
              "At the end of 2023, we employed 316,000 employees worldwide. Approximately 95% are employed in our membership warehouses and distribution channels, and approximately 5% are represented by unions. We \n",
              "also utilize seasonal employees. The total number of employees by segment was:\n",
              "\n",
              "===== Document 3 =====\n",
              "Well Being\n",
              "\n",
              "Costco strives to provide our employees with competitive wages and excellent benefits. In March 2023, we increased the top of the wage scales by 85 cents per hour in the U.S, Canada and Puerto Rico. \n",
              "In September of 2023, we increased the starting wage to at least $18.50 for all entry-level positions in the U.S. We have also expanded our benefits in the U.S. to include additional mental health \n",
              "support for children and adults at little to no cost to our employees. Costco is firmly committed to protecting the health and safety of our members and employees and to serving our communities. For \n",
              "more detailed information regarding our programs and initiatives, see \"Employees\" within our Sustainability Commitment (located on our website). The Sustainability Commitment and other information on \n",
              "our website are not incorporated by reference into and do not form any part of this Annual Report.\n",
              "\n",
              "Competition\n",
              "\n",
              "Our industry is highly competitive, based on factors such as price, merchandise quality and selection, location, convenience, distribution strategy, and customer service. We compete on a worldwide \n",
              "basis with global, national, and regional wholesalers and retailers, including supermarkets, supercenters, online\n",
              "\n",
              "6\n",
              "\n",
              "Table of Contents\n",
              "\n",
              "retailers, gasoline stations, hard discounters, department and specialty stores, and operators selling a single category or narrow range of merchandise. Walmart, Target, Kroger, and Amazon are among \n",
              "our significant general merchandise retail competitors in the U.S. We also compete with other warehouse clubs, including Walmart's Sam's Club and BJ's Wholesale Club in the U.S. Many of the major \n",
              "metropolitan areas in the U.S. and certain of our Other International locations have multiple competing clubs.\n",
              "\n",
              "===== Document 4 =====\n",
              "merchandise through our depots and logistics operations, as well as through drop-ship and other delivery arrangements with our suppliers. Our average warehouse space is approximately 147,000 square \n",
              "feet, with newer units being slightly larger. Floor plans are designed for economy and efficiency in the use of selling space, the handling of merchandise, and the control of inventory. Because \n",
              "shoppers are attracted principally by the quality of merchandise and low prices, our warehouses are not elaborate. By strictly controlling the entrances and exits and using a membership format, we \n",
              "believe our inventory losses (shrinkage) are well below those of typical retail operations. Our warehouses on average operate on a seven-day, 70-hour week. Gasoline operations generally have extended \n",
              "hours. Because the hours of operation are shorter than most other retailers, and due to other efficiencies inherent in a warehouse-type operation, labor costs are lower relative to the volume of \n",
              "sales. Merchandise is generally stored on racks above the sales floor and displayed on pallets containing large quantities, reducing labor required. In general, with variations by country, our \n",
              "warehouses accept certain credit cards, including Costco co-branded cards, debit cards, cash and checks, Executive member 2% reward certificates, co-brand cardholder rebates, and our proprietary \n",
              "stored-value card (shop card). Our strategy is to provide our members with a broad range of high-quality merchandise at prices we believe are consistently lower than elsewhere. We seek to limit most \n",
              "items to fast-selling models, sizes, and colors. We carry less than 4,000 active stock keeping units (SKUs) per warehouse in our core warehouse business, significantly less than other broadline \n",
              "retailers. We average anywhere from 9,000 to 11,000 SKUs online, some of which are also available in our warehouses. Many consumable products are offered for sale in case, carton, or multiple-pack \n",
              "quantities only. In keeping with our policy of member satisfaction, we generally\n",
              "\n",
              "Out: None\n",
              "</pre>\n"
            ]
          },
          "metadata": {}
        },
        {
          "output_type": "display_data",
          "data": {
            "text/plain": [
              "\u001b[2m[Step 0: Duration 4.57 seconds| Input tokens: 1,998 | Output tokens: 112]\u001b[0m\n"
            ],
            "text/html": [
              "<pre style=\"white-space:pre;overflow-x:auto;line-height:normal;font-family:Menlo,'DejaVu Sans Mono',consolas,'Courier New',monospace\"><span style=\"color: #7f7f7f; text-decoration-color: #7f7f7f\">[Step 0: Duration 4.57 seconds| Input tokens: 1,998 | Output tokens: 112]</span>\n",
              "</pre>\n"
            ]
          },
          "metadata": {}
        },
        {
          "output_type": "display_data",
          "data": {
            "text/plain": [
              "\u001b[38;2;212;183;2m━━━━━━━━━━━━━━━━━━━━━━━━━━━━━━━━━━━━━━━━━━━━━━━━━━━━━━━━━━━━━━━━━━━━━━━━━━━━━━━━━━━━━━━━━━━━━━━━ \u001b[0m\u001b[1mStep \u001b[0m\u001b[1;36m1\u001b[0m\u001b[38;2;212;183;2m ━━━━━━━━━━━━━━━━━━━━━━━━━━━━━━━━━━━━━━━━━━━━━━━━━━━━━━━━━━━━━━━━━━━━━━━━━━━━━━━━━━━━━━━━━━━━━━━━\u001b[0m\n"
            ],
            "text/html": [
              "<pre style=\"white-space:pre;overflow-x:auto;line-height:normal;font-family:Menlo,'DejaVu Sans Mono',consolas,'Courier New',monospace\"><span style=\"color: #d4b702; text-decoration-color: #d4b702\">━━━━━━━━━━━━━━━━━━━━━━━━━━━━━━━━━━━━━━━━━━━━━━━━━━━━━━━━━━━━━━━━━━━━━━━━━━━━━━━━━━━━━━━━━━━━━━━━ </span><span style=\"font-weight: bold\">Step </span><span style=\"color: #008080; text-decoration-color: #008080; font-weight: bold\">1</span><span style=\"color: #d4b702; text-decoration-color: #d4b702\"> ━━━━━━━━━━━━━━━━━━━━━━━━━━━━━━━━━━━━━━━━━━━━━━━━━━━━━━━━━━━━━━━━━━━━━━━━━━━━━━━━━━━━━━━━━━━━━━━━</span>\n",
              "</pre>\n"
            ]
          },
          "metadata": {}
        },
        {
          "output_type": "display_data",
          "data": {
            "text/plain": [
              "\u001b[3mOutput message of the LLM:\u001b[0m ─────────────────────────────────────────────────────────────────────────────────────────────────────────────────────────────────────────────────────────────────────────────\n",
              "\u001b[38;2;230;237;243;48;2;13;17;23mThought:\u001b[0m\u001b[38;2;230;237;243;48;2;13;17;23m \u001b[0m\u001b[38;2;230;237;243;48;2;13;17;23mI\u001b[0m\u001b[38;2;230;237;243;48;2;13;17;23m \u001b[0m\u001b[38;2;230;237;243;48;2;13;17;23mnow\u001b[0m\u001b[38;2;230;237;243;48;2;13;17;23m \u001b[0m\u001b[38;2;230;237;243;48;2;13;17;23mhave\u001b[0m\u001b[38;2;230;237;243;48;2;13;17;23m \u001b[0m\u001b[38;2;230;237;243;48;2;13;17;23mdetailed\u001b[0m\u001b[38;2;230;237;243;48;2;13;17;23m \u001b[0m\u001b[38;2;230;237;243;48;2;13;17;23minformation\u001b[0m\u001b[38;2;230;237;243;48;2;13;17;23m \u001b[0m\u001b[38;2;230;237;243;48;2;13;17;23mabout\u001b[0m\u001b[38;2;230;237;243;48;2;13;17;23m \u001b[0m\u001b[38;2;230;237;243;48;2;13;17;23mthe\u001b[0m\u001b[38;2;230;237;243;48;2;13;17;23m \u001b[0m\u001b[38;2;230;237;243;48;2;13;17;23mtarget\u001b[0m\u001b[38;2;230;237;243;48;2;13;17;23m \u001b[0m\u001b[38;2;230;237;243;48;2;13;17;23maudiences\u001b[0m\u001b[38;2;230;237;243;48;2;13;17;23m \u001b[0m\u001b[38;2;230;237;243;48;2;13;17;23mfor\u001b[0m\u001b[38;2;230;237;243;48;2;13;17;23m \u001b[0m\u001b[38;2;230;237;243;48;2;13;17;23mboth\u001b[0m\u001b[38;2;230;237;243;48;2;13;17;23m \u001b[0m\u001b[38;2;230;237;243;48;2;13;17;23mWalmart\u001b[0m\u001b[38;2;230;237;243;48;2;13;17;23m \u001b[0m\u001b[38;2;230;237;243;48;2;13;17;23mand\u001b[0m\u001b[38;2;230;237;243;48;2;13;17;23m \u001b[0m\u001b[38;2;230;237;243;48;2;13;17;23mCostco.\u001b[0m\u001b[38;2;230;237;243;48;2;13;17;23m \u001b[0m\u001b[38;2;230;237;243;48;2;13;17;23mWalmart\u001b[0m\u001b[38;2;230;237;243;48;2;13;17;23m \u001b[0m\u001b[38;2;230;237;243;48;2;13;17;23mprimarily\u001b[0m\u001b[38;2;230;237;243;48;2;13;17;23m \u001b[0m\u001b[38;2;230;237;243;48;2;13;17;23mtargets\u001b[0m\u001b[38;2;230;237;243;48;2;13;17;23m \u001b[0m\u001b[38;2;230;237;243;48;2;13;17;23mbusy\u001b[0m\u001b[38;2;230;237;243;48;2;13;17;23m \u001b[0m\u001b[38;2;230;237;243;48;2;13;17;23mfamilies\u001b[0m\u001b[38;2;230;237;243;48;2;13;17;23m \u001b[0m\u001b[38;2;230;237;243;48;2;13;17;23mand\u001b[0m\u001b[38;2;230;237;243;48;2;13;17;23m \u001b[0m\u001b[38;2;230;237;243;48;2;13;17;23mthose\u001b[0m\u001b[38;2;230;237;243;48;2;13;17;23m \u001b[0m\u001b[38;2;230;237;243;48;2;13;17;23mlooking\u001b[0m\u001b[38;2;230;237;243;48;2;13;17;23m \u001b[0m\u001b[38;2;230;237;243;48;2;13;17;23mfor\u001b[0m\u001b[38;2;230;237;243;48;2;13;17;23m \u001b[0m\u001b[38;2;230;237;243;48;2;13;17;23meveryday\u001b[0m\u001b[38;2;230;237;243;48;2;13;17;23m \u001b[0m\u001b[38;2;230;237;243;48;2;13;17;23mlow\u001b[0m\u001b[38;2;230;237;243;48;2;13;17;23m \u001b[0m\u001b[38;2;230;237;243;48;2;13;17;23mprices\u001b[0m\u001b[38;2;230;237;243;48;2;13;17;23m \u001b[0m\u001b[38;2;230;237;243;48;2;13;17;23mon\u001b[0m\u001b[38;2;230;237;243;48;2;13;17;23m \u001b[0m\u001b[38;2;230;237;243;48;2;13;17;23ma\u001b[0m\u001b[38;2;230;237;243;48;2;13;17;23m \u001b[0m\u001b[38;2;230;237;243;48;2;13;17;23mwide\u001b[0m\u001b[38;2;230;237;243;48;2;13;17;23m \u001b[0m\u001b[38;2;230;237;243;48;2;13;17;23massortment\u001b[0m\u001b[38;2;230;237;243;48;2;13;17;23m \u001b[0m\n",
              "\u001b[38;2;230;237;243;48;2;13;17;23mof\u001b[0m\u001b[38;2;230;237;243;48;2;13;17;23m \u001b[0m\u001b[38;2;230;237;243;48;2;13;17;23mgoods,\u001b[0m\u001b[38;2;230;237;243;48;2;13;17;23m \u001b[0m\u001b[38;2;230;237;243;48;2;13;17;23mmaximizing\u001b[0m\u001b[38;2;230;237;243;48;2;13;17;23m \u001b[0m\u001b[38;2;230;237;243;48;2;13;17;23mconvenience\u001b[0m\u001b[38;2;230;237;243;48;2;13;17;23m \u001b[0m\u001b[38;2;230;237;243;48;2;13;17;23mand\u001b[0m\u001b[38;2;230;237;243;48;2;13;17;23m \u001b[0m\u001b[38;2;230;237;243;48;2;13;17;23maccessibility\u001b[0m\u001b[38;2;230;237;243;48;2;13;17;23m \u001b[0m\u001b[38;2;230;237;243;48;2;13;17;23mvia\u001b[0m\u001b[38;2;230;237;243;48;2;13;17;23m \u001b[0m\u001b[38;2;230;237;243;48;2;13;17;23momni-channel\u001b[0m\u001b[38;2;230;237;243;48;2;13;17;23m \u001b[0m\u001b[38;2;230;237;243;48;2;13;17;23mofferings.\u001b[0m\u001b[38;2;230;237;243;48;2;13;17;23m \u001b[0m\u001b[38;2;230;237;243;48;2;13;17;23mCostco,\u001b[0m\u001b[38;2;230;237;243;48;2;13;17;23m \u001b[0m\u001b[38;2;230;237;243;48;2;13;17;23mon\u001b[0m\u001b[38;2;230;237;243;48;2;13;17;23m \u001b[0m\u001b[38;2;230;237;243;48;2;13;17;23mthe\u001b[0m\u001b[38;2;230;237;243;48;2;13;17;23m \u001b[0m\u001b[38;2;230;237;243;48;2;13;17;23mother\u001b[0m\u001b[38;2;230;237;243;48;2;13;17;23m \u001b[0m\u001b[38;2;230;237;243;48;2;13;17;23mhand,\u001b[0m\u001b[38;2;230;237;243;48;2;13;17;23m \u001b[0m\u001b[38;2;230;237;243;48;2;13;17;23mfollows\u001b[0m\u001b[38;2;230;237;243;48;2;13;17;23m \u001b[0m\u001b[38;2;230;237;243;48;2;13;17;23ma\u001b[0m\u001b[38;2;230;237;243;48;2;13;17;23m \u001b[0m\u001b[38;2;230;237;243;48;2;13;17;23mmembership\u001b[0m\u001b[38;2;230;237;243;48;2;13;17;23m \u001b[0m\u001b[38;2;230;237;243;48;2;13;17;23mmodel\u001b[0m\u001b[38;2;230;237;243;48;2;13;17;23m \u001b[0m\u001b[38;2;230;237;243;48;2;13;17;23mappealing\u001b[0m\u001b[38;2;230;237;243;48;2;13;17;23m \u001b[0m\u001b[38;2;230;237;243;48;2;13;17;23mto\u001b[0m\u001b[38;2;230;237;243;48;2;13;17;23m \u001b[0m\u001b[38;2;230;237;243;48;2;13;17;23mcustomers\u001b[0m\u001b[38;2;230;237;243;48;2;13;17;23m \u001b[0m\u001b[38;2;230;237;243;48;2;13;17;23mwho\u001b[0m\u001b[38;2;230;237;243;48;2;13;17;23m \u001b[0m\u001b[38;2;230;237;243;48;2;13;17;23mvalue\u001b[0m\u001b[38;2;230;237;243;48;2;13;17;23m \u001b[0m\u001b[38;2;230;237;243;48;2;13;17;23mbulk\u001b[0m\u001b[38;2;230;237;243;48;2;13;17;23m \u001b[0m\u001b[38;2;230;237;243;48;2;13;17;23mpurchasing,\u001b[0m\u001b[38;2;230;237;243;48;2;13;17;23m \u001b[0m\u001b[38;2;230;237;243;48;2;13;17;23mpremium\u001b[0m\u001b[38;2;230;237;243;48;2;13;17;23m \u001b[0m\u001b[38;2;230;237;243;48;2;13;17;23mproducts\u001b[0m\u001b[38;2;230;237;243;48;2;13;17;23m \u001b[0m\n",
              "\u001b[38;2;230;237;243;48;2;13;17;23mat\u001b[0m\u001b[38;2;230;237;243;48;2;13;17;23m \u001b[0m\u001b[38;2;230;237;243;48;2;13;17;23mlower\u001b[0m\u001b[38;2;230;237;243;48;2;13;17;23m \u001b[0m\u001b[38;2;230;237;243;48;2;13;17;23mcosts\u001b[0m\u001b[38;2;230;237;243;48;2;13;17;23m \u001b[0m\u001b[38;2;230;237;243;48;2;13;17;23mcompared\u001b[0m\u001b[38;2;230;237;243;48;2;13;17;23m \u001b[0m\u001b[38;2;230;237;243;48;2;13;17;23mto\u001b[0m\u001b[38;2;230;237;243;48;2;13;17;23m \u001b[0m\u001b[38;2;230;237;243;48;2;13;17;23mtraditional\u001b[0m\u001b[38;2;230;237;243;48;2;13;17;23m \u001b[0m\u001b[38;2;230;237;243;48;2;13;17;23mretail,\u001b[0m\u001b[38;2;230;237;243;48;2;13;17;23m \u001b[0m\u001b[38;2;230;237;243;48;2;13;17;23mand\u001b[0m\u001b[38;2;230;237;243;48;2;13;17;23m \u001b[0m\u001b[38;2;230;237;243;48;2;13;17;23madded\u001b[0m\u001b[38;2;230;237;243;48;2;13;17;23m \u001b[0m\u001b[38;2;230;237;243;48;2;13;17;23mperks\u001b[0m\u001b[38;2;230;237;243;48;2;13;17;23m \u001b[0m\u001b[38;2;230;237;243;48;2;13;17;23msuch\u001b[0m\u001b[38;2;230;237;243;48;2;13;17;23m \u001b[0m\u001b[38;2;230;237;243;48;2;13;17;23mas\u001b[0m\u001b[38;2;230;237;243;48;2;13;17;23m \u001b[0m\u001b[38;2;230;237;243;48;2;13;17;23mExecutive\u001b[0m\u001b[38;2;230;237;243;48;2;13;17;23m \u001b[0m\u001b[38;2;230;237;243;48;2;13;17;23mmemberships.\u001b[0m\u001b[38;2;230;237;243;48;2;13;17;23m \u001b[0m\u001b[38;2;230;237;243;48;2;13;17;23mCostco\u001b[0m\u001b[38;2;230;237;243;48;2;13;17;23m \u001b[0m\u001b[38;2;230;237;243;48;2;13;17;23malso\u001b[0m\u001b[38;2;230;237;243;48;2;13;17;23m \u001b[0m\u001b[38;2;230;237;243;48;2;13;17;23mattracts\u001b[0m\u001b[38;2;230;237;243;48;2;13;17;23m \u001b[0m\u001b[38;2;230;237;243;48;2;13;17;23mbusinesses\u001b[0m\u001b[38;2;230;237;243;48;2;13;17;23m \u001b[0m\u001b[38;2;230;237;243;48;2;13;17;23mfor\u001b[0m\u001b[38;2;230;237;243;48;2;13;17;23m \u001b[0m\u001b[38;2;230;237;243;48;2;13;17;23mbulk\u001b[0m\u001b[38;2;230;237;243;48;2;13;17;23m \u001b[0m\u001b[38;2;230;237;243;48;2;13;17;23mpurchases.\u001b[0m\u001b[48;2;13;17;23m                                                       \u001b[0m\n",
              "\u001b[48;2;13;17;23m                                                                                                                                                                                                        \u001b[0m\n",
              "\u001b[38;2;230;237;243;48;2;13;17;23mI'll\u001b[0m\u001b[38;2;230;237;243;48;2;13;17;23m \u001b[0m\u001b[38;2;230;237;243;48;2;13;17;23mnow\u001b[0m\u001b[38;2;230;237;243;48;2;13;17;23m \u001b[0m\u001b[38;2;230;237;243;48;2;13;17;23manalyze\u001b[0m\u001b[38;2;230;237;243;48;2;13;17;23m \u001b[0m\u001b[38;2;230;237;243;48;2;13;17;23mthese\u001b[0m\u001b[38;2;230;237;243;48;2;13;17;23m \u001b[0m\u001b[38;2;230;237;243;48;2;13;17;23minsights\u001b[0m\u001b[38;2;230;237;243;48;2;13;17;23m \u001b[0m\u001b[38;2;230;237;243;48;2;13;17;23mto\u001b[0m\u001b[38;2;230;237;243;48;2;13;17;23m \u001b[0m\u001b[38;2;230;237;243;48;2;13;17;23mcompare\u001b[0m\u001b[38;2;230;237;243;48;2;13;17;23m \u001b[0m\u001b[38;2;230;237;243;48;2;13;17;23mand\u001b[0m\u001b[38;2;230;237;243;48;2;13;17;23m \u001b[0m\u001b[38;2;230;237;243;48;2;13;17;23mdetermine\u001b[0m\u001b[38;2;230;237;243;48;2;13;17;23m \u001b[0m\u001b[38;2;230;237;243;48;2;13;17;23mwhether\u001b[0m\u001b[38;2;230;237;243;48;2;13;17;23m \u001b[0m\u001b[38;2;230;237;243;48;2;13;17;23mthey\u001b[0m\u001b[38;2;230;237;243;48;2;13;17;23m \u001b[0m\u001b[38;2;230;237;243;48;2;13;17;23mcater\u001b[0m\u001b[38;2;230;237;243;48;2;13;17;23m \u001b[0m\u001b[38;2;230;237;243;48;2;13;17;23mto\u001b[0m\u001b[38;2;230;237;243;48;2;13;17;23m \u001b[0m\u001b[38;2;230;237;243;48;2;13;17;23mthe\u001b[0m\u001b[38;2;230;237;243;48;2;13;17;23m \u001b[0m\u001b[38;2;230;237;243;48;2;13;17;23msame\u001b[0m\u001b[38;2;230;237;243;48;2;13;17;23m \u001b[0m\u001b[38;2;230;237;243;48;2;13;17;23mtarget\u001b[0m\u001b[38;2;230;237;243;48;2;13;17;23m \u001b[0m\u001b[38;2;230;237;243;48;2;13;17;23maudience.\u001b[0m\u001b[48;2;13;17;23m                                                                                                \u001b[0m\n",
              "\u001b[48;2;13;17;23m                                                                                                                                                                                                        \u001b[0m\n",
              "\u001b[38;2;230;237;243;48;2;13;17;23mCode:\u001b[0m\u001b[48;2;13;17;23m                                                                                                                                                                                                   \u001b[0m\n",
              "\u001b[38;2;230;237;243;48;2;13;17;23m```py\u001b[0m\u001b[48;2;13;17;23m                                                                                                                                                                                                   \u001b[0m\n",
              "\u001b[38;2;230;237;243;48;2;13;17;23mwalmart_target\u001b[0m\u001b[38;2;230;237;243;48;2;13;17;23m \u001b[0m\u001b[38;2;230;237;243;48;2;13;17;23m=\u001b[0m\u001b[38;2;230;237;243;48;2;13;17;23m \u001b[0m\u001b[38;2;230;237;243;48;2;13;17;23m\"\"\"Walmart\u001b[0m\u001b[38;2;230;237;243;48;2;13;17;23m \u001b[0m\u001b[38;2;230;237;243;48;2;13;17;23mtargets\u001b[0m\u001b[38;2;230;237;243;48;2;13;17;23m \u001b[0m\u001b[38;2;230;237;243;48;2;13;17;23mbusy\u001b[0m\u001b[38;2;230;237;243;48;2;13;17;23m \u001b[0m\u001b[38;2;230;237;243;48;2;13;17;23mfamilies\u001b[0m\u001b[38;2;230;237;243;48;2;13;17;23m \u001b[0m\u001b[38;2;230;237;243;48;2;13;17;23mlooking\u001b[0m\u001b[38;2;230;237;243;48;2;13;17;23m \u001b[0m\u001b[38;2;230;237;243;48;2;13;17;23mfor\u001b[0m\u001b[38;2;230;237;243;48;2;13;17;23m \u001b[0m\u001b[38;2;230;237;243;48;2;13;17;23meveryday\u001b[0m\u001b[38;2;230;237;243;48;2;13;17;23m \u001b[0m\u001b[38;2;230;237;243;48;2;13;17;23mlow\u001b[0m\u001b[38;2;230;237;243;48;2;13;17;23m \u001b[0m\u001b[38;2;230;237;243;48;2;13;17;23mprices\u001b[0m\u001b[38;2;230;237;243;48;2;13;17;23m \u001b[0m\u001b[38;2;230;237;243;48;2;13;17;23m(EDLP)\u001b[0m\u001b[38;2;230;237;243;48;2;13;17;23m \u001b[0m\u001b[38;2;230;237;243;48;2;13;17;23macross\u001b[0m\u001b[38;2;230;237;243;48;2;13;17;23m \u001b[0m\u001b[38;2;230;237;243;48;2;13;17;23ma\u001b[0m\u001b[38;2;230;237;243;48;2;13;17;23m \u001b[0m\u001b[38;2;230;237;243;48;2;13;17;23mbroad\u001b[0m\u001b[38;2;230;237;243;48;2;13;17;23m \u001b[0m\u001b[38;2;230;237;243;48;2;13;17;23massortment\u001b[0m\u001b[38;2;230;237;243;48;2;13;17;23m \u001b[0m\u001b[38;2;230;237;243;48;2;13;17;23mof\u001b[0m\u001b[38;2;230;237;243;48;2;13;17;23m \u001b[0m\u001b[38;2;230;237;243;48;2;13;17;23mgoods,\u001b[0m\u001b[38;2;230;237;243;48;2;13;17;23m \u001b[0m\u001b[38;2;230;237;243;48;2;13;17;23memphasizing\u001b[0m\u001b[38;2;230;237;243;48;2;13;17;23m \u001b[0m\u001b[38;2;230;237;243;48;2;13;17;23mconvenience\u001b[0m\u001b[38;2;230;237;243;48;2;13;17;23m \u001b[0m\u001b[38;2;230;237;243;48;2;13;17;23mand\u001b[0m\u001b[38;2;230;237;243;48;2;13;17;23m \u001b[0m\u001b[38;2;230;237;243;48;2;13;17;23ma\u001b[0m\u001b[38;2;230;237;243;48;2;13;17;23m \u001b[0m\u001b[38;2;230;237;243;48;2;13;17;23mcustomer-centric\u001b[0m\u001b[38;2;230;237;243;48;2;13;17;23m \u001b[0m\u001b[38;2;230;237;243;48;2;13;17;23momni-channel\u001b[0m\u001b[38;2;230;237;243;48;2;13;17;23m \u001b[0m\u001b[38;2;230;237;243;48;2;13;17;23mexperience.\u001b[0m\u001b[38;2;230;237;243;48;2;13;17;23m \u001b[0m\u001b[48;2;13;17;23m   \u001b[0m\n",
              "\u001b[38;2;230;237;243;48;2;13;17;23mWalmart\u001b[0m\u001b[38;2;230;237;243;48;2;13;17;23m \u001b[0m\u001b[38;2;230;237;243;48;2;13;17;23malso\u001b[0m\u001b[38;2;230;237;243;48;2;13;17;23m \u001b[0m\u001b[38;2;230;237;243;48;2;13;17;23mincorporates\u001b[0m\u001b[38;2;230;237;243;48;2;13;17;23m \u001b[0m\u001b[38;2;230;237;243;48;2;13;17;23mtechnology\u001b[0m\u001b[38;2;230;237;243;48;2;13;17;23m \u001b[0m\u001b[38;2;230;237;243;48;2;13;17;23mtools\u001b[0m\u001b[38;2;230;237;243;48;2;13;17;23m \u001b[0m\u001b[38;2;230;237;243;48;2;13;17;23mto\u001b[0m\u001b[38;2;230;237;243;48;2;13;17;23m \u001b[0m\u001b[38;2;230;237;243;48;2;13;17;23mmaximize\u001b[0m\u001b[38;2;230;237;243;48;2;13;17;23m \u001b[0m\u001b[38;2;230;237;243;48;2;13;17;23mvalue\u001b[0m\u001b[38;2;230;237;243;48;2;13;17;23m \u001b[0m\u001b[38;2;230;237;243;48;2;13;17;23mfor\u001b[0m\u001b[38;2;230;237;243;48;2;13;17;23m \u001b[0m\u001b[38;2;230;237;243;48;2;13;17;23mits\u001b[0m\u001b[38;2;230;237;243;48;2;13;17;23m \u001b[0m\u001b[38;2;230;237;243;48;2;13;17;23mcustomers.\"\"\"\u001b[0m\u001b[48;2;13;17;23m                                                                                                                      \u001b[0m\n",
              "\u001b[48;2;13;17;23m                                                                                                                                                                                                        \u001b[0m\n",
              "\u001b[38;2;230;237;243;48;2;13;17;23mcostco_target\u001b[0m\u001b[38;2;230;237;243;48;2;13;17;23m \u001b[0m\u001b[38;2;230;237;243;48;2;13;17;23m=\u001b[0m\u001b[38;2;230;237;243;48;2;13;17;23m \u001b[0m\u001b[38;2;230;237;243;48;2;13;17;23m\"\"\"Costco\u001b[0m\u001b[38;2;230;237;243;48;2;13;17;23m \u001b[0m\u001b[38;2;230;237;243;48;2;13;17;23mappeals\u001b[0m\u001b[38;2;230;237;243;48;2;13;17;23m \u001b[0m\u001b[38;2;230;237;243;48;2;13;17;23mto\u001b[0m\u001b[38;2;230;237;243;48;2;13;17;23m \u001b[0m\u001b[38;2;230;237;243;48;2;13;17;23mcustomers\u001b[0m\u001b[38;2;230;237;243;48;2;13;17;23m \u001b[0m\u001b[38;2;230;237;243;48;2;13;17;23mthrough\u001b[0m\u001b[38;2;230;237;243;48;2;13;17;23m \u001b[0m\u001b[38;2;230;237;243;48;2;13;17;23ma\u001b[0m\u001b[38;2;230;237;243;48;2;13;17;23m \u001b[0m\u001b[38;2;230;237;243;48;2;13;17;23mmembership-driven\u001b[0m\u001b[38;2;230;237;243;48;2;13;17;23m \u001b[0m\u001b[38;2;230;237;243;48;2;13;17;23mmodel\u001b[0m\u001b[38;2;230;237;243;48;2;13;17;23m \u001b[0m\u001b[38;2;230;237;243;48;2;13;17;23mthat\u001b[0m\u001b[38;2;230;237;243;48;2;13;17;23m \u001b[0m\u001b[38;2;230;237;243;48;2;13;17;23mprovides\u001b[0m\u001b[38;2;230;237;243;48;2;13;17;23m \u001b[0m\u001b[38;2;230;237;243;48;2;13;17;23maccess\u001b[0m\u001b[38;2;230;237;243;48;2;13;17;23m \u001b[0m\u001b[38;2;230;237;243;48;2;13;17;23mto\u001b[0m\u001b[38;2;230;237;243;48;2;13;17;23m \u001b[0m\u001b[38;2;230;237;243;48;2;13;17;23mbulk\u001b[0m\u001b[38;2;230;237;243;48;2;13;17;23m \u001b[0m\u001b[38;2;230;237;243;48;2;13;17;23mpurchases,\u001b[0m\u001b[38;2;230;237;243;48;2;13;17;23m \u001b[0m\u001b[38;2;230;237;243;48;2;13;17;23mhigh-quality\u001b[0m\u001b[38;2;230;237;243;48;2;13;17;23m \u001b[0m\u001b[38;2;230;237;243;48;2;13;17;23mmerchandise,\u001b[0m\u001b[38;2;230;237;243;48;2;13;17;23m \u001b[0m\u001b[38;2;230;237;243;48;2;13;17;23mand\u001b[0m\u001b[38;2;230;237;243;48;2;13;17;23m \u001b[0m\u001b[38;2;230;237;243;48;2;13;17;23mlower\u001b[0m\u001b[38;2;230;237;243;48;2;13;17;23m \u001b[0m\u001b[38;2;230;237;243;48;2;13;17;23mprices.\u001b[0m\u001b[38;2;230;237;243;48;2;13;17;23m \u001b[0m\u001b[38;2;230;237;243;48;2;13;17;23mPerks\u001b[0m\u001b[38;2;230;237;243;48;2;13;17;23m \u001b[0m\u001b[38;2;230;237;243;48;2;13;17;23mlike\u001b[0m\u001b[38;2;230;237;243;48;2;13;17;23m \u001b[0m\u001b[38;2;230;237;243;48;2;13;17;23mExecutive\u001b[0m\u001b[38;2;230;237;243;48;2;13;17;23m \u001b[0m\u001b[38;2;230;237;243;48;2;13;17;23mmemberships\u001b[0m\u001b[38;2;230;237;243;48;2;13;17;23m \u001b[0m\u001b[48;2;13;17;23m  \u001b[0m\n",
              "\u001b[38;2;230;237;243;48;2;13;17;23mand\u001b[0m\u001b[38;2;230;237;243;48;2;13;17;23m \u001b[0m\u001b[38;2;230;237;243;48;2;13;17;23mbenefits\u001b[0m\u001b[38;2;230;237;243;48;2;13;17;23m \u001b[0m\u001b[38;2;230;237;243;48;2;13;17;23mcater\u001b[0m\u001b[38;2;230;237;243;48;2;13;17;23m \u001b[0m\u001b[38;2;230;237;243;48;2;13;17;23mto\u001b[0m\u001b[38;2;230;237;243;48;2;13;17;23m \u001b[0m\u001b[38;2;230;237;243;48;2;13;17;23mboth\u001b[0m\u001b[38;2;230;237;243;48;2;13;17;23m \u001b[0m\u001b[38;2;230;237;243;48;2;13;17;23mindividual\u001b[0m\u001b[38;2;230;237;243;48;2;13;17;23m \u001b[0m\u001b[38;2;230;237;243;48;2;13;17;23mcustomers\u001b[0m\u001b[38;2;230;237;243;48;2;13;17;23m \u001b[0m\u001b[38;2;230;237;243;48;2;13;17;23mand\u001b[0m\u001b[38;2;230;237;243;48;2;13;17;23m \u001b[0m\u001b[38;2;230;237;243;48;2;13;17;23mbusinesses\u001b[0m\u001b[38;2;230;237;243;48;2;13;17;23m \u001b[0m\u001b[38;2;230;237;243;48;2;13;17;23mfocused\u001b[0m\u001b[38;2;230;237;243;48;2;13;17;23m \u001b[0m\u001b[38;2;230;237;243;48;2;13;17;23mon\u001b[0m\u001b[38;2;230;237;243;48;2;13;17;23m \u001b[0m\u001b[38;2;230;237;243;48;2;13;17;23mpremium,\u001b[0m\u001b[38;2;230;237;243;48;2;13;17;23m \u001b[0m\u001b[38;2;230;237;243;48;2;13;17;23mcost-effective\u001b[0m\u001b[38;2;230;237;243;48;2;13;17;23m \u001b[0m\u001b[38;2;230;237;243;48;2;13;17;23mbuying.\"\"\"\u001b[0m\u001b[48;2;13;17;23m                                                                                            \u001b[0m\n",
              "\u001b[48;2;13;17;23m                                                                                                                                                                                                        \u001b[0m\n",
              "\u001b[1;38;2;121;192;255;48;2;13;17;23m# Analyzing and summarizing:\u001b[0m\u001b[48;2;13;17;23m                                                                                                                                                                            \u001b[0m\n",
              "\u001b[38;2;230;237;243;48;2;13;17;23msame_audience\u001b[0m\u001b[38;2;230;237;243;48;2;13;17;23m \u001b[0m\u001b[38;2;230;237;243;48;2;13;17;23m=\u001b[0m\u001b[38;2;230;237;243;48;2;13;17;23m \u001b[0m\u001b[38;2;230;237;243;48;2;13;17;23mFalse\u001b[0m\u001b[38;2;230;237;243;48;2;13;17;23m \u001b[0m\u001b[38;2;230;237;243;48;2;13;17;23m \u001b[0m\u001b[38;2;230;237;243;48;2;13;17;23m#\u001b[0m\u001b[38;2;230;237;243;48;2;13;17;23m \u001b[0m\u001b[38;2;230;237;243;48;2;13;17;23mWalmart\u001b[0m\u001b[38;2;230;237;243;48;2;13;17;23m \u001b[0m\u001b[38;2;230;237;243;48;2;13;17;23mis\u001b[0m\u001b[38;2;230;237;243;48;2;13;17;23m \u001b[0m\u001b[38;2;230;237;243;48;2;13;17;23mbroader,\u001b[0m\u001b[38;2;230;237;243;48;2;13;17;23m \u001b[0m\u001b[38;2;230;237;243;48;2;13;17;23mand\u001b[0m\u001b[38;2;230;237;243;48;2;13;17;23m \u001b[0m\u001b[38;2;230;237;243;48;2;13;17;23mCostco\u001b[0m\u001b[38;2;230;237;243;48;2;13;17;23m \u001b[0m\u001b[38;2;230;237;243;48;2;13;17;23mfocuses\u001b[0m\u001b[38;2;230;237;243;48;2;13;17;23m \u001b[0m\u001b[38;2;230;237;243;48;2;13;17;23mon\u001b[0m\u001b[38;2;230;237;243;48;2;13;17;23m \u001b[0m\u001b[38;2;230;237;243;48;2;13;17;23mmembership/bulk\u001b[0m\u001b[38;2;230;237;243;48;2;13;17;23m \u001b[0m\u001b[38;2;230;237;243;48;2;13;17;23mbuyers\u001b[0m\u001b[48;2;13;17;23m                                                                                                               \u001b[0m\n",
              "\u001b[48;2;13;17;23m                                                                                                                                                                                                        \u001b[0m\n",
              "\u001b[38;2;230;237;243;48;2;13;17;23mfinal_answer(\"No,\u001b[0m\u001b[38;2;230;237;243;48;2;13;17;23m \u001b[0m\u001b[38;2;230;237;243;48;2;13;17;23mWalmart\u001b[0m\u001b[38;2;230;237;243;48;2;13;17;23m \u001b[0m\u001b[38;2;230;237;243;48;2;13;17;23mand\u001b[0m\u001b[38;2;230;237;243;48;2;13;17;23m \u001b[0m\u001b[38;2;230;237;243;48;2;13;17;23mCostco\u001b[0m\u001b[38;2;230;237;243;48;2;13;17;23m \u001b[0m\u001b[38;2;230;237;243;48;2;13;17;23mdo\u001b[0m\u001b[38;2;230;237;243;48;2;13;17;23m \u001b[0m\u001b[38;2;230;237;243;48;2;13;17;23mnot\u001b[0m\u001b[38;2;230;237;243;48;2;13;17;23m \u001b[0m\u001b[38;2;230;237;243;48;2;13;17;23mcater\u001b[0m\u001b[38;2;230;237;243;48;2;13;17;23m \u001b[0m\u001b[38;2;230;237;243;48;2;13;17;23mto\u001b[0m\u001b[38;2;230;237;243;48;2;13;17;23m \u001b[0m\u001b[38;2;230;237;243;48;2;13;17;23mthe\u001b[0m\u001b[38;2;230;237;243;48;2;13;17;23m \u001b[0m\u001b[38;2;230;237;243;48;2;13;17;23msame\u001b[0m\u001b[38;2;230;237;243;48;2;13;17;23m \u001b[0m\u001b[38;2;230;237;243;48;2;13;17;23mtarget\u001b[0m\u001b[38;2;230;237;243;48;2;13;17;23m \u001b[0m\u001b[38;2;230;237;243;48;2;13;17;23maudience.\u001b[0m\u001b[38;2;230;237;243;48;2;13;17;23m \u001b[0m\u001b[38;2;230;237;243;48;2;13;17;23mWalmart\u001b[0m\u001b[38;2;230;237;243;48;2;13;17;23m \u001b[0m\u001b[38;2;230;237;243;48;2;13;17;23mbroadly\u001b[0m\u001b[38;2;230;237;243;48;2;13;17;23m \u001b[0m\u001b[38;2;230;237;243;48;2;13;17;23mtargets\u001b[0m\u001b[38;2;230;237;243;48;2;13;17;23m \u001b[0m\u001b[38;2;230;237;243;48;2;13;17;23mbusy\u001b[0m\u001b[38;2;230;237;243;48;2;13;17;23m \u001b[0m\u001b[38;2;230;237;243;48;2;13;17;23mfamilies\u001b[0m\u001b[38;2;230;237;243;48;2;13;17;23m \u001b[0m\u001b[38;2;230;237;243;48;2;13;17;23mwith\u001b[0m\u001b[38;2;230;237;243;48;2;13;17;23m \u001b[0m\u001b[38;2;230;237;243;48;2;13;17;23man\u001b[0m\u001b[38;2;230;237;243;48;2;13;17;23m \u001b[0m\u001b[38;2;230;237;243;48;2;13;17;23momni-channel\u001b[0m\u001b[38;2;230;237;243;48;2;13;17;23m \u001b[0m\u001b[38;2;230;237;243;48;2;13;17;23mmodel\u001b[0m\u001b[38;2;230;237;243;48;2;13;17;23m \u001b[0m\u001b[38;2;230;237;243;48;2;13;17;23mand\u001b[0m\u001b[38;2;230;237;243;48;2;13;17;23m \u001b[0m\u001b[38;2;230;237;243;48;2;13;17;23mlow\u001b[0m\u001b[38;2;230;237;243;48;2;13;17;23m \u001b[0m\u001b[38;2;230;237;243;48;2;13;17;23mprices,\u001b[0m\u001b[38;2;230;237;243;48;2;13;17;23m \u001b[0m\u001b[38;2;230;237;243;48;2;13;17;23mwhile\u001b[0m\u001b[38;2;230;237;243;48;2;13;17;23m \u001b[0m\u001b[38;2;230;237;243;48;2;13;17;23mCostco\u001b[0m\u001b[38;2;230;237;243;48;2;13;17;23m \u001b[0m\u001b[38;2;230;237;243;48;2;13;17;23mappeals\u001b[0m\u001b[38;2;230;237;243;48;2;13;17;23m \u001b[0m\u001b[38;2;230;237;243;48;2;13;17;23mto\u001b[0m\u001b[38;2;230;237;243;48;2;13;17;23m \u001b[0m\u001b[38;2;230;237;243;48;2;13;17;23mthose\u001b[0m\u001b[38;2;230;237;243;48;2;13;17;23m \u001b[0m\u001b[38;2;230;237;243;48;2;13;17;23mseeking\u001b[0m\u001b[38;2;230;237;243;48;2;13;17;23m \u001b[0m\u001b[48;2;13;17;23m  \u001b[0m\n",
              "\u001b[38;2;230;237;243;48;2;13;17;23mbulk\u001b[0m\u001b[38;2;230;237;243;48;2;13;17;23m \u001b[0m\u001b[38;2;230;237;243;48;2;13;17;23mpurchasing\u001b[0m\u001b[38;2;230;237;243;48;2;13;17;23m \u001b[0m\u001b[38;2;230;237;243;48;2;13;17;23mthrough\u001b[0m\u001b[38;2;230;237;243;48;2;13;17;23m \u001b[0m\u001b[38;2;230;237;243;48;2;13;17;23ma\u001b[0m\u001b[38;2;230;237;243;48;2;13;17;23m \u001b[0m\u001b[38;2;230;237;243;48;2;13;17;23mmembership-based\u001b[0m\u001b[38;2;230;237;243;48;2;13;17;23m \u001b[0m\u001b[38;2;230;237;243;48;2;13;17;23mmodel.\")\u001b[0m\u001b[48;2;13;17;23m                                                                                                                                                     \u001b[0m\n",
              "\u001b[38;2;230;237;243;48;2;13;17;23m```<end_code>\u001b[0m\u001b[48;2;13;17;23m                                                                                                                                                                                           \u001b[0m\n"
            ],
            "text/html": [
              "<pre style=\"white-space:pre;overflow-x:auto;line-height:normal;font-family:Menlo,'DejaVu Sans Mono',consolas,'Courier New',monospace\"><span style=\"font-style: italic\">Output message of the LLM:</span> ─────────────────────────────────────────────────────────────────────────────────────────────────────────────────────────────────────────────────────────────────────────────\n",
              "<span style=\"color: #e6edf3; text-decoration-color: #e6edf3; background-color: #0d1117\">Thought: I now have detailed information about the target audiences for both Walmart and Costco. Walmart primarily targets busy families and those looking for everyday low prices on a wide assortment </span>\n",
              "<span style=\"color: #e6edf3; text-decoration-color: #e6edf3; background-color: #0d1117\">of goods, maximizing convenience and accessibility via omni-channel offerings. Costco, on the other hand, follows a membership model appealing to customers who value bulk purchasing, premium products </span>\n",
              "<span style=\"color: #e6edf3; text-decoration-color: #e6edf3; background-color: #0d1117\">at lower costs compared to traditional retail, and added perks such as Executive memberships. Costco also attracts businesses for bulk purchases.</span><span style=\"background-color: #0d1117\">                                                       </span>\n",
              "<span style=\"background-color: #0d1117\">                                                                                                                                                                                                        </span>\n",
              "<span style=\"color: #e6edf3; text-decoration-color: #e6edf3; background-color: #0d1117\">I'll now analyze these insights to compare and determine whether they cater to the same target audience.</span><span style=\"background-color: #0d1117\">                                                                                                </span>\n",
              "<span style=\"background-color: #0d1117\">                                                                                                                                                                                                        </span>\n",
              "<span style=\"color: #e6edf3; text-decoration-color: #e6edf3; background-color: #0d1117\">Code:</span><span style=\"background-color: #0d1117\">                                                                                                                                                                                                   </span>\n",
              "<span style=\"color: #e6edf3; text-decoration-color: #e6edf3; background-color: #0d1117\">```py</span><span style=\"background-color: #0d1117\">                                                                                                                                                                                                   </span>\n",
              "<span style=\"color: #e6edf3; text-decoration-color: #e6edf3; background-color: #0d1117\">walmart_target = \"\"\"Walmart targets busy families looking for everyday low prices (EDLP) across a broad assortment of goods, emphasizing convenience and a customer-centric omni-channel experience. </span><span style=\"background-color: #0d1117\">   </span>\n",
              "<span style=\"color: #e6edf3; text-decoration-color: #e6edf3; background-color: #0d1117\">Walmart also incorporates technology tools to maximize value for its customers.\"\"\"</span><span style=\"background-color: #0d1117\">                                                                                                                      </span>\n",
              "<span style=\"background-color: #0d1117\">                                                                                                                                                                                                        </span>\n",
              "<span style=\"color: #e6edf3; text-decoration-color: #e6edf3; background-color: #0d1117\">costco_target = \"\"\"Costco appeals to customers through a membership-driven model that provides access to bulk purchases, high-quality merchandise, and lower prices. Perks like Executive memberships </span><span style=\"background-color: #0d1117\">  </span>\n",
              "<span style=\"color: #e6edf3; text-decoration-color: #e6edf3; background-color: #0d1117\">and benefits cater to both individual customers and businesses focused on premium, cost-effective buying.\"\"\"</span><span style=\"background-color: #0d1117\">                                                                                            </span>\n",
              "<span style=\"background-color: #0d1117\">                                                                                                                                                                                                        </span>\n",
              "<span style=\"color: #79c0ff; text-decoration-color: #79c0ff; background-color: #0d1117; font-weight: bold\"># Analyzing and summarizing:</span><span style=\"background-color: #0d1117\">                                                                                                                                                                            </span>\n",
              "<span style=\"color: #e6edf3; text-decoration-color: #e6edf3; background-color: #0d1117\">same_audience = False  # Walmart is broader, and Costco focuses on membership/bulk buyers</span><span style=\"background-color: #0d1117\">                                                                                                               </span>\n",
              "<span style=\"background-color: #0d1117\">                                                                                                                                                                                                        </span>\n",
              "<span style=\"color: #e6edf3; text-decoration-color: #e6edf3; background-color: #0d1117\">final_answer(\"No, Walmart and Costco do not cater to the same target audience. Walmart broadly targets busy families with an omni-channel model and low prices, while Costco appeals to those seeking </span><span style=\"background-color: #0d1117\">  </span>\n",
              "<span style=\"color: #e6edf3; text-decoration-color: #e6edf3; background-color: #0d1117\">bulk purchasing through a membership-based model.\")</span><span style=\"background-color: #0d1117\">                                                                                                                                                     </span>\n",
              "<span style=\"color: #e6edf3; text-decoration-color: #e6edf3; background-color: #0d1117\">```&lt;end_code&gt;</span><span style=\"background-color: #0d1117\">                                                                                                                                                                                           </span>\n",
              "</pre>\n"
            ]
          },
          "metadata": {}
        },
        {
          "output_type": "display_data",
          "data": {
            "text/plain": [
              "╭─ \u001b[1mExecuting this code:\u001b[0m ───────────────────────────────────────────────────────────────────────────────────────────────────────────────────────────────────────────────────────────────────────────────╮\n",
              "│ \u001b[1;38;2;227;227;221;48;2;39;40;34m  \u001b[0m\u001b[38;2;101;102;96;48;2;39;40;34m1 \u001b[0m\u001b[38;2;248;248;242;48;2;39;40;34mwalmart_target\u001b[0m\u001b[38;2;248;248;242;48;2;39;40;34m \u001b[0m\u001b[38;2;255;70;137;48;2;39;40;34m=\u001b[0m\u001b[38;2;248;248;242;48;2;39;40;34m \u001b[0m\u001b[38;2;230;219;116;48;2;39;40;34m\"\"\"\u001b[0m\u001b[38;2;230;219;116;48;2;39;40;34mWalmart targets busy families looking for everyday low prices (EDLP) across a broad assortment of goods, emphasizing convenience and a customer-centric omni-channel \u001b[0m\u001b[48;2;39;40;34m       \u001b[0m │\n",
              "│ \u001b[48;2;39;40;34m    \u001b[0m\u001b[38;2;230;219;116;48;2;39;40;34mexperience. Walmart also incorporates technology tools to maximize value for its customers.\u001b[0m\u001b[38;2;230;219;116;48;2;39;40;34m\"\"\"\u001b[0m\u001b[48;2;39;40;34m                                                                                                  \u001b[0m │\n",
              "│ \u001b[1;38;2;227;227;221;48;2;39;40;34m  \u001b[0m\u001b[38;2;101;102;96;48;2;39;40;34m2 \u001b[0m\u001b[48;2;39;40;34m                                                                                                                                                                                                \u001b[0m │\n",
              "│ \u001b[1;38;2;227;227;221;48;2;39;40;34m  \u001b[0m\u001b[38;2;101;102;96;48;2;39;40;34m3 \u001b[0m\u001b[38;2;248;248;242;48;2;39;40;34mcostco_target\u001b[0m\u001b[38;2;248;248;242;48;2;39;40;34m \u001b[0m\u001b[38;2;255;70;137;48;2;39;40;34m=\u001b[0m\u001b[38;2;248;248;242;48;2;39;40;34m \u001b[0m\u001b[38;2;230;219;116;48;2;39;40;34m\"\"\"\u001b[0m\u001b[38;2;230;219;116;48;2;39;40;34mCostco appeals to customers through a membership-driven model that provides access to bulk purchases, high-quality merchandise, and lower prices. Perks like Executive \u001b[0m\u001b[48;2;39;40;34m      \u001b[0m │\n",
              "│ \u001b[48;2;39;40;34m    \u001b[0m\u001b[38;2;230;219;116;48;2;39;40;34mmemberships and benefits cater to both individual customers and businesses focused on premium, cost-effective buying.\u001b[0m\u001b[38;2;230;219;116;48;2;39;40;34m\"\"\"\u001b[0m\u001b[48;2;39;40;34m                                                                        \u001b[0m │\n",
              "│ \u001b[1;38;2;227;227;221;48;2;39;40;34m  \u001b[0m\u001b[38;2;101;102;96;48;2;39;40;34m4 \u001b[0m\u001b[48;2;39;40;34m                                                                                                                                                                                                \u001b[0m │\n",
              "│ \u001b[1;38;2;227;227;221;48;2;39;40;34m  \u001b[0m\u001b[38;2;101;102;96;48;2;39;40;34m5 \u001b[0m\u001b[38;2;149;144;119;48;2;39;40;34m# Analyzing and summarizing:\u001b[0m\u001b[48;2;39;40;34m                                                                                                                                                                    \u001b[0m │\n",
              "│ \u001b[1;38;2;227;227;221;48;2;39;40;34m  \u001b[0m\u001b[38;2;101;102;96;48;2;39;40;34m6 \u001b[0m\u001b[38;2;248;248;242;48;2;39;40;34msame_audience\u001b[0m\u001b[38;2;248;248;242;48;2;39;40;34m \u001b[0m\u001b[38;2;255;70;137;48;2;39;40;34m=\u001b[0m\u001b[38;2;248;248;242;48;2;39;40;34m \u001b[0m\u001b[38;2;102;217;239;48;2;39;40;34mFalse\u001b[0m\u001b[38;2;248;248;242;48;2;39;40;34m  \u001b[0m\u001b[38;2;149;144;119;48;2;39;40;34m# Walmart is broader, and Costco focuses on membership/bulk buyers\u001b[0m\u001b[48;2;39;40;34m                                                                                                       \u001b[0m │\n",
              "│ \u001b[1;38;2;227;227;221;48;2;39;40;34m  \u001b[0m\u001b[38;2;101;102;96;48;2;39;40;34m7 \u001b[0m\u001b[48;2;39;40;34m                                                                                                                                                                                                \u001b[0m │\n",
              "│ \u001b[1;38;2;227;227;221;48;2;39;40;34m  \u001b[0m\u001b[38;2;101;102;96;48;2;39;40;34m8 \u001b[0m\u001b[38;2;248;248;242;48;2;39;40;34mfinal_answer\u001b[0m\u001b[38;2;248;248;242;48;2;39;40;34m(\u001b[0m\u001b[38;2;230;219;116;48;2;39;40;34m\"\u001b[0m\u001b[38;2;230;219;116;48;2;39;40;34mNo, Walmart and Costco do not cater to the same target audience. Walmart broadly targets busy families with an omni-channel model and low prices, while Costco appeals to those \u001b[0m\u001b[48;2;39;40;34m  \u001b[0m │\n",
              "│ \u001b[48;2;39;40;34m    \u001b[0m\u001b[38;2;230;219;116;48;2;39;40;34mseeking bulk purchasing through a membership-based model.\u001b[0m\u001b[38;2;230;219;116;48;2;39;40;34m\"\u001b[0m\u001b[38;2;248;248;242;48;2;39;40;34m)\u001b[0m\u001b[48;2;39;40;34m                                                                                                                                     \u001b[0m │\n",
              "╰──────────────────────────────────────────────────────────────────────────────────────────────────────────────────────────────────────────────────────────────────────────────────────────────────────╯\n"
            ],
            "text/html": [
              "<pre style=\"white-space:pre;overflow-x:auto;line-height:normal;font-family:Menlo,'DejaVu Sans Mono',consolas,'Courier New',monospace\">╭─ <span style=\"font-weight: bold\">Executing this code:</span> ───────────────────────────────────────────────────────────────────────────────────────────────────────────────────────────────────────────────────────────────────────────────╮\n",
              "│ <span style=\"color: #e3e3dd; text-decoration-color: #e3e3dd; background-color: #272822; font-weight: bold\">  </span><span style=\"color: #656660; text-decoration-color: #656660; background-color: #272822\">1 </span><span style=\"color: #f8f8f2; text-decoration-color: #f8f8f2; background-color: #272822\">walmart_target </span><span style=\"color: #ff4689; text-decoration-color: #ff4689; background-color: #272822\">=</span><span style=\"color: #f8f8f2; text-decoration-color: #f8f8f2; background-color: #272822\"> </span><span style=\"color: #e6db74; text-decoration-color: #e6db74; background-color: #272822\">\"\"\"Walmart targets busy families looking for everyday low prices (EDLP) across a broad assortment of goods, emphasizing convenience and a customer-centric omni-channel </span><span style=\"background-color: #272822\">       </span> │\n",
              "│ <span style=\"background-color: #272822\">    </span><span style=\"color: #e6db74; text-decoration-color: #e6db74; background-color: #272822\">experience. Walmart also incorporates technology tools to maximize value for its customers.\"\"\"</span><span style=\"background-color: #272822\">                                                                                                  </span> │\n",
              "│ <span style=\"color: #e3e3dd; text-decoration-color: #e3e3dd; background-color: #272822; font-weight: bold\">  </span><span style=\"color: #656660; text-decoration-color: #656660; background-color: #272822\">2 </span><span style=\"background-color: #272822\">                                                                                                                                                                                                </span> │\n",
              "│ <span style=\"color: #e3e3dd; text-decoration-color: #e3e3dd; background-color: #272822; font-weight: bold\">  </span><span style=\"color: #656660; text-decoration-color: #656660; background-color: #272822\">3 </span><span style=\"color: #f8f8f2; text-decoration-color: #f8f8f2; background-color: #272822\">costco_target </span><span style=\"color: #ff4689; text-decoration-color: #ff4689; background-color: #272822\">=</span><span style=\"color: #f8f8f2; text-decoration-color: #f8f8f2; background-color: #272822\"> </span><span style=\"color: #e6db74; text-decoration-color: #e6db74; background-color: #272822\">\"\"\"Costco appeals to customers through a membership-driven model that provides access to bulk purchases, high-quality merchandise, and lower prices. Perks like Executive </span><span style=\"background-color: #272822\">      </span> │\n",
              "│ <span style=\"background-color: #272822\">    </span><span style=\"color: #e6db74; text-decoration-color: #e6db74; background-color: #272822\">memberships and benefits cater to both individual customers and businesses focused on premium, cost-effective buying.\"\"\"</span><span style=\"background-color: #272822\">                                                                        </span> │\n",
              "│ <span style=\"color: #e3e3dd; text-decoration-color: #e3e3dd; background-color: #272822; font-weight: bold\">  </span><span style=\"color: #656660; text-decoration-color: #656660; background-color: #272822\">4 </span><span style=\"background-color: #272822\">                                                                                                                                                                                                </span> │\n",
              "│ <span style=\"color: #e3e3dd; text-decoration-color: #e3e3dd; background-color: #272822; font-weight: bold\">  </span><span style=\"color: #656660; text-decoration-color: #656660; background-color: #272822\">5 </span><span style=\"color: #959077; text-decoration-color: #959077; background-color: #272822\"># Analyzing and summarizing:</span><span style=\"background-color: #272822\">                                                                                                                                                                    </span> │\n",
              "│ <span style=\"color: #e3e3dd; text-decoration-color: #e3e3dd; background-color: #272822; font-weight: bold\">  </span><span style=\"color: #656660; text-decoration-color: #656660; background-color: #272822\">6 </span><span style=\"color: #f8f8f2; text-decoration-color: #f8f8f2; background-color: #272822\">same_audience </span><span style=\"color: #ff4689; text-decoration-color: #ff4689; background-color: #272822\">=</span><span style=\"color: #f8f8f2; text-decoration-color: #f8f8f2; background-color: #272822\"> </span><span style=\"color: #66d9ef; text-decoration-color: #66d9ef; background-color: #272822\">False</span><span style=\"color: #f8f8f2; text-decoration-color: #f8f8f2; background-color: #272822\">  </span><span style=\"color: #959077; text-decoration-color: #959077; background-color: #272822\"># Walmart is broader, and Costco focuses on membership/bulk buyers</span><span style=\"background-color: #272822\">                                                                                                       </span> │\n",
              "│ <span style=\"color: #e3e3dd; text-decoration-color: #e3e3dd; background-color: #272822; font-weight: bold\">  </span><span style=\"color: #656660; text-decoration-color: #656660; background-color: #272822\">7 </span><span style=\"background-color: #272822\">                                                                                                                                                                                                </span> │\n",
              "│ <span style=\"color: #e3e3dd; text-decoration-color: #e3e3dd; background-color: #272822; font-weight: bold\">  </span><span style=\"color: #656660; text-decoration-color: #656660; background-color: #272822\">8 </span><span style=\"color: #f8f8f2; text-decoration-color: #f8f8f2; background-color: #272822\">final_answer(</span><span style=\"color: #e6db74; text-decoration-color: #e6db74; background-color: #272822\">\"No, Walmart and Costco do not cater to the same target audience. Walmart broadly targets busy families with an omni-channel model and low prices, while Costco appeals to those </span><span style=\"background-color: #272822\">  </span> │\n",
              "│ <span style=\"background-color: #272822\">    </span><span style=\"color: #e6db74; text-decoration-color: #e6db74; background-color: #272822\">seeking bulk purchasing through a membership-based model.\"</span><span style=\"color: #f8f8f2; text-decoration-color: #f8f8f2; background-color: #272822\">)</span><span style=\"background-color: #272822\">                                                                                                                                     </span> │\n",
              "╰──────────────────────────────────────────────────────────────────────────────────────────────────────────────────────────────────────────────────────────────────────────────────────────────────────╯\n",
              "</pre>\n"
            ]
          },
          "metadata": {}
        },
        {
          "output_type": "display_data",
          "data": {
            "text/plain": [
              "\u001b[1;38;2;212;183;2mOut - Final answer: No, Walmart and Costco do not cater to the same target audience. Walmart broadly targets busy families with an omni-channel model and low prices, while Costco appeals to those \u001b[0m\n",
              "\u001b[1;38;2;212;183;2mseeking bulk purchasing through a membership-based model.\u001b[0m\n"
            ],
            "text/html": [
              "<pre style=\"white-space:pre;overflow-x:auto;line-height:normal;font-family:Menlo,'DejaVu Sans Mono',consolas,'Courier New',monospace\"><span style=\"color: #d4b702; text-decoration-color: #d4b702; font-weight: bold\">Out - Final answer: No, Walmart and Costco do not cater to the same target audience. Walmart broadly targets busy families with an omni-channel model and low prices, while Costco appeals to those </span>\n",
              "<span style=\"color: #d4b702; text-decoration-color: #d4b702; font-weight: bold\">seeking bulk purchasing through a membership-based model.</span>\n",
              "</pre>\n"
            ]
          },
          "metadata": {}
        },
        {
          "output_type": "display_data",
          "data": {
            "text/plain": [
              "\u001b[2m[Step 1: Duration 4.32 seconds| Input tokens: 7,575 | Output tokens: 403]\u001b[0m\n"
            ],
            "text/html": [
              "<pre style=\"white-space:pre;overflow-x:auto;line-height:normal;font-family:Menlo,'DejaVu Sans Mono',consolas,'Courier New',monospace\"><span style=\"color: #7f7f7f; text-decoration-color: #7f7f7f\">[Step 1: Duration 4.32 seconds| Input tokens: 7,575 | Output tokens: 403]</span>\n",
              "</pre>\n"
            ]
          },
          "metadata": {}
        },
        {
          "output_type": "stream",
          "name": "stdout",
          "text": [
            "Final answer:\n",
            "No, Walmart and Costco do not cater to the same target audience. Walmart broadly targets busy families with an omni-channel model and low prices, while Costco appeals to those seeking bulk purchasing through a membership-based model.\n"
          ]
        }
      ]
    },
    {
      "cell_type": "markdown",
      "source": [
        "In this example, Vanilla RAG fully failed to answer: _`I do not have enough context to answer the question.`_\n",
        "\n",
        "While the question may seem simple, it requires getting information about Walmart's target audience, Costco's target audience, and then comparing the two. A single step of retrieval on the original question may not be sufficient in this case.\n",
        "\n",
        "Agentic RAG split the question into two queries, collected the data, and made a comparison:\n",
        "\n",
        "_No, Walmart and Costco do not cater to the same target audience. Walmart broadly targets busy families with an omni-channel model and low prices, while Costco appeals to those seeking bulk purchasing through a membership-based model._\n",
        "\n",
        "Note that CodeAgent, as the name implies, calls the tools using Python code:\n",
        "\n",
        "```\n",
        "Code:                                                                                                                                                                                                   \n",
        "```py                                                                                                                                                                                                   \n",
        "walmart_info = retriever(query=\"What is Walmart's target audience?\")                                                                                                                                    \n",
        "print(\"Walmart's target audience information:\", walmart_info)                                                                                                                                                                                                                                                           \n",
        "costco_info = retriever(query=\"What is Costco's target audience?\")                                                                                                                                      \n",
        "print(\"Costco's target audience information:\", costco_info)                                                                                                                                             \n",
        "```<end_code>    \n",
        "```    "
      ],
      "metadata": {
        "id": "UF4LBJgeFtL6"
      }
    },
    {
      "cell_type": "markdown",
      "source": [
        "**Next steps**:\n",
        "\n",
        "If you'd like to improve the results further, regardless of which type of Agent you use, consider customizing the tool calling system prompt for the Agent. Here are the default system prompts that `smolagents` library uses for tool calling and for code agents: [here on GitHub](https://github.com/huggingface/smolagents/blob/681758ae84a8075038dc676d8af7262077bd00c3/src/smolagents/prompts.py). You can provide a custom `system_prompt` when initializing your agent. Try it with examples that are more representative of your use case, modified instructions, or promise a bigger imaginary bribe to your LLM for perfoming the task 😆.\n"
      ],
      "metadata": {
        "id": "smAog8_JC7sY"
      }
    },
    {
      "cell_type": "markdown",
      "source": [
        "## Conclusion\n",
        "\n",
        "As demonstrated in this tutorial, Agentic RAG can deliver higher-quality answers compared to Vanilla RAG by rephrasing queries, decomposing tasks, and leveraging multiple retrieval steps—all while using the same retriever, documents, and generation LLM. However, this improvement comes at a cost.\n",
        "\n",
        "First, Agentic RAG really should be using a more powerful LLM for two key reasons:\n",
        "\n",
        "* Longer context windows are necessary to handle multiple steps.\n",
        "* Error propagation can occur as agents perform multi-step processes, compounding mistakes if not managed carefully.\n",
        "* If you prefer to use `CodeAgent`, you need an LLM that has advanced coding capabilities, otherwise it just won't work.\n",
        "\n",
        "Second, Agentic RAG may be slower and will utilize more tokens.  While an AI agent can take multiple steps to improve results, it can also quickly burn through API credits. Choosing between Agentic RAG and Vanilla RAG requires careful consideration of your specific use case, performance requirements, and cost constraints.\n",
        "\n",
        "Lastly, regardless of the RAG approach you choose, success hinges on the quality and relevance of the data available for retrieval. Agentic RAG can reformulate queries or perform multiple retrievals to uncover information, but if that information isn't stored in AstraDB—or any other vector store—no retrieval strategy will compensate.\n",
        "\n",
        "**Good RAG starts with well-prepared data, and the [Unstructured Platform](https://unstructured.io/developers) simplifies this critical first step.** By enabling efficient ingestion, partitioning, and metadata enrichment of unstructured data, it ensures that your RAG pipeline is built on a solid foundation, unlocking its full potential.\n",
        "\n"
      ],
      "metadata": {
        "id": "sAWxsdBJKL4K"
      }
    }
  ]
}